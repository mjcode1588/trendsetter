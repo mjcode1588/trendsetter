{
 "cells": [
  {
   "cell_type": "markdown",
   "id": "fd510dcf-85b2-4396-858c-a14a37960c76",
   "metadata": {},
   "source": [
    "## Import"
   ]
  },
  {
   "cell_type": "code",
   "execution_count": 2,
   "id": "5c415d9d-1111-46ed-bc2d-849c75ab962a",
   "metadata": {},
   "outputs": [],
   "source": [
    "import pandas as pd\n",
    "import random\n",
    "import os\n",
    "import numpy as np\n",
    "\n",
    "from sklearn.linear_model import LinearRegression\n",
    "from sklearn.multioutput import MultiOutputRegressor"
   ]
  },
  {
   "cell_type": "code",
   "execution_count": 3,
   "id": "edae871a-b31b-4f06-bb88-0fd1f6660b13",
   "metadata": {},
   "outputs": [],
   "source": [
    "def seed_everything(seed):\n",
    "    random.seed(seed)\n",
    "    os.environ['PYTHONHASHSEED'] = str(seed)\n",
    "    np.random.seed(seed)\n",
    "seed_everything(42) # Seed 고정"
   ]
  },
  {
   "cell_type": "markdown",
   "id": "18003e8e-4227-4e98-98de-0861ba8dc6cc",
   "metadata": {},
   "source": [
    "## Data Load"
   ]
  },
  {
   "cell_type": "code",
   "execution_count": 4,
   "id": "ee76c413-001b-475e-9d1c-6662d25d2db2",
   "metadata": {},
   "outputs": [],
   "source": [
    "train_df = pd.read_csv('./train.csv')"
   ]
  },
  {
   "cell_type": "code",
   "execution_count": 5,
   "id": "ffc6afcd-a059-4c16-81a5-ab3d4d750a41",
   "metadata": {},
   "outputs": [],
   "source": [
    "train_x = train_df.filter(regex='X') # Input : X Featrue\n",
    "train_y = train_df.filter(regex='Y') # Output : Y Feature"
   ]
  },
  {
   "cell_type": "markdown",
   "id": "d8ddc03e-78a5-4ffe-acdb-7c97e9b5fe09",
   "metadata": {},
   "source": [
    "## Regression Model Fit"
   ]
  },
  {
   "cell_type": "code",
   "execution_count": 6,
   "id": "c6ca77bc-154c-4cb3-9251-3fe45d671416",
   "metadata": {},
   "outputs": [
    {
     "name": "stdout",
     "output_type": "stream",
     "text": [
      "Done.\n"
     ]
    }
   ],
   "source": [
    "LR = MultiOutputRegressor(LinearRegression()).fit(train_x, train_y)\n",
    "print('Done.')"
   ]
  },
  {
   "cell_type": "code",
   "execution_count": 7,
   "id": "bceac923",
   "metadata": {},
   "outputs": [
    {
     "data": {
      "text/html": [
       "<div>\n",
       "<style scoped>\n",
       "    .dataframe tbody tr th:only-of-type {\n",
       "        vertical-align: middle;\n",
       "    }\n",
       "\n",
       "    .dataframe tbody tr th {\n",
       "        vertical-align: top;\n",
       "    }\n",
       "\n",
       "    .dataframe thead th {\n",
       "        text-align: right;\n",
       "    }\n",
       "</style>\n",
       "<table border=\"1\" class=\"dataframe\">\n",
       "  <thead>\n",
       "    <tr style=\"text-align: right;\">\n",
       "      <th></th>\n",
       "      <th>Y_01</th>\n",
       "      <th>Y_02</th>\n",
       "      <th>Y_03</th>\n",
       "      <th>Y_04</th>\n",
       "      <th>Y_05</th>\n",
       "      <th>Y_06</th>\n",
       "      <th>Y_07</th>\n",
       "      <th>Y_08</th>\n",
       "      <th>Y_09</th>\n",
       "      <th>Y_10</th>\n",
       "      <th>Y_11</th>\n",
       "      <th>Y_12</th>\n",
       "      <th>Y_13</th>\n",
       "      <th>Y_14</th>\n",
       "    </tr>\n",
       "  </thead>\n",
       "  <tbody>\n",
       "    <tr>\n",
       "      <th>0</th>\n",
       "      <td>2.056</td>\n",
       "      <td>1.456</td>\n",
       "      <td>1.680</td>\n",
       "      <td>10.502</td>\n",
       "      <td>29.632</td>\n",
       "      <td>16.083</td>\n",
       "      <td>4.276</td>\n",
       "      <td>-25.381</td>\n",
       "      <td>-25.529</td>\n",
       "      <td>-22.769</td>\n",
       "      <td>23.792</td>\n",
       "      <td>-25.470</td>\n",
       "      <td>-25.409</td>\n",
       "      <td>-25.304</td>\n",
       "    </tr>\n",
       "    <tr>\n",
       "      <th>1</th>\n",
       "      <td>1.446</td>\n",
       "      <td>1.184</td>\n",
       "      <td>1.268</td>\n",
       "      <td>18.507</td>\n",
       "      <td>33.179</td>\n",
       "      <td>16.736</td>\n",
       "      <td>3.229</td>\n",
       "      <td>-26.619</td>\n",
       "      <td>-26.523</td>\n",
       "      <td>-22.574</td>\n",
       "      <td>24.691</td>\n",
       "      <td>-26.253</td>\n",
       "      <td>-26.497</td>\n",
       "      <td>-26.438</td>\n",
       "    </tr>\n",
       "    <tr>\n",
       "      <th>2</th>\n",
       "      <td>1.251</td>\n",
       "      <td>0.665</td>\n",
       "      <td>0.782</td>\n",
       "      <td>14.082</td>\n",
       "      <td>31.801</td>\n",
       "      <td>17.080</td>\n",
       "      <td>2.839</td>\n",
       "      <td>-26.238</td>\n",
       "      <td>-26.216</td>\n",
       "      <td>-22.169</td>\n",
       "      <td>24.649</td>\n",
       "      <td>-26.285</td>\n",
       "      <td>-26.215</td>\n",
       "      <td>-26.370</td>\n",
       "    </tr>\n",
       "    <tr>\n",
       "      <th>3</th>\n",
       "      <td>1.464</td>\n",
       "      <td>1.079</td>\n",
       "      <td>1.052</td>\n",
       "      <td>16.975</td>\n",
       "      <td>34.503</td>\n",
       "      <td>17.143</td>\n",
       "      <td>3.144</td>\n",
       "      <td>-25.426</td>\n",
       "      <td>-25.079</td>\n",
       "      <td>-21.765</td>\n",
       "      <td>24.913</td>\n",
       "      <td>-25.254</td>\n",
       "      <td>-25.021</td>\n",
       "      <td>-25.345</td>\n",
       "    </tr>\n",
       "    <tr>\n",
       "      <th>4</th>\n",
       "      <td>0.983</td>\n",
       "      <td>0.646</td>\n",
       "      <td>0.689</td>\n",
       "      <td>15.047</td>\n",
       "      <td>32.602</td>\n",
       "      <td>17.569</td>\n",
       "      <td>3.138</td>\n",
       "      <td>-25.376</td>\n",
       "      <td>-25.242</td>\n",
       "      <td>-21.072</td>\n",
       "      <td>25.299</td>\n",
       "      <td>-25.072</td>\n",
       "      <td>-25.195</td>\n",
       "      <td>-24.974</td>\n",
       "    </tr>\n",
       "    <tr>\n",
       "      <th>...</th>\n",
       "      <td>...</td>\n",
       "      <td>...</td>\n",
       "      <td>...</td>\n",
       "      <td>...</td>\n",
       "      <td>...</td>\n",
       "      <td>...</td>\n",
       "      <td>...</td>\n",
       "      <td>...</td>\n",
       "      <td>...</td>\n",
       "      <td>...</td>\n",
       "      <td>...</td>\n",
       "      <td>...</td>\n",
       "      <td>...</td>\n",
       "      <td>...</td>\n",
       "    </tr>\n",
       "    <tr>\n",
       "      <th>39602</th>\n",
       "      <td>1.382</td>\n",
       "      <td>1.215</td>\n",
       "      <td>1.263</td>\n",
       "      <td>10.874</td>\n",
       "      <td>29.194</td>\n",
       "      <td>16.582</td>\n",
       "      <td>3.410</td>\n",
       "      <td>-26.486</td>\n",
       "      <td>-26.581</td>\n",
       "      <td>-22.772</td>\n",
       "      <td>24.261</td>\n",
       "      <td>-26.491</td>\n",
       "      <td>-26.584</td>\n",
       "      <td>-26.580</td>\n",
       "    </tr>\n",
       "    <tr>\n",
       "      <th>39603</th>\n",
       "      <td>1.482</td>\n",
       "      <td>0.606</td>\n",
       "      <td>1.083</td>\n",
       "      <td>8.759</td>\n",
       "      <td>29.859</td>\n",
       "      <td>15.659</td>\n",
       "      <td>3.406</td>\n",
       "      <td>-27.308</td>\n",
       "      <td>-27.203</td>\n",
       "      <td>-24.674</td>\n",
       "      <td>23.427</td>\n",
       "      <td>-27.250</td>\n",
       "      <td>-27.334</td>\n",
       "      <td>-27.325</td>\n",
       "    </tr>\n",
       "    <tr>\n",
       "      <th>39604</th>\n",
       "      <td>1.117</td>\n",
       "      <td>1.154</td>\n",
       "      <td>0.993</td>\n",
       "      <td>13.159</td>\n",
       "      <td>24.720</td>\n",
       "      <td>16.823</td>\n",
       "      <td>3.215</td>\n",
       "      <td>-26.502</td>\n",
       "      <td>-26.687</td>\n",
       "      <td>-22.577</td>\n",
       "      <td>24.301</td>\n",
       "      <td>-26.388</td>\n",
       "      <td>-26.425</td>\n",
       "      <td>-26.601</td>\n",
       "    </tr>\n",
       "    <tr>\n",
       "      <th>39605</th>\n",
       "      <td>0.895</td>\n",
       "      <td>0.187</td>\n",
       "      <td>0.477</td>\n",
       "      <td>9.123</td>\n",
       "      <td>26.412</td>\n",
       "      <td>15.757</td>\n",
       "      <td>4.216</td>\n",
       "      <td>-26.760</td>\n",
       "      <td>-26.634</td>\n",
       "      <td>-24.066</td>\n",
       "      <td>23.305</td>\n",
       "      <td>-26.536</td>\n",
       "      <td>-26.751</td>\n",
       "      <td>-26.635</td>\n",
       "    </tr>\n",
       "    <tr>\n",
       "      <th>39606</th>\n",
       "      <td>1.147</td>\n",
       "      <td>0.348</td>\n",
       "      <td>0.852</td>\n",
       "      <td>10.421</td>\n",
       "      <td>30.745</td>\n",
       "      <td>16.781</td>\n",
       "      <td>3.307</td>\n",
       "      <td>-26.054</td>\n",
       "      <td>-26.251</td>\n",
       "      <td>-23.257</td>\n",
       "      <td>24.450</td>\n",
       "      <td>-26.224</td>\n",
       "      <td>-26.256</td>\n",
       "      <td>-26.093</td>\n",
       "    </tr>\n",
       "  </tbody>\n",
       "</table>\n",
       "<p>39607 rows × 14 columns</p>\n",
       "</div>"
      ],
      "text/plain": [
       "        Y_01   Y_02   Y_03    Y_04    Y_05    Y_06   Y_07    Y_08    Y_09  \\\n",
       "0      2.056  1.456  1.680  10.502  29.632  16.083  4.276 -25.381 -25.529   \n",
       "1      1.446  1.184  1.268  18.507  33.179  16.736  3.229 -26.619 -26.523   \n",
       "2      1.251  0.665  0.782  14.082  31.801  17.080  2.839 -26.238 -26.216   \n",
       "3      1.464  1.079  1.052  16.975  34.503  17.143  3.144 -25.426 -25.079   \n",
       "4      0.983  0.646  0.689  15.047  32.602  17.569  3.138 -25.376 -25.242   \n",
       "...      ...    ...    ...     ...     ...     ...    ...     ...     ...   \n",
       "39602  1.382  1.215  1.263  10.874  29.194  16.582  3.410 -26.486 -26.581   \n",
       "39603  1.482  0.606  1.083   8.759  29.859  15.659  3.406 -27.308 -27.203   \n",
       "39604  1.117  1.154  0.993  13.159  24.720  16.823  3.215 -26.502 -26.687   \n",
       "39605  0.895  0.187  0.477   9.123  26.412  15.757  4.216 -26.760 -26.634   \n",
       "39606  1.147  0.348  0.852  10.421  30.745  16.781  3.307 -26.054 -26.251   \n",
       "\n",
       "         Y_10    Y_11    Y_12    Y_13    Y_14  \n",
       "0     -22.769  23.792 -25.470 -25.409 -25.304  \n",
       "1     -22.574  24.691 -26.253 -26.497 -26.438  \n",
       "2     -22.169  24.649 -26.285 -26.215 -26.370  \n",
       "3     -21.765  24.913 -25.254 -25.021 -25.345  \n",
       "4     -21.072  25.299 -25.072 -25.195 -24.974  \n",
       "...       ...     ...     ...     ...     ...  \n",
       "39602 -22.772  24.261 -26.491 -26.584 -26.580  \n",
       "39603 -24.674  23.427 -27.250 -27.334 -27.325  \n",
       "39604 -22.577  24.301 -26.388 -26.425 -26.601  \n",
       "39605 -24.066  23.305 -26.536 -26.751 -26.635  \n",
       "39606 -23.257  24.450 -26.224 -26.256 -26.093  \n",
       "\n",
       "[39607 rows x 14 columns]"
      ]
     },
     "execution_count": 7,
     "metadata": {},
     "output_type": "execute_result"
    }
   ],
   "source": [
    "train_y"
   ]
  },
  {
   "cell_type": "markdown",
   "id": "ca6c1a72-b593-4caa-b042-4a7c581b3e46",
   "metadata": {},
   "source": [
    "## Inference"
   ]
  },
  {
   "cell_type": "code",
   "execution_count": 6,
   "id": "98aba1db-4653-42eb-9e28-0cbdd327bc04",
   "metadata": {},
   "outputs": [],
   "source": [
    "test_x = pd.read_csv('./test.csv').drop(columns=['ID'])"
   ]
  },
  {
   "cell_type": "code",
   "execution_count": 7,
   "id": "33b68656-3d7d-4221-b508-24d0d7622179",
   "metadata": {},
   "outputs": [
    {
     "name": "stdout",
     "output_type": "stream",
     "text": [
      "Done.\n"
     ]
    }
   ],
   "source": [
    "preds = LR.predict(test_x)\n",
    "print('Done.')"
   ]
  },
  {
   "cell_type": "markdown",
   "id": "0fc6e4f3",
   "metadata": {},
   "source": []
  },
  {
   "cell_type": "markdown",
   "id": "6f41cc9f-5cc4-4b03-9640-8c1982a7acad",
   "metadata": {},
   "source": [
    "## Submit"
   ]
  },
  {
   "cell_type": "code",
   "execution_count": 10,
   "id": "20c5e156-d7c4-400f-b552-0bb86ebfd3e3",
   "metadata": {},
   "outputs": [],
   "source": [
    "submit = pd.read_csv('./sample_submission.csv')"
   ]
  },
  {
   "cell_type": "code",
   "execution_count": 11,
   "id": "5b869ab6-6852-45a1-bc75-39dee40b583f",
   "metadata": {},
   "outputs": [
    {
     "name": "stdout",
     "output_type": "stream",
     "text": [
      "Done.\n"
     ]
    }
   ],
   "source": [
    "for idx, col in enumerate(submit.columns):\n",
    "    if col=='ID':\n",
    "        continue\n",
    "    submit[col] = preds[:,idx-1]\n",
    "print('Done.')"
   ]
  },
  {
   "cell_type": "code",
   "execution_count": 12,
   "id": "026b00cd-5680-4bf2-b7f8-0bea6ae8299e",
   "metadata": {},
   "outputs": [],
   "source": [
    "submit.to_csv('./submit.csv', index=False)"
   ]
  }
 ],
 "metadata": {
  "kernelspec": {
   "display_name": "Python 3.9.13 64-bit",
   "language": "python",
   "name": "python3"
  },
  "language_info": {
   "codemirror_mode": {
    "name": "ipython",
    "version": 3
   },
   "file_extension": ".py",
   "mimetype": "text/x-python",
   "name": "python",
   "nbconvert_exporter": "python",
   "pygments_lexer": "ipython3",
   "version": "3.9.13"
  },
  "vscode": {
   "interpreter": {
    "hash": "cf92aa13fedf815d5c8dd192b8d835913fde3e8bc926b2a0ad6cc74ef2ba3ca2"
   }
  }
 },
 "nbformat": 4,
 "nbformat_minor": 5
}
