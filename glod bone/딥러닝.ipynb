{
  "cells": [
    {
      "cell_type": "code",
      "execution_count": 90,
      "metadata": {
        "id": "jgREh4fF5PBp"
      },
      "outputs": [],
      "source": [
        "from sklearn.ensemble import RandomForestRegressor\n",
        "from sklearn.model_selection import cross_val_score\n",
        "import pandas as pd\n",
        "import numpy as np\n",
        "from sklearn.model_selection import GridSearchCV\n",
        "from sklearn.model_selection import train_test_split\n",
        "from sklearn.metrics import mean_squared_error\n",
        "import math\n",
        "from sklearn.multioutput import MultiOutputRegressor\n",
        "import matplotlib.pyplot as plt # 득점모델 변수 중요도\n",
        "\n",
        "import pandas as pd\n",
        "import random\n",
        "import os\n",
        "import numpy as np\n",
        "from sklearn.preprocessing import MinMaxScaler\n",
        "from sklearn.preprocessing import MaxAbsScaler\n",
        "import tensorflow as tf\n",
        "from sklearn.preprocessing import StandardScaler\n",
        "from sklearn.model_selection import train_test_split\n",
        "from sklearn.metrics import confusion_matrix\n",
        "import seaborn as sns\n",
        "%matplotlib inline"
      ]
    },
    {
      "cell_type": "code",
      "execution_count": 91,
      "metadata": {
        "id": "NQsMBs175PBt"
      },
      "outputs": [],
      "source": [
        "def seed_everything(seed):\n",
        "    random.seed(seed)\n",
        "    os.environ['PYTHONHASHSEED'] = str(seed)\n",
        "    np.random.seed(seed)\n",
        "seed_everything(42) # Seed 고정"
      ]
    },
    {
      "cell_type": "code",
      "execution_count": 92,
      "metadata": {
        "colab": {
          "base_uri": "https://localhost:8080/",
          "height": 363
        },
        "id": "Jwl5Vh-L5PBu",
        "outputId": "fcaae558-0475-469f-df92-282b1df4e070"
      },
      "outputs": [],
      "source": [
        "##train데이터 불러오기\n",
        "train_df = pd.read_csv('./train.csv')\n",
        "train_df.drop([ 'X_02', 'X_48', 'X_47', 'X_23', 'X_11', 'X_10', 'X_04'], inplace= True, axis=1) # 상관성 없는 컬럼 제거"
      ]
    },
    {
      "cell_type": "code",
      "execution_count": 93,
      "metadata": {
        "id": "NxfwJ8oE5PBv"
      },
      "outputs": [],
      "source": [
        "train_df1 = train_df[(train_df['X_49']<10000)]\n",
        "train_df2 = train_df[(train_df['X_49']>=10000) & (train_df['X_49'] <50000)]\n",
        "train_df3 = train_df[(train_df['X_49']>=50000)]\n"
      ]
    },
    {
      "cell_type": "code",
      "execution_count": null,
      "metadata": {},
      "outputs": [],
      "source": []
    },
    {
      "cell_type": "code",
      "execution_count": 94,
      "metadata": {
        "id": "7TrZiNja5PBv"
      },
      "outputs": [],
      "source": [
        "train_x1 = train_df1.filter(regex='X')\n",
        "# train_x1['X_08'] = np.log2(train_x1['X_08']) \n",
        "train_y1 = train_df1.filter(regex='Y')\n",
        "train_x2 = train_df2.filter(regex='X')\n",
        "# train_x2['X_08'] = np.log2(train_x2['X_08']) \n",
        "train_y2 = train_df2.filter(regex='Y')\n",
        "train_x3 = train_df3.filter(regex='X')\n",
        "# train_x3['X_08'] = np.log2(train_x3['X_08']) \n",
        "train_y3 = train_df3.filter(regex='Y')\n"
      ]
    },
    {
      "cell_type": "code",
      "execution_count": 96,
      "metadata": {},
      "outputs": [
        {
          "data": {
            "text/plain": [
              "X_01    1587\n",
              "X_03    1587\n",
              "X_05    1587\n",
              "X_06    1587\n",
              "X_07    1587\n",
              "X_08    1587\n",
              "X_09    1587\n",
              "X_12    1587\n",
              "X_13    1587\n",
              "X_14    1587\n",
              "X_15    1587\n",
              "X_16    1587\n",
              "X_17    1587\n",
              "X_18    1587\n",
              "X_19    1587\n",
              "X_20    1587\n",
              "X_21    1587\n",
              "X_22    1587\n",
              "X_24    1587\n",
              "X_25    1587\n",
              "X_26    1587\n",
              "X_27    1587\n",
              "X_28    1587\n",
              "X_29    1587\n",
              "X_30    1587\n",
              "X_31    1587\n",
              "X_32    1587\n",
              "X_33    1587\n",
              "X_34    1587\n",
              "X_35    1587\n",
              "X_36    1587\n",
              "X_37    1587\n",
              "X_38    1587\n",
              "X_39    1587\n",
              "X_40    1587\n",
              "X_41    1587\n",
              "X_42    1587\n",
              "X_43    1587\n",
              "X_44    1587\n",
              "X_45    1587\n",
              "X_46    1587\n",
              "X_49    1587\n",
              "X_50    1587\n",
              "X_51    1587\n",
              "X_52    1587\n",
              "X_53    1587\n",
              "X_54    1587\n",
              "X_55    1587\n",
              "X_56    1587\n",
              "dtype: int64"
            ]
          },
          "execution_count": 96,
          "metadata": {},
          "output_type": "execute_result"
        }
      ],
      "source": [
        "train_x3.count()"
      ]
    },
    {
      "cell_type": "code",
      "execution_count": 103,
      "metadata": {
        "id": "RETvFTXc5PBw"
      },
      "outputs": [],
      "source": [
        "rf_run = RandomForestRegressor(random_state=42, max_features= 20, max_depth=20, min_samples_leaf=10, min_samples_split=10, n_estimators=100) ##145개\n",
        "LR1 = MultiOutputRegressor(rf_run).fit(train_x1, train_y1)"
      ]
    },
    {
      "cell_type": "code",
      "execution_count": 104,
      "metadata": {
        "colab": {
          "base_uri": "https://localhost:8080/"
        },
        "id": "EVQs2SbR5PBz",
        "outputId": "8ffcacfb-da40-45b4-9fb7-6a99fd3b5521"
      },
      "outputs": [
        {
          "name": "stdout",
          "output_type": "stream",
          "text": [
            "RMSE':0.9901665064636642\n"
          ]
        }
      ],
      "source": [
        "train_predict = LR1.predict(train_x1)\n",
        "print(\"RMSE':{}\".format(math.sqrt(mean_squared_error(train_predict, train_y1)))) ##훈련용데이터 대상 예측력1"
      ]
    },
    {
      "cell_type": "code",
      "execution_count": 99,
      "metadata": {
        "id": "b6XoczGu5PB0"
      },
      "outputs": [],
      "source": [
        "rf_run = RandomForestRegressor(random_state=42, max_features= 25, max_depth=30, min_samples_leaf=10, min_samples_split=10,n_estimators=200) ##1666개\n",
        "LR2 = MultiOutputRegressor(rf_run).fit(train_x2, train_y2)\n"
      ]
    },
    {
      "cell_type": "code",
      "execution_count": 100,
      "metadata": {},
      "outputs": [
        {
          "name": "stdout",
          "output_type": "stream",
          "text": [
            "RMSE':0.9043479043853093\n"
          ]
        }
      ],
      "source": [
        "train_predict = LR2.predict(train_x2)\n",
        "print(\"RMSE':{}\".format(math.sqrt(mean_squared_error(train_predict, train_y2)))) ##훈련용데이터 대상 예측력2"
      ]
    },
    {
      "cell_type": "code",
      "execution_count": 101,
      "metadata": {},
      "outputs": [],
      "source": [
        "rf_run = RandomForestRegressor(random_state=42, max_features= 25, max_depth=20, min_samples_leaf=10, min_samples_split=10,n_estimators=100) ##49개\n",
        "LR3 = MultiOutputRegressor(rf_run).fit(train_x3, train_y3)\n"
      ]
    },
    {
      "cell_type": "code",
      "execution_count": 102,
      "metadata": {},
      "outputs": [
        {
          "name": "stdout",
          "output_type": "stream",
          "text": [
            "RMSE':0.8203713526043334\n"
          ]
        }
      ],
      "source": [
        "train_predict = LR3.predict(train_x3)\n",
        "print(\"RMSE':{}\".format(math.sqrt(mean_squared_error(train_predict, train_y3)))) ##훈련용데이터 대상 예측력2"
      ]
    },
    {
      "cell_type": "code",
      "execution_count": 105,
      "metadata": {
        "id": "gzQLSq-E5PB3"
      },
      "outputs": [],
      "source": [
        "##test데이터 불러오기\n",
        "test_df = pd.read_csv('./test.csv').drop(columns=['ID'])\n",
        "test_df.drop([ 'X_02', 'X_48', 'X_47', 'X_23', 'X_11', 'X_10', 'X_04'], inplace= True, axis=1) # 상관성 없는 컬럼 제거\n"
      ]
    },
    {
      "cell_type": "code",
      "execution_count": 106,
      "metadata": {
        "id": "G9-AXss65PB3"
      },
      "outputs": [],
      "source": [
        "test_df1 = test_df[ (test_df['X_08'] <90)]\n",
        "test_df2 = test_df[(test_df['X_08'] >=90) &(test_df['X_08'] <600)]\n",
        "test_df3 = test_df[(test_df['X_08'] >=600)]\n"
      ]
    },
    {
      "cell_type": "code",
      "execution_count": 79,
      "metadata": {},
      "outputs": [
        {
          "data": {
            "text/plain": [
              "X_01    881\n",
              "X_03    881\n",
              "X_05    881\n",
              "X_06    881\n",
              "X_07    881\n",
              "X_08    881\n",
              "X_09    881\n",
              "X_12    881\n",
              "X_13    881\n",
              "X_14    881\n",
              "X_15    881\n",
              "X_16    881\n",
              "X_17    881\n",
              "X_18    881\n",
              "X_19    881\n",
              "X_20    881\n",
              "X_21    881\n",
              "X_22    881\n",
              "X_24    881\n",
              "X_25    881\n",
              "X_26    881\n",
              "X_27    881\n",
              "X_28    881\n",
              "X_29    881\n",
              "X_30    881\n",
              "X_31    881\n",
              "X_32    881\n",
              "X_33    881\n",
              "X_34    881\n",
              "X_35    881\n",
              "X_36    881\n",
              "X_37    881\n",
              "X_38    881\n",
              "X_39    881\n",
              "X_40    881\n",
              "X_41    881\n",
              "X_42    881\n",
              "X_43    881\n",
              "X_44    881\n",
              "X_45    881\n",
              "X_46    881\n",
              "X_49    881\n",
              "X_50    881\n",
              "X_51    881\n",
              "X_52    881\n",
              "X_53    881\n",
              "X_54    881\n",
              "X_55    881\n",
              "X_56    881\n",
              "dtype: int64"
            ]
          },
          "execution_count": 79,
          "metadata": {},
          "output_type": "execute_result"
        }
      ],
      "source": [
        "test_df3.count()"
      ]
    },
    {
      "cell_type": "markdown",
      "metadata": {},
      "source": []
    },
    {
      "cell_type": "code",
      "execution_count": 107,
      "metadata": {},
      "outputs": [],
      "source": [
        "df1_index = test_df1.index\n",
        "df2_index = test_df2.index\n",
        "df3_index = test_df3.index\n"
      ]
    },
    {
      "cell_type": "code",
      "execution_count": 25,
      "metadata": {
        "id": "QZjQwbhGCYAm"
      },
      "outputs": [],
      "source": [
        "# minmax_scaler =MinMaxScaler()\n",
        "# test_df1 =minmax_scaler.fit_transform(test_df1)\n",
        "# test_df2 =minmax_scaler.fit_transform(test_df2)\n",
        "# test_df3 =minmax_scaler.fit_transform(test_df3)"
      ]
    },
    {
      "cell_type": "code",
      "execution_count": 108,
      "metadata": {
        "colab": {
          "base_uri": "https://localhost:8080/"
        },
        "id": "UInnnZMZ5PB4",
        "outputId": "3853440b-8d4b-4c85-acaa-d03bd2f2818f"
      },
      "outputs": [],
      "source": [
        "pred1 = LR1.predict(test_df1)\n",
        "pred1 = pd.DataFrame(pred1)\n",
        "pred1.index = df1_index\n",
        "\n",
        "pred2 = LR2.predict(test_df2)\n",
        "pred2 = pd.DataFrame(pred2)\n",
        "pred2.index = df2_index\n",
        "\n",
        "pred3 = LR3.predict(test_df3)\n",
        "pred3 = pd.DataFrame(pred3)\n",
        "pred3.index = df3_index\n",
        "\n"
      ]
    },
    {
      "cell_type": "code",
      "execution_count": 109,
      "metadata": {
        "id": "KYLv4aMO5PB7"
      },
      "outputs": [],
      "source": [
        "pred = pd.concat([pred1,pred2,pred3])"
      ]
    },
    {
      "cell_type": "code",
      "execution_count": 29,
      "metadata": {
        "id": "mlJ9UuvO5PB7"
      },
      "outputs": [],
      "source": []
    },
    {
      "cell_type": "code",
      "execution_count": 110,
      "metadata": {
        "id": "G9sQgjWw5PB7"
      },
      "outputs": [],
      "source": [
        "pred = pred.sort_index(ascending=True) ##인덱스 순서대로 오름차순 정렬"
      ]
    },
    {
      "cell_type": "code",
      "execution_count": 111,
      "metadata": {
        "id": "5HFFiJF45PB7"
      },
      "outputs": [],
      "source": [
        "pred = np.array(pred)"
      ]
    },
    {
      "cell_type": "code",
      "execution_count": 112,
      "metadata": {
        "colab": {
          "base_uri": "https://localhost:8080/"
        },
        "id": "K5fO6aGe5PB7",
        "outputId": "f00b03e0-2df7-4fdf-adab-19f2267be5f5"
      },
      "outputs": [
        {
          "data": {
            "text/plain": [
              "array([[  1.28564565,   0.98106507,   0.93578682, ..., -26.27108152,\n",
              "        -26.2872318 , -26.30357126],\n",
              "       [  1.44528635,   1.21514702,   1.16010781, ..., -26.05478212,\n",
              "        -26.09591719, -26.10191364],\n",
              "       [  1.37594192,   1.15860823,   1.07493904, ..., -25.81650483,\n",
              "        -25.80752161, -25.8966094 ],\n",
              "       ...,\n",
              "       [  1.27794612,   0.93196453,   0.94953653, ..., -26.34312411,\n",
              "        -26.42068383, -26.30797577],\n",
              "       [  1.22213002,   0.85059354,   0.89761933, ..., -26.25964733,\n",
              "        -26.35938338, -26.36891744],\n",
              "       [  1.31627899,   0.97441338,   0.96797953, ..., -26.41535649,\n",
              "        -26.39162443, -26.38063093]])"
            ]
          },
          "execution_count": 112,
          "metadata": {},
          "output_type": "execute_result"
        }
      ],
      "source": [
        "pred"
      ]
    },
    {
      "cell_type": "code",
      "execution_count": 113,
      "metadata": {
        "id": "55UoW_6n5PB8"
      },
      "outputs": [],
      "source": [
        "submit = pd.read_csv('./sample_submission.csv')"
      ]
    },
    {
      "cell_type": "code",
      "execution_count": 114,
      "metadata": {
        "colab": {
          "base_uri": "https://localhost:8080/"
        },
        "id": "S9IoAgK95PB8",
        "outputId": "390f8b46-1242-472e-97ad-1cf706b43881"
      },
      "outputs": [
        {
          "name": "stdout",
          "output_type": "stream",
          "text": [
            "Done.\n"
          ]
        }
      ],
      "source": [
        "for idx, col in enumerate(submit.columns):\n",
        "    if col=='ID':\n",
        "        continue\n",
        "    submit[col] = pred[:,idx-1]\n",
        "print('Done.')"
      ]
    },
    {
      "cell_type": "code",
      "execution_count": 115,
      "metadata": {
        "id": "PP77Rfii5PB8"
      },
      "outputs": [],
      "source": [
        "submit.to_csv('./rfbin49.csv', index=False)"
      ]
    },
    {
      "cell_type": "code",
      "execution_count": null,
      "metadata": {
        "id": "QwibOaYB5PB9"
      },
      "outputs": [],
      "source": [
        "from sklearn.model_selection import GridSearchCV\n",
        " \n",
        "param_grid = [\n",
        "        {'n_estimators': [ 100, 150, 200],, 'max_depth':[30,35]}\n",
        "        \n",
        "    ]\n",
        "forest_reg = RandomForestRegressor()\n",
        " \n",
        "grid_search = GridSearchCV(forest_reg, param_grid, cv=5,\n",
        "                           scoring='neg_mean_squared_error',\n",
        "                           return_train_score=True)\n",
        " \n",
        "grid_search.fit(train_x2, train_y2)"
      ]
    },
    {
      "cell_type": "code",
      "execution_count": null,
      "metadata": {
        "id": "1fRk6rA3Cz0X"
      },
      "outputs": [],
      "source": [
        "print(grid_search.best_params_)"
      ]
    }
  ],
  "metadata": {
    "colab": {
      "collapsed_sections": [],
      "machine_shape": "hm",
      "name": "변수나눠주기.ipynb",
      "provenance": []
    },
    "gpuClass": "standard",
    "kernelspec": {
      "display_name": "Python 3.9.13 64-bit",
      "language": "python",
      "name": "python3"
    },
    "language_info": {
      "codemirror_mode": {
        "name": "ipython",
        "version": 3
      },
      "file_extension": ".py",
      "mimetype": "text/x-python",
      "name": "python",
      "nbconvert_exporter": "python",
      "pygments_lexer": "ipython3",
<<<<<<< HEAD
      "version": "3.8.7"
=======
      "version": "3.9.13"
>>>>>>> da984774a14c986932fa89bfaca4849d3fc2ae31
    },
    "orig_nbformat": 4,
    "vscode": {
      "interpreter": {
        "hash": "cf92aa13fedf815d5c8dd192b8d835913fde3e8bc926b2a0ad6cc74ef2ba3ca2"
      }
    }
  },
  "nbformat": 4,
  "nbformat_minor": 0
}
