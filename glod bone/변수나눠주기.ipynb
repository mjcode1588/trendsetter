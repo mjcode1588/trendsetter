{
  "cells": [
    {
      "cell_type": "code",
      "execution_count": 2,
      "metadata": {
        "id": "jgREh4fF5PBp"
      },
      "outputs": [],
      "source": [
        "from sklearn.ensemble import RandomForestRegressor\n",
        "from sklearn.model_selection import cross_val_score\n",
        "import pandas as pd\n",
        "import numpy as np\n",
        "from sklearn.model_selection import GridSearchCV\n",
        "from sklearn.model_selection import train_test_split\n",
        "from sklearn.metrics import mean_squared_error\n",
        "import math\n",
        "from sklearn.multioutput import MultiOutputRegressor\n",
        "import matplotlib.pyplot as plt # 득점모델 변수 중요도\n",
        "import seaborn as sns\n",
        "import pandas as pd\n",
        "import random\n",
        "import os\n",
        "import numpy as np\n",
        "from sklearn.preprocessing import MinMaxScaler\n",
        "%matplotlib inline"
      ]
    },
    {
      "cell_type": "code",
      "execution_count": 2,
      "metadata": {
        "id": "NQsMBs175PBt"
      },
      "outputs": [],
      "source": [
        "def seed_everything(seed):\n",
        "    random.seed(seed)\n",
        "    os.environ['PYTHONHASHSEED'] = str(seed)\n",
        "    np.random.seed(seed)\n",
        "seed_everything(42) # Seed 고정"
      ]
    },
    {
      "cell_type": "code",
      "execution_count": 3,
      "metadata": {
        "colab": {
          "base_uri": "https://localhost:8080/",
          "height": 363
        },
        "id": "Jwl5Vh-L5PBu",
        "outputId": "fcaae558-0475-469f-df92-282b1df4e070"
      },
      "outputs": [],
      "source": [
        "##train데이터 불러오기\n",
        "train_df = pd.read_csv('./train.csv')\n",
        "train_df.drop([ 'X_02', 'X_48', 'X_47', 'X_23', 'X_11', 'X_10', 'X_04'], inplace= True, axis=1) # 상관성 없는 컬럼 제거"
      ]
    },
    {
      "cell_type": "code",
      "execution_count": 4,
      "metadata": {},
      "outputs": [
        {
          "data": {
            "text/plain": [
              "count    39607.000000\n",
              "mean       225.397470\n",
              "std         66.734725\n",
              "min         37.580000\n",
              "25%        188.540000\n",
              "50%        234.450000\n",
              "75%        263.960000\n",
              "max        637.490000\n",
              "Name: X_09, dtype: float64"
            ]
          },
          "execution_count": 4,
          "metadata": {},
          "output_type": "execute_result"
        }
      ],
      "source": [
        "train_df['X_09'].describe()"
      ]
    },
    {
      "cell_type": "code",
      "execution_count": 5,
      "metadata": {
        "id": "NxfwJ8oE5PBv"
      },
      "outputs": [],
      "source": [
        "train_df1 = train_df[train_df['X_49']<10000]\n",
        "train_df2 = train_df[train_df['X_49']>=10000]\n",
        "train_df2 = train_df2[train_df2['X_49']<50000]\n",
        "train_df3 = train_df[train_df['X_49']>=50000] ##구간화해주기"
      ]
    },
    {
      "cell_type": "code",
      "execution_count": 7,
      "metadata": {
        "id": "L7dJ8pdGBq4Y"
      },
      "outputs": [],
      "source": [
        "minmax_scaler =MinMaxScaler()\n"
      ]
    },
    {
      "cell_type": "code",
      "execution_count": 8,
      "metadata": {
        "id": "7TrZiNja5PBv"
      },
      "outputs": [],
      "source": [
        "train_x1 = train_df1.filter(regex='X') # Input : X Featrue\n",
        "train_x1 = minmax_scaler.fit_transform(train_x1)\n",
        "train_y1 = train_df1.filter(regex='Y') # Output : Y Feature"
      ]
    },
    {
      "cell_type": "code",
      "execution_count": 67,
      "metadata": {
        "id": "RETvFTXc5PBw"
      },
      "outputs": [],
      "source": [
        "rf_run = RandomForestRegressor(random_state=42, max_depth=30, n_estimators=150)\n",
        "LR1 = MultiOutputRegressor(rf_run).fit(train_x1, train_y1)"
      ]
    },
    {
      "cell_type": "code",
      "execution_count": 68,
      "metadata": {
        "colab": {
          "base_uri": "https://localhost:8080/"
        },
        "id": "EVQs2SbR5PBz",
        "outputId": "8ffcacfb-da40-45b4-9fb7-6a99fd3b5521"
      },
      "outputs": [
        {
          "name": "stdout",
          "output_type": "stream",
          "text": [
            "RMSE':0.4629847163789359\n"
          ]
        }
      ],
      "source": [
        "train_predict = LR1.predict(train_x1)\n",
        "print(\"RMSE':{}\".format(math.sqrt(mean_squared_error(train_predict, train_y1)))) ##훈련용데이터 대상 예측력1"
      ]
    },
    {
      "cell_type": "code",
      "execution_count": 11,
      "metadata": {
        "id": "aAxja7zE5PB0"
      },
      "outputs": [],
      "source": [
        "train_x2 = train_df2.filter(regex='X') # Input : X Featrue\n",
        "train_x2 = minmax_scaler.fit_transform(train_x2)\n",
        "train_y2 = train_df2.filter(regex='Y') # Output : Y Feature"
      ]
    },
    {
      "cell_type": "code",
      "execution_count": 12,
      "metadata": {
        "id": "b6XoczGu5PB0"
      },
      "outputs": [],
      "source": [
        "rf_run = RandomForestRegressor(random_state=0, max_depth=30, min_samples_leaf=6, min_samples_split=12,n_estimators=150)\n",
        "LR2 = MultiOutputRegressor(rf_run).fit(train_x2, train_y2)"
      ]
    },
    {
      "cell_type": "code",
      "execution_count": 13,
      "metadata": {
        "colab": {
          "base_uri": "https://localhost:8080/"
        },
        "id": "zldFsnsU5PB1",
        "outputId": "48614a64-dd94-4b6b-fbb9-fb0e95f2ca0e"
      },
      "outputs": [
        {
          "name": "stdout",
          "output_type": "stream",
          "text": [
            "RMSE':0.760225462583022\n"
          ]
        }
      ],
      "source": [
        "train_predict = LR2.predict(train_x2)\n",
        "print(\"RMSE':{}\".format(math.sqrt(mean_squared_error(train_predict, train_y2)))) ##훈련용데이터 대상 예측력2"
      ]
    },
    {
      "cell_type": "code",
      "execution_count": 14,
      "metadata": {
        "id": "hsWaY9AT5PB1"
      },
      "outputs": [],
      "source": [
        "train_x3 = train_df3.filter(regex='X') # Input : X Featrue\n",
        "train_x3 = minmax_scaler.fit_transform(train_x3)\n",
        "train_y3 = train_df3.filter(regex='Y') # Output : Y Feature"
      ]
    },
    {
      "cell_type": "code",
      "execution_count": 15,
      "metadata": {
        "id": "uGvZVoOz5PB2"
      },
      "outputs": [],
      "source": [
        "rf_run = RandomForestRegressor(random_state=0, max_depth=30, min_samples_leaf=6, min_samples_split=12,n_estimators=150)\n",
        "LR3 = MultiOutputRegressor(rf_run).fit(train_x3, train_y3)"
      ]
    },
    {
      "cell_type": "code",
      "execution_count": 16,
      "metadata": {
        "colab": {
          "base_uri": "https://localhost:8080/"
        },
        "id": "5JcS6Zqn5PB2",
        "outputId": "fb0bdc02-aec0-4ca1-f7b3-3075029ee29e"
      },
      "outputs": [
        {
          "name": "stdout",
          "output_type": "stream",
          "text": [
            "RMSE':0.7226532059070748\n"
          ]
        }
      ],
      "source": [
        "train_predict = LR3.predict(train_x3)\n",
        "print(\"RMSE':{}\".format(math.sqrt(mean_squared_error(train_predict, train_y3)))) ##훈련용데이터 대상 예측력3"
      ]
    },
    {
      "cell_type": "code",
      "execution_count": 22,
      "metadata": {
        "id": "gzQLSq-E5PB3"
      },
      "outputs": [],
      "source": [
        "##test데이터 불러오기\n",
        "test_df = pd.read_csv('./test.csv').drop(columns=['ID'])\n",
        "test_df.drop([ 'X_02', 'X_48', 'X_47', 'X_23', 'X_11', 'X_10', 'X_04'], inplace= True, axis=1) # 상관성 없는 컬럼 제거\n"
      ]
    },
    {
      "cell_type": "code",
      "execution_count": 23,
      "metadata": {
        "id": "G9-AXss65PB3"
      },
      "outputs": [],
      "source": [
        "test_df1 = test_df[test_df['X_49']<10000]\n",
        "test_df2 = test_df[test_df['X_49']>=10000]\n",
        "test_df2 = test_df2[test_df2['X_49']<50000]\n",
        "test_df3 = test_df[test_df['X_49']>=50000] ##test데이터 구간화"
      ]
    },
    {
      "cell_type": "code",
      "execution_count": null,
      "metadata": {},
      "outputs": [],
      "source": [
        "df1_index = test_df1.index\n",
        "df2_index = test_df2.index\n",
        "df3_index = test_df3.index #인덱싱해주기"
      ]
    },
    {
      "cell_type": "code",
      "execution_count": 25,
      "metadata": {
        "id": "QZjQwbhGCYAm"
      },
      "outputs": [],
      "source": [
        "minmax_scaler =MinMaxScaler()\n",
        "test_df1 =minmax_scaler.fit_transform(test_df1)\n",
        "test_df2 =minmax_scaler.fit_transform(test_df2)\n",
        "test_df3 =minmax_scaler.fit_transform(test_df3)"
      ]
    },
    {
      "cell_type": "code",
      "execution_count": 26,
      "metadata": {
        "id": "j5BO5awL5PB3",
        "outputId": "f063b627-f823-4023-cbf3-ad15649d77f0"
      },
      "outputs": [
        {
          "data": {
            "text/plain": [
              "array([[0.59998039, 0.21311475, 0.99847793, ..., 0.53679711, 0.        ,\n",
              "        0.15854289],\n",
              "       [0.24997548, 0.28688525, 0.04946728, ..., 0.8478334 , 0.65814473,\n",
              "        0.16658675],\n",
              "       [0.44998529, 0.10655738, 0.99086758, ..., 0.49725653, 0.47401697,\n",
              "        0.30835604],\n",
              "       ...,\n",
              "       [0.44998529, 0.1352459 , 0.99162861, ..., 0.54069241, 0.41030808,\n",
              "        0.39356819],\n",
              "       [0.3500049 , 0.05737705, 0.99086758, ..., 0.63975351, 0.33747059,\n",
              "        0.5360182 ],\n",
              "       [0.54996568, 0.11065574, 0.99847793, ..., 0.7154328 , 0.51404529,\n",
              "        0.18414661]])"
            ]
          },
          "execution_count": 26,
          "metadata": {},
          "output_type": "execute_result"
        }
      ],
      "source": [
        "test_df3"
      ]
    },
    {
      "cell_type": "code",
      "execution_count": 24,
      "metadata": {
        "id": "DGPllbUy5PB4"
      },
      "outputs": [],
      "source": [
        "df1_index = test_df1.index\n",
        "df2_index = test_df2.index\n",
        "df3_index = test_df3.index #인덱싱해주기"
      ]
    },
    {
      "cell_type": "code",
      "execution_count": null,
      "metadata": {
        "id": "ed8CjwkG5PB4",
        "outputId": "b345f0a7-032a-4729-886f-6b83bac9b8a4"
      },
      "outputs": [
        {
          "data": {
            "text/plain": [
              "Int64Index([   11,    23,    31,    65,    66,    76,    77,   153,   226,\n",
              "              254,\n",
              "            ...\n",
              "            39549, 39550, 39552, 39553, 39580, 39583, 39588, 39589, 39591,\n",
              "            39592],\n",
              "           dtype='int64', length=1874)"
            ]
          },
          "execution_count": 22,
          "metadata": {},
          "output_type": "execute_result"
        }
      ],
      "source": []
    },
    {
      "cell_type": "code",
      "execution_count": 27,
      "metadata": {
        "colab": {
          "base_uri": "https://localhost:8080/"
        },
        "id": "UInnnZMZ5PB4",
        "outputId": "3853440b-8d4b-4c85-acaa-d03bd2f2818f"
      },
      "outputs": [
        {
          "name": "stdout",
          "output_type": "stream",
          "text": [
            "Done.\n"
          ]
        }
      ],
      "source": [
        "pred1 = LR1.predict(test_df1)\n",
        "print('Done.')"
      ]
    },
    {
      "cell_type": "code",
      "execution_count": 28,
      "metadata": {
        "id": "oC0o_7DE5PB5"
      },
      "outputs": [],
      "source": [
        "pred1 = pd.DataFrame(pred1) ##데이터프레임으로 변환한 후 인덱싱 해주는 작업"
      ]
    },
    {
      "cell_type": "code",
      "execution_count": 29,
      "metadata": {
        "id": "w9hD6kqT5PB5"
      },
      "outputs": [],
      "source": [
        "pred1.index = df1_index"
      ]
    },
    {
      "cell_type": "code",
      "execution_count": 30,
      "metadata": {
        "id": "1VxA2FKq5PB5"
      },
      "outputs": [],
      "source": [
        "pred2 = LR2.predict(test_df2)"
      ]
    },
    {
      "cell_type": "code",
      "execution_count": 31,
      "metadata": {
        "id": "-A2CpGo95PB6"
      },
      "outputs": [],
      "source": [
        "pred2 = pd.DataFrame(pred2)"
      ]
    },
    {
      "cell_type": "code",
      "execution_count": 32,
      "metadata": {
        "id": "5bf5D5tm5PB6"
      },
      "outputs": [],
      "source": [
        "pred2.index =df2_index"
      ]
    },
    {
      "cell_type": "code",
      "execution_count": 33,
      "metadata": {
        "id": "0GfERfFp5PB6"
      },
      "outputs": [],
      "source": [
        "pred3 = LR3.predict(test_df3)"
      ]
    },
    {
      "cell_type": "code",
      "execution_count": 34,
      "metadata": {
        "id": "e_FAizsl5PB6"
      },
      "outputs": [],
      "source": [
        "pred3 = pd.DataFrame(pred3)"
      ]
    },
    {
      "cell_type": "code",
      "execution_count": 35,
      "metadata": {
        "id": "1kCntCTt5PB6"
      },
      "outputs": [],
      "source": [
        "pred3.index = df3_index"
      ]
    },
    {
      "cell_type": "code",
      "execution_count": 36,
      "metadata": {
        "id": "KYLv4aMO5PB7"
      },
      "outputs": [],
      "source": [
        "pred = pd.concat([pred1,pred2,pred3])"
      ]
    },
    {
      "cell_type": "code",
      "execution_count": 29,
      "metadata": {
        "id": "mlJ9UuvO5PB7"
      },
      "outputs": [],
      "source": []
    },
    {
      "cell_type": "code",
      "execution_count": 37,
      "metadata": {
        "id": "G9sQgjWw5PB7"
      },
      "outputs": [],
      "source": [
        "pred = pred.sort_index(ascending=True) ##인덱스 순서대로 오름차순 정렬"
      ]
    },
    {
      "cell_type": "code",
      "execution_count": 38,
      "metadata": {
        "id": "5HFFiJF45PB7"
      },
      "outputs": [],
      "source": [
        "pred = np.array(pred)"
      ]
    },
    {
      "cell_type": "code",
      "execution_count": 39,
      "metadata": {
        "colab": {
          "base_uri": "https://localhost:8080/"
        },
        "id": "K5fO6aGe5PB7",
        "outputId": "f00b03e0-2df7-4fdf-adab-19f2267be5f5"
      },
      "outputs": [
        {
          "data": {
            "text/plain": [
              "array([[  1.39078896,   1.12836314,   1.11055434, ..., -25.97888386,\n",
              "        -26.01114903, -25.98709089],\n",
              "       [  1.51818298,   1.18696609,   1.11485295, ..., -26.22164218,\n",
              "        -26.17551507, -26.24135224],\n",
              "       [  1.38270441,   1.05840041,   1.05875849, ..., -26.04772615,\n",
              "        -26.06496415, -25.99151007],\n",
              "       ...,\n",
              "       [  1.23053461,   0.9191772 ,   0.98426849, ..., -26.42105793,\n",
              "        -26.3866029 , -26.4564471 ],\n",
              "       [  1.25086673,   0.89692599,   0.97765889, ..., -26.35528628,\n",
              "        -26.32761981, -26.42961987],\n",
              "       [  1.25989865,   0.9651157 ,   0.92458024, ..., -26.44140463,\n",
              "        -26.31288382, -26.42851355]])"
            ]
          },
          "execution_count": 39,
          "metadata": {},
          "output_type": "execute_result"
        }
      ],
      "source": [
        "pred"
      ]
    },
    {
      "cell_type": "code",
      "execution_count": 40,
      "metadata": {
        "id": "55UoW_6n5PB8"
      },
      "outputs": [],
      "source": [
        "submit = pd.read_csv('./sample_submission.csv')"
      ]
    },
    {
      "cell_type": "code",
      "execution_count": 41,
      "metadata": {
        "colab": {
          "base_uri": "https://localhost:8080/"
        },
        "id": "S9IoAgK95PB8",
        "outputId": "390f8b46-1242-472e-97ad-1cf706b43881"
      },
      "outputs": [
        {
          "name": "stdout",
          "output_type": "stream",
          "text": [
            "Done.\n"
          ]
        }
      ],
      "source": [
        "for idx, col in enumerate(submit.columns):\n",
        "    if col=='ID':\n",
        "        continue\n",
        "    submit[col] = pred[:,idx-1]\n",
        "print('Done.')"
      ]
    },
    {
      "cell_type": "code",
      "execution_count": 42,
      "metadata": {
        "id": "PP77Rfii5PB8"
      },
      "outputs": [],
      "source": [
        "submit.to_csv('./rfbin3.csv', index=False)"
      ]
    },
    {
      "cell_type": "code",
      "execution_count": null,
      "metadata": {
        "id": "QwibOaYB5PB9"
      },
      "outputs": [],
      "source": [
        "from sklearn.model_selection import GridSearchCV\n",
        " \n",
        "param_grid = [\n",
        "        {'n_estimators': [ 100, 150, 200], 'min_samples_leaf': [4,6,8], 'min_samples_split': [10,12,15], 'max_depth':[30,35]}\n",
        "        \n",
        "    ]\n",
        "forest_reg = RandomForestRegressor()\n",
        " \n",
        "grid_search = GridSearchCV(forest_reg, param_grid, cv=5,\n",
        "                           scoring='neg_mean_squared_error',\n",
        "                           return_train_score=True)\n",
        " \n",
        "grid_search.fit(train_x2, train_y2)"
      ]
    },
    {
      "cell_type": "code",
      "execution_count": null,
      "metadata": {
        "id": "1fRk6rA3Cz0X"
      },
      "outputs": [],
      "source": [
        "print(grid_search.best_params_)"
      ]
    }
  ],
  "metadata": {
    "colab": {
      "collapsed_sections": [],
      "machine_shape": "hm",
      "name": "변수나눠주기.ipynb",
      "provenance": []
    },
    "gpuClass": "standard",
    "kernelspec": {
      "display_name": "Python 3.8.7rc1 64-bit",
      "language": "python",
      "name": "python3"
    },
    "language_info": {
      "codemirror_mode": {
        "name": "ipython",
        "version": 3
      },
      "file_extension": ".py",
      "mimetype": "text/x-python",
      "name": "python",
      "nbconvert_exporter": "python",
      "pygments_lexer": "ipython3",
      "version": "3.8.7rc1"
    },
    "orig_nbformat": 4,
    "vscode": {
      "interpreter": {
        "hash": "f544ce1a915a9875fad91c894e2c0bcad4b7a79945aa6027ef3ad27810072aa6"
      }
    }
  },
  "nbformat": 4,
  "nbformat_minor": 0
}
