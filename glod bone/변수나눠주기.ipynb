{
  "cells": [
    {
      "cell_type": "code",
      "execution_count": 190,
      "metadata": {
        "id": "jgREh4fF5PBp"
      },
      "outputs": [],
      "source": [
        "from sklearn.ensemble import RandomForestRegressor\n",
        "from sklearn.model_selection import cross_val_score\n",
        "import pandas as pd\n",
        "import numpy as np\n",
        "from sklearn.model_selection import GridSearchCV\n",
        "from sklearn.model_selection import train_test_split\n",
        "from sklearn.metrics import mean_squared_error\n",
        "import math\n",
        "from sklearn.multioutput import MultiOutputRegressor\n",
        "import matplotlib.pyplot as plt # 득점모델 변수 중요도\n",
        "import seaborn as sns\n",
        "import pandas as pd\n",
        "import random\n",
        "import os\n",
        "import numpy as np\n",
        "from sklearn.preprocessing import MinMaxScaler\n",
        "from sklearn.preprocessing import MaxAbsScaler\n",
        "%matplotlib inline"
      ]
    },
    {
      "cell_type": "code",
      "execution_count": 191,
      "metadata": {
        "id": "NQsMBs175PBt"
      },
      "outputs": [],
      "source": [
        "def seed_everything(seed):\n",
        "    random.seed(seed)\n",
        "    os.environ['PYTHONHASHSEED'] = str(seed)\n",
        "    np.random.seed(seed)\n",
        "seed_everything(42) # Seed 고정"
      ]
    },
    {
      "cell_type": "code",
      "execution_count": 274,
      "metadata": {
        "colab": {
          "base_uri": "https://localhost:8080/",
          "height": 363
        },
        "id": "Jwl5Vh-L5PBu",
        "outputId": "fcaae558-0475-469f-df92-282b1df4e070"
      },
      "outputs": [],
      "source": [
        "##train데이터 불러오기\n",
        "train_df = pd.read_csv('./train.csv')\n",
        "train_df.drop([ 'X_02', 'X_48', 'X_47', 'X_23', 'X_11', 'X_10', 'X_04','X_13','X_45'], inplace= True, axis=1) # 상관성 없는 컬럼 제거"
      ]
    },
    {
      "cell_type": "code",
      "execution_count": 270,
      "metadata": {
        "id": "NxfwJ8oE5PBv"
      },
      "outputs": [],
      "source": [
        "train_df1 = train_df[(train_df['X_49']<10000) & (train_df['X_08'] <90)]\n",
        "train_df2 = train_df[(train_df['X_49']<10000) &(train_df['X_08'] >=90) &(train_df['X_08'] <600)]\n",
        "train_df3 = train_df[(train_df['X_49']<10000) &(train_df['X_08'] >=600)]\n",
        "train_df4 = train_df[(train_df['X_49']>=10000) & (train_df['X_49']<50000) & (train_df['X_08'] <90)]\n",
        "train_df5 = train_df[(train_df['X_49']>=10000) & (train_df['X_49']<50000) & (train_df['X_08'] >=90) &(train_df['X_08'] <600)]\n",
        "train_df6 = train_df[(train_df['X_49']>=10000) & (train_df['X_49']<50000) & (train_df['X_08'] >=600)]\n",
        "train_df7 = train_df[(train_df['X_49']>=50000) & (train_df['X_08'] <90)]\n",
        "train_df8 = train_df[(train_df['X_49']>=50000) & (train_df['X_08'] >=90) &(train_df['X_08'] <600)]\n",
        "train_df9 = train_df[(train_df['X_49']>=50000) & (train_df['X_08'] >=600)] ##구간화해주기"
      ]
    },
    {
      "cell_type": "code",
      "execution_count": 271,
      "metadata": {
        "id": "7TrZiNja5PBv"
      },
      "outputs": [],
      "source": [
        "train_x1 = train_df1.filter(regex='X') \n",
        "train_y1 = train_df1.filter(regex='Y')\n",
        "train_x2 = train_df2.filter(regex='X') \n",
        "train_y2 = train_df2.filter(regex='Y')\n",
        "train_x3 = train_df3.filter(regex='X') \n",
        "train_y3 = train_df3.filter(regex='Y')\n",
        "train_x4 = train_df4.filter(regex='X') \n",
        "train_y4 = train_df4.filter(regex='Y')\n",
        "train_x5 = train_df5.filter(regex='X') \n",
        "train_y5 = train_df5.filter(regex='Y')\n",
        "train_x6 = train_df6.filter(regex='X') \n",
        "train_y6 = train_df6.filter(regex='Y')\n",
        "train_x7 = train_df7.filter(regex='X') \n",
        "train_y7 = train_df7.filter(regex='Y')\n",
        "train_x8 = train_df8.filter(regex='X') \n",
        "train_y8 = train_df8.filter(regex='Y')\n",
        "train_x9 = train_df9.filter(regex='X') \n",
        "train_y9 = train_df9.filter(regex='Y') # Output : Y Feature"
      ]
    },
    {
      "cell_type": "code",
      "execution_count": 246,
      "metadata": {
        "id": "RETvFTXc5PBw"
      },
      "outputs": [],
      "source": [
        "rf_run = RandomForestRegressor(random_state=42, max_features= 20, max_depth=10, min_samples_leaf=8, min_samples_split=8, n_estimators=50) ##145개\n",
        "LR1 = MultiOutputRegressor(rf_run).fit(train_x1, train_y1)"
      ]
    },
    {
      "cell_type": "code",
      "execution_count": 247,
      "metadata": {
        "colab": {
          "base_uri": "https://localhost:8080/"
        },
        "id": "EVQs2SbR5PBz",
        "outputId": "8ffcacfb-da40-45b4-9fb7-6a99fd3b5521"
      },
      "outputs": [
        {
          "name": "stdout",
          "output_type": "stream",
          "text": [
            "RMSE':0.8851661110848422\n"
          ]
        }
      ],
      "source": [
        "train_predict = LR1.predict(train_x1)\n",
        "print(\"RMSE':{}\".format(math.sqrt(mean_squared_error(train_predict, train_y1)))) ##훈련용데이터 대상 예측력1"
      ]
    },
    {
      "cell_type": "code",
      "execution_count": 248,
      "metadata": {
        "id": "b6XoczGu5PB0"
      },
      "outputs": [],
      "source": [
        "rf_run = RandomForestRegressor(random_state=42, max_features= 20, max_depth=20, min_samples_leaf=8, min_samples_split=8,n_estimators=100) ##1666개\n",
        "LR2 = MultiOutputRegressor(rf_run).fit(train_x2, train_y2)\n"
      ]
    },
    {
      "cell_type": "code",
      "execution_count": 249,
      "metadata": {},
      "outputs": [
        {
          "name": "stdout",
          "output_type": "stream",
          "text": [
            "RMSE':0.9303907821047218\n"
          ]
        }
      ],
      "source": [
        "train_predict = LR2.predict(train_x2)\n",
        "print(\"RMSE':{}\".format(math.sqrt(mean_squared_error(train_predict, train_y2)))) ##훈련용데이터 대상 예측력2"
      ]
    },
    {
      "cell_type": "code",
      "execution_count": 250,
      "metadata": {},
      "outputs": [],
      "source": [
        "rf_run = RandomForestRegressor(random_state=42, max_features= 20, max_depth=8, min_samples_leaf=8, min_samples_split=8,n_estimators=30) ##49개\n",
        "LR3 = MultiOutputRegressor(rf_run).fit(train_x3, train_y3)\n"
      ]
    },
    {
      "cell_type": "code",
      "execution_count": 251,
      "metadata": {},
      "outputs": [
        {
          "name": "stdout",
          "output_type": "stream",
          "text": [
            "RMSE':0.9746420734238116\n"
          ]
        }
      ],
      "source": [
        "train_predict = LR3.predict(train_x3)\n",
        "print(\"RMSE':{}\".format(math.sqrt(mean_squared_error(train_predict, train_y3)))) ##훈련용데이터 대상 예측력2"
      ]
    },
    {
      "cell_type": "code",
      "execution_count": 275,
      "metadata": {},
      "outputs": [],
      "source": [
        "rf_run = RandomForestRegressor(random_state=42, max_features= 30, max_depth=25, min_samples_leaf=8, min_samples_split=8,n_estimators=150) ## 3607개\n",
        "LR4 = MultiOutputRegressor(rf_run).fit(train_x4, train_y4)\n"
      ]
    },
    {
      "cell_type": "code",
      "execution_count": 276,
      "metadata": {},
      "outputs": [
        {
          "name": "stdout",
          "output_type": "stream",
          "text": [
            "RMSE':0.7779060957713908\n"
          ]
        }
      ],
      "source": [
        "train_predict = LR4.predict(train_x4)\n",
        "print(\"RMSE':{}\".format(math.sqrt(mean_squared_error(train_predict, train_y4))))"
      ]
    },
    {
      "cell_type": "code",
      "execution_count": 119,
      "metadata": {},
      "outputs": [
        {
          "name": "stdout",
          "output_type": "stream",
          "text": [
            "RMSE':0.8535717212707357\n"
          ]
        }
      ],
      "source": [
        "rf_run = RandomForestRegressor(random_state=42, max_features= 20, max_depth=30, min_samples_leaf=8, min_samples_split=8,n_estimators=250) ## 32812개\n",
        "LR5 = MultiOutputRegressor(rf_run).fit(train_x5, train_y5)\n"
      ]
    },
    {
      "cell_type": "code",
      "execution_count": 120,
      "metadata": {},
      "outputs": [
        {
          "name": "stdout",
          "output_type": "stream",
          "text": [
            "RMSE':0.8385216717588554\n"
          ]
        }
      ],
      "source": [
        "rf_run = RandomForestRegressor(random_state=42, max_features= 20, max_depth=20, min_samples_leaf=8, min_samples_split=8,n_estimators=100) ## 845개\n",
        "LR6 = MultiOutputRegressor(rf_run).fit(train_x6, train_y6)\n"
      ]
    },
    {
      "cell_type": "code",
      "execution_count": 149,
      "metadata": {},
      "outputs": [
        {
          "name": "stdout",
          "output_type": "stream",
          "text": [
            "RMSE':1.0071548418279872\n"
          ]
        }
      ],
      "source": [
        "rf_run = RandomForestRegressor(random_state=42, max_features= 20, max_depth=5, min_samples_leaf=8, min_samples_split=8,n_estimators=30) ## 22개\n",
        "LR7 = MultiOutputRegressor(rf_run).fit(train_x7, train_y7)\n",
        "train_predict = LR7.predict(train_x7)\n",
        "print(\"RMSE':{}\".format(math.sqrt(mean_squared_error(train_predict, train_y7)))) ##훈련용데이터 대상 예측력2"
      ]
    },
    {
      "cell_type": "code",
      "execution_count": 157,
      "metadata": {},
      "outputs": [
        {
          "name": "stdout",
          "output_type": "stream",
          "text": [
            "RMSE':0.8509542224584865\n"
          ]
        }
      ],
      "source": [
        "rf_run = RandomForestRegressor(random_state=42, max_features= 20, max_depth=15, min_samples_leaf=8, min_samples_split=8,n_estimators=50) ## 458개\n",
        "LR8 = MultiOutputRegressor(rf_run).fit(train_x8, train_y8)\n",
        "train_predict = LR8.predict(train_x8)\n",
        "print(\"RMSE':{}\".format(math.sqrt(mean_squared_error(train_predict, train_y8)))) ##훈련용데이터 대상 예측력2"
      ]
    },
    {
      "cell_type": "code",
      "execution_count": 150,
      "metadata": {},
      "outputs": [
        {
          "name": "stdout",
          "output_type": "stream",
          "text": [
            "RMSE':0.6124999804340782\n"
          ]
        }
      ],
      "source": [
        "rf_run = RandomForestRegressor(random_state=42, max_features= 20, max_depth=5, min_samples_leaf=8, min_samples_split=8,n_estimators=10) ## 3개\n",
        "LR9 = MultiOutputRegressor(rf_run).fit(train_x9, train_y9)\n",
        "train_predict = LR9.predict(train_x9)\n",
        "print(\"RMSE':{}\".format(math.sqrt(mean_squared_error(train_predict, train_y9)))) ##훈련용데이터 대상 예측력2"
      ]
    },
    {
      "cell_type": "code",
      "execution_count": 127,
      "metadata": {
        "id": "gzQLSq-E5PB3"
      },
      "outputs": [],
      "source": [
        "##test데이터 불러오기\n",
        "test_df = pd.read_csv('./test.csv').drop(columns=['ID'])\n",
        "test_df.drop([ 'X_02', 'X_48', 'X_47', 'X_23', 'X_11', 'X_10', 'X_04'], inplace= True, axis=1) # 상관성 없는 컬럼 제거\n"
      ]
    },
    {
      "cell_type": "code",
      "execution_count": 128,
      "metadata": {
        "id": "G9-AXss65PB3"
      },
      "outputs": [],
      "source": [
        "test_df1 = test_df[(test_df['X_49']<10000) & (test_df['X_08'] <90)]\n",
        "test_df2 = test_df[(test_df['X_49']<10000) &(test_df['X_08'] >=90) &(test_df['X_08'] <600)]\n",
        "test_df3 = test_df[(test_df['X_49']<10000) &(test_df['X_08'] >=600)]\n",
        "test_df4 = test_df[(test_df['X_49']>=10000) & (test_df['X_49']<50000) & (test_df['X_08'] <90)]\n",
        "test_df5 = test_df[(test_df['X_49']>=10000) & (test_df['X_49']<50000) & (test_df['X_08'] >=90) &(test_df['X_08'] <600)]\n",
        "test_df6 = test_df[(test_df['X_49']>=10000) & (test_df['X_49']<50000) & (test_df['X_08'] >=600)]\n",
        "test_df7 = test_df[(test_df['X_49']>=50000) & (test_df['X_08'] <90)]\n",
        "test_df8 = test_df[(test_df['X_49']>=50000) & (test_df['X_08'] >=90) &(test_df['X_08'] <600)]\n",
        "test_df9 = test_df[(test_df['X_49']>=50000) & (test_df['X_08'] >=600)] ##구간화해주기"
      ]
    },
    {
      "cell_type": "code",
      "execution_count": 158,
      "metadata": {},
      "outputs": [
        {
          "data": {
            "text/html": [
              "<div>\n",
              "<style scoped>\n",
              "    .dataframe tbody tr th:only-of-type {\n",
              "        vertical-align: middle;\n",
              "    }\n",
              "\n",
              "    .dataframe tbody tr th {\n",
              "        vertical-align: top;\n",
              "    }\n",
              "\n",
              "    .dataframe thead th {\n",
              "        text-align: right;\n",
              "    }\n",
              "</style>\n",
              "<table border=\"1\" class=\"dataframe\">\n",
              "  <thead>\n",
              "    <tr style=\"text-align: right;\">\n",
              "      <th></th>\n",
              "      <th>X_01</th>\n",
              "      <th>X_03</th>\n",
              "      <th>X_05</th>\n",
              "      <th>X_06</th>\n",
              "      <th>X_07</th>\n",
              "      <th>X_08</th>\n",
              "      <th>X_09</th>\n",
              "      <th>X_12</th>\n",
              "      <th>X_13</th>\n",
              "      <th>X_14</th>\n",
              "      <th>...</th>\n",
              "      <th>X_45</th>\n",
              "      <th>X_46</th>\n",
              "      <th>X_49</th>\n",
              "      <th>X_50</th>\n",
              "      <th>X_51</th>\n",
              "      <th>X_52</th>\n",
              "      <th>X_53</th>\n",
              "      <th>X_54</th>\n",
              "      <th>X_55</th>\n",
              "      <th>X_56</th>\n",
              "    </tr>\n",
              "  </thead>\n",
              "  <tbody>\n",
              "    <tr>\n",
              "      <th>count</th>\n",
              "      <td>32678.000000</td>\n",
              "      <td>32678.000000</td>\n",
              "      <td>32678.000000</td>\n",
              "      <td>32678.000000</td>\n",
              "      <td>32678.00000</td>\n",
              "      <td>32678.000000</td>\n",
              "      <td>32678.000000</td>\n",
              "      <td>32678.000000</td>\n",
              "      <td>32678.000000</td>\n",
              "      <td>32678.000000</td>\n",
              "      <td>...</td>\n",
              "      <td>32678.000000</td>\n",
              "      <td>32678.000000</td>\n",
              "      <td>32678.000000</td>\n",
              "      <td>32678.000000</td>\n",
              "      <td>32678.000000</td>\n",
              "      <td>32678.000000</td>\n",
              "      <td>32678.000000</td>\n",
              "      <td>32678.000000</td>\n",
              "      <td>32678.000000</td>\n",
              "      <td>32678.000000</td>\n",
              "    </tr>\n",
              "    <tr>\n",
              "      <th>mean</th>\n",
              "      <td>68.418349</td>\n",
              "      <td>68.837256</td>\n",
              "      <td>102.342691</td>\n",
              "      <td>70.575914</td>\n",
              "      <td>29.31412</td>\n",
              "      <td>140.434067</td>\n",
              "      <td>226.709094</td>\n",
              "      <td>4.373371</td>\n",
              "      <td>0.143548</td>\n",
              "      <td>13.372220</td>\n",
              "      <td>...</td>\n",
              "      <td>0.154054</td>\n",
              "      <td>1468.310086</td>\n",
              "      <td>16259.317563</td>\n",
              "      <td>130.828380</td>\n",
              "      <td>131.512527</td>\n",
              "      <td>138.624002</td>\n",
              "      <td>128.044266</td>\n",
              "      <td>128.083342</td>\n",
              "      <td>137.908888</td>\n",
              "      <td>128.493433</td>\n",
              "    </tr>\n",
              "    <tr>\n",
              "      <th>std</th>\n",
              "      <td>2.643880</td>\n",
              "      <td>5.206986</td>\n",
              "      <td>0.549319</td>\n",
              "      <td>2.231823</td>\n",
              "      <td>7.23177</td>\n",
              "      <td>62.293586</td>\n",
              "      <td>59.508754</td>\n",
              "      <td>0.021773</td>\n",
              "      <td>0.025126</td>\n",
              "      <td>0.029624</td>\n",
              "      <td>...</td>\n",
              "      <td>0.047290</td>\n",
              "      <td>2.049073</td>\n",
              "      <td>4981.000912</td>\n",
              "      <td>6.305952</td>\n",
              "      <td>6.252458</td>\n",
              "      <td>6.699081</td>\n",
              "      <td>6.027543</td>\n",
              "      <td>5.793337</td>\n",
              "      <td>6.817780</td>\n",
              "      <td>5.803410</td>\n",
              "    </tr>\n",
              "    <tr>\n",
              "      <th>min</th>\n",
              "      <td>55.248000</td>\n",
              "      <td>55.570000</td>\n",
              "      <td>101.734000</td>\n",
              "      <td>61.726000</td>\n",
              "      <td>13.39000</td>\n",
              "      <td>90.020000</td>\n",
              "      <td>37.580000</td>\n",
              "      <td>4.290000</td>\n",
              "      <td>0.050000</td>\n",
              "      <td>13.090000</td>\n",
              "      <td>...</td>\n",
              "      <td>0.010000</td>\n",
              "      <td>1457.000000</td>\n",
              "      <td>10000.530000</td>\n",
              "      <td>21.800000</td>\n",
              "      <td>21.910000</td>\n",
              "      <td>23.100000</td>\n",
              "      <td>21.330000</td>\n",
              "      <td>21.340000</td>\n",
              "      <td>22.980000</td>\n",
              "      <td>21.410000</td>\n",
              "    </tr>\n",
              "    <tr>\n",
              "      <th>25%</th>\n",
              "      <td>66.465000</td>\n",
              "      <td>65.070000</td>\n",
              "      <td>101.951000</td>\n",
              "      <td>68.864000</td>\n",
              "      <td>27.87000</td>\n",
              "      <td>109.740000</td>\n",
              "      <td>189.040000</td>\n",
              "      <td>4.360000</td>\n",
              "      <td>0.130000</td>\n",
              "      <td>13.350000</td>\n",
              "      <td>...</td>\n",
              "      <td>0.120000</td>\n",
              "      <td>1469.000000</td>\n",
              "      <td>13355.330000</td>\n",
              "      <td>127.051623</td>\n",
              "      <td>127.745386</td>\n",
              "      <td>134.525642</td>\n",
              "      <td>124.464203</td>\n",
              "      <td>124.797119</td>\n",
              "      <td>133.727981</td>\n",
              "      <td>125.177250</td>\n",
              "    </tr>\n",
              "    <tr>\n",
              "      <th>50%</th>\n",
              "      <td>68.504000</td>\n",
              "      <td>67.270000</td>\n",
              "      <td>102.008000</td>\n",
              "      <td>69.884000</td>\n",
              "      <td>28.78000</td>\n",
              "      <td>116.040000</td>\n",
              "      <td>233.900000</td>\n",
              "      <td>4.370000</td>\n",
              "      <td>0.140000</td>\n",
              "      <td>13.370000</td>\n",
              "      <td>...</td>\n",
              "      <td>0.150000</td>\n",
              "      <td>1469.000000</td>\n",
              "      <td>15392.215000</td>\n",
              "      <td>130.775628</td>\n",
              "      <td>131.477398</td>\n",
              "      <td>138.628339</td>\n",
              "      <td>128.087755</td>\n",
              "      <td>128.205631</td>\n",
              "      <td>137.916081</td>\n",
              "      <td>128.496144</td>\n",
              "    </tr>\n",
              "    <tr>\n",
              "      <th>75%</th>\n",
              "      <td>69.524000</td>\n",
              "      <td>71.670000</td>\n",
              "      <td>103.145000</td>\n",
              "      <td>71.923000</td>\n",
              "      <td>29.74000</td>\n",
              "      <td>133.310000</td>\n",
              "      <td>263.080000</td>\n",
              "      <td>4.390000</td>\n",
              "      <td>0.160000</td>\n",
              "      <td>13.390000</td>\n",
              "      <td>...</td>\n",
              "      <td>0.190000</td>\n",
              "      <td>1469.000000</td>\n",
              "      <td>17587.105000</td>\n",
              "      <td>134.590993</td>\n",
              "      <td>135.316654</td>\n",
              "      <td>142.792187</td>\n",
              "      <td>131.706060</td>\n",
              "      <td>131.539814</td>\n",
              "      <td>142.081366</td>\n",
              "      <td>131.917785</td>\n",
              "    </tr>\n",
              "    <tr>\n",
              "      <th>max</th>\n",
              "      <td>86.859000</td>\n",
              "      <td>88.670000</td>\n",
              "      <td>103.161000</td>\n",
              "      <td>87.219000</td>\n",
              "      <td>163.86000</td>\n",
              "      <td>598.190000</td>\n",
              "      <td>637.540000</td>\n",
              "      <td>4.480000</td>\n",
              "      <td>0.340000</td>\n",
              "      <td>13.510000</td>\n",
              "      <td>...</td>\n",
              "      <td>0.420000</td>\n",
              "      <td>1469.000000</td>\n",
              "      <td>49926.730000</td>\n",
              "      <td>162.657956</td>\n",
              "      <td>161.207806</td>\n",
              "      <td>171.466684</td>\n",
              "      <td>169.774016</td>\n",
              "      <td>169.065281</td>\n",
              "      <td>166.922230</td>\n",
              "      <td>157.930676</td>\n",
              "    </tr>\n",
              "  </tbody>\n",
              "</table>\n",
              "<p>8 rows × 49 columns</p>\n",
              "</div>"
            ],
            "text/plain": [
              "               X_01          X_03          X_05          X_06         X_07  \\\n",
              "count  32678.000000  32678.000000  32678.000000  32678.000000  32678.00000   \n",
              "mean      68.418349     68.837256    102.342691     70.575914     29.31412   \n",
              "std        2.643880      5.206986      0.549319      2.231823      7.23177   \n",
              "min       55.248000     55.570000    101.734000     61.726000     13.39000   \n",
              "25%       66.465000     65.070000    101.951000     68.864000     27.87000   \n",
              "50%       68.504000     67.270000    102.008000     69.884000     28.78000   \n",
              "75%       69.524000     71.670000    103.145000     71.923000     29.74000   \n",
              "max       86.859000     88.670000    103.161000     87.219000    163.86000   \n",
              "\n",
              "               X_08          X_09          X_12          X_13          X_14  \\\n",
              "count  32678.000000  32678.000000  32678.000000  32678.000000  32678.000000   \n",
              "mean     140.434067    226.709094      4.373371      0.143548     13.372220   \n",
              "std       62.293586     59.508754      0.021773      0.025126      0.029624   \n",
              "min       90.020000     37.580000      4.290000      0.050000     13.090000   \n",
              "25%      109.740000    189.040000      4.360000      0.130000     13.350000   \n",
              "50%      116.040000    233.900000      4.370000      0.140000     13.370000   \n",
              "75%      133.310000    263.080000      4.390000      0.160000     13.390000   \n",
              "max      598.190000    637.540000      4.480000      0.340000     13.510000   \n",
              "\n",
              "       ...          X_45          X_46          X_49          X_50  \\\n",
              "count  ...  32678.000000  32678.000000  32678.000000  32678.000000   \n",
              "mean   ...      0.154054   1468.310086  16259.317563    130.828380   \n",
              "std    ...      0.047290      2.049073   4981.000912      6.305952   \n",
              "min    ...      0.010000   1457.000000  10000.530000     21.800000   \n",
              "25%    ...      0.120000   1469.000000  13355.330000    127.051623   \n",
              "50%    ...      0.150000   1469.000000  15392.215000    130.775628   \n",
              "75%    ...      0.190000   1469.000000  17587.105000    134.590993   \n",
              "max    ...      0.420000   1469.000000  49926.730000    162.657956   \n",
              "\n",
              "               X_51          X_52          X_53          X_54          X_55  \\\n",
              "count  32678.000000  32678.000000  32678.000000  32678.000000  32678.000000   \n",
              "mean     131.512527    138.624002    128.044266    128.083342    137.908888   \n",
              "std        6.252458      6.699081      6.027543      5.793337      6.817780   \n",
              "min       21.910000     23.100000     21.330000     21.340000     22.980000   \n",
              "25%      127.745386    134.525642    124.464203    124.797119    133.727981   \n",
              "50%      131.477398    138.628339    128.087755    128.205631    137.916081   \n",
              "75%      135.316654    142.792187    131.706060    131.539814    142.081366   \n",
              "max      161.207806    171.466684    169.774016    169.065281    166.922230   \n",
              "\n",
              "               X_56  \n",
              "count  32678.000000  \n",
              "mean     128.493433  \n",
              "std        5.803410  \n",
              "min       21.410000  \n",
              "25%      125.177250  \n",
              "50%      128.496144  \n",
              "75%      131.917785  \n",
              "max      157.930676  \n",
              "\n",
              "[8 rows x 49 columns]"
            ]
          },
          "execution_count": 158,
          "metadata": {},
          "output_type": "execute_result"
        }
      ],
      "source": [
        "test_df5.describe()"
      ]
    },
    {
      "cell_type": "markdown",
      "metadata": {},
      "source": []
    },
    {
      "cell_type": "code",
      "execution_count": 131,
      "metadata": {},
      "outputs": [],
      "source": [
        "df1_index = test_df1.index\n",
        "df2_index = test_df2.index\n",
        "df3_index = test_df3.index\n",
        "df4_index = test_df4.index\n",
        "df5_index = test_df5.index\n",
        "df6_index = test_df6.index\n",
        "df7_index = test_df7.index\n",
        "df8_index = test_df8.index\n",
        "df9_index = test_df9.index #인덱싱해주기"
      ]
    },
    {
      "cell_type": "code",
      "execution_count": 25,
      "metadata": {
        "id": "QZjQwbhGCYAm"
      },
      "outputs": [],
      "source": [
        "# minmax_scaler =MinMaxScaler()\n",
        "# test_df1 =minmax_scaler.fit_transform(test_df1)\n",
        "# test_df2 =minmax_scaler.fit_transform(test_df2)\n",
        "# test_df3 =minmax_scaler.fit_transform(test_df3)"
      ]
    },
    {
      "cell_type": "code",
      "execution_count": 133,
      "metadata": {
        "colab": {
          "base_uri": "https://localhost:8080/"
        },
        "id": "UInnnZMZ5PB4",
        "outputId": "3853440b-8d4b-4c85-acaa-d03bd2f2818f"
      },
      "outputs": [],
      "source": [
        "pred1 = LR1.predict(test_df1)\n",
        "pred1 = pd.DataFrame(pred1)\n",
        "pred1.index = df1_index\n",
        "\n",
        "pred2 = LR2.predict(test_df2)\n",
        "pred2 = pd.DataFrame(pred2)\n",
        "pred2.index = df2_index\n",
        "\n",
        "pred3 = LR3.predict(test_df3)\n",
        "pred3 = pd.DataFrame(pred3)\n",
        "pred3.index = df3_index\n",
        "\n",
        "pred4 = LR4.predict(test_df4)\n",
        "pred4 = pd.DataFrame(pred4)\n",
        "pred4.index = df4_index\n",
        "\n",
        "pred5 = LR5.predict(test_df5)\n",
        "pred5 = pd.DataFrame(pred5)\n",
        "pred5.index = df5_index\n",
        "\n",
        "pred6 = LR6.predict(test_df6)\n",
        "pred6 = pd.DataFrame(pred6)\n",
        "pred6.index = df6_index\n",
        "\n",
        "pred7 = LR7.predict(test_df7)\n",
        "pred7 = pd.DataFrame(pred7)\n",
        "pred7.index = df7_index\n",
        "\n",
        "pred8 = LR8.predict(test_df8)\n",
        "pred8 = pd.DataFrame(pred8)\n",
        "pred8.index = df8_index\n",
        "\n",
        "pred9 = LR9.predict(test_df9)\n",
        "pred9 = pd.DataFrame(pred9)\n",
        "pred9.index = df9_index"
      ]
    },
    {
      "cell_type": "code",
      "execution_count": 134,
      "metadata": {
        "id": "KYLv4aMO5PB7"
      },
      "outputs": [],
      "source": [
        "pred = pd.concat([pred1,pred2,pred3,pred4,pred5,pred6,pred7,pred8,pred9])"
      ]
    },
    {
      "cell_type": "code",
      "execution_count": 29,
      "metadata": {
        "id": "mlJ9UuvO5PB7"
      },
      "outputs": [],
      "source": []
    },
    {
      "cell_type": "code",
      "execution_count": 135,
      "metadata": {
        "id": "G9sQgjWw5PB7"
      },
      "outputs": [],
      "source": [
        "pred = pred.sort_index(ascending=True) ##인덱스 순서대로 오름차순 정렬"
      ]
    },
    {
      "cell_type": "code",
      "execution_count": 136,
      "metadata": {
        "id": "5HFFiJF45PB7"
      },
      "outputs": [],
      "source": [
        "pred = np.array(pred)"
      ]
    },
    {
      "cell_type": "code",
      "execution_count": 137,
      "metadata": {
        "colab": {
          "base_uri": "https://localhost:8080/"
        },
        "id": "K5fO6aGe5PB7",
        "outputId": "f00b03e0-2df7-4fdf-adab-19f2267be5f5"
      },
      "outputs": [
        {
          "data": {
            "text/plain": [
              "array([[  1.4049698 ,   1.18982587,   1.14490273, ..., -26.06239915,\n",
              "        -26.00685409, -25.99193822],\n",
              "       [  1.4585303 ,   1.2001675 ,   1.16496447, ..., -26.12370758,\n",
              "        -26.0665511 , -26.0454098 ],\n",
              "       [  1.39533357,   1.07615735,   1.05529695, ..., -25.99970899,\n",
              "        -25.92333745, -25.88948853],\n",
              "       ...,\n",
              "       [  1.16827865,   0.92958318,   1.03758552, ..., -26.3763262 ,\n",
              "        -26.31212742, -26.45339811],\n",
              "       [  1.25178268,   0.9175029 ,   0.98460003, ..., -26.4737358 ,\n",
              "        -26.38223616, -26.49592195],\n",
              "       [  1.32163306,   1.01760107,   1.08108708, ..., -26.3890149 ,\n",
              "        -26.34245456, -26.38758063]])"
            ]
          },
          "execution_count": 137,
          "metadata": {},
          "output_type": "execute_result"
        }
      ],
      "source": [
        "pred"
      ]
    },
    {
      "cell_type": "code",
      "execution_count": 138,
      "metadata": {
        "id": "55UoW_6n5PB8"
      },
      "outputs": [],
      "source": [
        "submit = pd.read_csv('./sample_submission.csv')"
      ]
    },
    {
      "cell_type": "code",
      "execution_count": 139,
      "metadata": {
        "colab": {
          "base_uri": "https://localhost:8080/"
        },
        "id": "S9IoAgK95PB8",
        "outputId": "390f8b46-1242-472e-97ad-1cf706b43881"
      },
      "outputs": [
        {
          "name": "stdout",
          "output_type": "stream",
          "text": [
            "Done.\n"
          ]
        }
      ],
      "source": [
        "for idx, col in enumerate(submit.columns):\n",
        "    if col=='ID':\n",
        "        continue\n",
        "    submit[col] = pred[:,idx-1]\n",
        "print('Done.')"
      ]
    },
    {
      "cell_type": "code",
      "execution_count": 140,
      "metadata": {
        "id": "PP77Rfii5PB8"
      },
      "outputs": [],
      "source": [
        "submit.to_csv('./rfbin5.csv', index=False)"
      ]
    },
    {
      "cell_type": "code",
      "execution_count": null,
      "metadata": {
        "id": "QwibOaYB5PB9"
      },
      "outputs": [],
      "source": [
        "from sklearn.model_selection import GridSearchCV\n",
        " \n",
        "param_grid = [\n",
        "        {'n_estimators': [ 100, 150, 200],, 'max_depth':[30,35]}\n",
        "        \n",
        "    ]\n",
        "forest_reg = RandomForestRegressor()\n",
        " \n",
        "grid_search = GridSearchCV(forest_reg, param_grid, cv=5,\n",
        "                           scoring='neg_mean_squared_error',\n",
        "                           return_train_score=True)\n",
        " \n",
        "grid_search.fit(train_x2, train_y2)"
      ]
    },
    {
      "cell_type": "code",
      "execution_count": null,
      "metadata": {
        "id": "1fRk6rA3Cz0X"
      },
      "outputs": [],
      "source": [
        "print(grid_search.best_params_)"
      ]
    }
  ],
  "metadata": {
    "colab": {
      "collapsed_sections": [],
      "machine_shape": "hm",
      "name": "변수나눠주기.ipynb",
      "provenance": []
    },
    "gpuClass": "standard",
    "kernelspec": {
      "display_name": "Python 3.8.7rc1 64-bit",
      "language": "python",
      "name": "python3"
    },
    "language_info": {
      "codemirror_mode": {
        "name": "ipython",
        "version": 3
      },
      "file_extension": ".py",
      "mimetype": "text/x-python",
      "name": "python",
      "nbconvert_exporter": "python",
      "pygments_lexer": "ipython3",
      "version": "3.8.7"
    },
    "orig_nbformat": 4,
    "vscode": {
      "interpreter": {
        "hash": "f544ce1a915a9875fad91c894e2c0bcad4b7a79945aa6027ef3ad27810072aa6"
      }
    }
  },
  "nbformat": 4,
  "nbformat_minor": 0
}
