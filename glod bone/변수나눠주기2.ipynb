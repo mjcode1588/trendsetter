{
  "cells": [
    {
      "cell_type": "code",
      "execution_count": 159,
      "metadata": {
        "id": "jgREh4fF5PBp"
      },
      "outputs": [],
      "source": [
        "from sklearn.ensemble import RandomForestRegressor\n",
        "from sklearn.model_selection import cross_val_score\n",
        "import pandas as pd\n",
        "import numpy as np\n",
        "from sklearn.model_selection import GridSearchCV\n",
        "from sklearn.model_selection import train_test_split\n",
        "from sklearn.metrics import mean_squared_error\n",
        "import math\n",
        "from sklearn.multioutput import MultiOutputRegressor\n",
        "import matplotlib.pyplot as plt # 득점모델 변수 중요도\n",
        "import seaborn as sns\n",
        "import pandas as pd\n",
        "import random\n",
        "import os\n",
        "import numpy as np\n",
        "from sklearn.preprocessing import MinMaxScaler\n",
        "from sklearn.preprocessing import MaxAbsScaler\n",
        "%matplotlib inline"
      ]
    },
    {
      "cell_type": "code",
      "execution_count": 108,
      "metadata": {
        "id": "NQsMBs175PBt"
      },
      "outputs": [],
      "source": [
        "def seed_everything(seed):\n",
        "    random.seed(seed)\n",
        "    os.environ['PYTHONHASHSEED'] = str(seed)\n",
        "    np.random.seed(seed)\n",
        "seed_everything(42) # Seed 고정"
      ]
    },
    {
      "cell_type": "code",
      "execution_count": 109,
      "metadata": {
        "colab": {
          "base_uri": "https://localhost:8080/",
          "height": 363
        },
        "id": "Jwl5Vh-L5PBu",
        "outputId": "fcaae558-0475-469f-df92-282b1df4e070"
      },
      "outputs": [],
      "source": [
        "##train데이터 불러오기\n",
        "train_df = pd.read_csv('./train.csv')\n",
        "train_df.drop([ 'X_02', 'X_48', 'X_47', 'X_23', 'X_11', 'X_10', 'X_04'], inplace= True, axis=1) # 상관성 없는 컬럼 제거"
      ]
    },
    {
      "cell_type": "code",
      "execution_count": 110,
      "metadata": {},
      "outputs": [
        {
          "data": {
            "text/plain": [
              "count    39607.000000\n",
              "mean       225.397470\n",
              "std         66.734725\n",
              "min         37.580000\n",
              "25%        188.540000\n",
              "50%        234.450000\n",
              "75%        263.960000\n",
              "max        637.490000\n",
              "Name: X_09, dtype: float64"
            ]
          },
          "execution_count": 110,
          "metadata": {},
          "output_type": "execute_result"
        }
      ],
      "source": [
        "train_df['X_09'].describe()"
      ]
    },
    {
      "cell_type": "code",
      "execution_count": 111,
      "metadata": {
        "id": "NxfwJ8oE5PBv"
      },
      "outputs": [],
      "source": [
        "train_df1 = train_df[(train_df['X_49']<10000) & (train_df['X_08'] <90)]\n",
        "train_df2 = train_df[(train_df['X_49']<10000) &(train_df['X_08'] >=90) &(train_df['X_08'] <600)]\n",
        "train_df3 = train_df[(train_df['X_49']<10000) &(train_df['X_08'] >=600)]\n",
        "train_df4 = train_df[(train_df['X_49']>=10000) & (train_df['X_49']<50000) & (train_df['X_08'] <90)]\n",
        "train_df5 = train_df[(train_df['X_49']>=10000) & (train_df['X_49']<50000) & (train_df['X_08'] >=90) &(train_df['X_08'] <600)]\n",
        "train_df6 = train_df[(train_df['X_49']>=10000) & (train_df['X_49']<50000) & (train_df['X_08'] >=600)]\n",
        "train_df7 = train_df[(train_df['X_49']>=50000) & (train_df['X_08'] <90)]\n",
        "train_df8 = train_df[(train_df['X_49']>=50000) & (train_df['X_08'] >=90) &(train_df['X_08'] <600)]\n",
        "train_df9 = train_df[(train_df['X_49']>=50000) & (train_df['X_08'] >=600)] ##구간화해주기"
      ]
    },
    {
      "cell_type": "code",
      "execution_count": 112,
      "metadata": {
        "id": "7TrZiNja5PBv"
      },
      "outputs": [],
      "source": [
        "train_x1 = train_df1.filter(regex='X') \n",
        "train_y1 = train_df1.filter(regex='Y')\n",
        "train_x2 = train_df2.filter(regex='X') \n",
        "train_y2 = train_df2.filter(regex='Y')\n",
        "train_x3 = train_df3.filter(regex='X') \n",
        "train_y3 = train_df3.filter(regex='Y')\n",
        "train_x4 = train_df4.filter(regex='X') \n",
        "train_y4 = train_df4.filter(regex='Y')\n",
        "train_x5 = train_df5.filter(regex='X') \n",
        "train_y5 = train_df5.filter(regex='Y')\n",
        "train_x6 = train_df6.filter(regex='X') \n",
        "train_y6 = train_df6.filter(regex='Y')\n",
        "train_x7 = train_df7.filter(regex='X') \n",
        "train_y7 = train_df7.filter(regex='Y')\n",
        "train_x8 = train_df8.filter(regex='X') \n",
        "train_y8 = train_df8.filter(regex='Y')\n",
        "train_x9 = train_df9.filter(regex='X') \n",
        "train_y9 = train_df9.filter(regex='Y') # Output : Y Feature"
      ]
    },
    {
      "cell_type": "code",
      "execution_count": 166,
      "metadata": {},
      "outputs": [
        {
          "ename": "TypeError",
          "evalue": "fit() missing 1 required positional argument: 'X'",
          "output_type": "error",
          "traceback": [
            "\u001b[1;31m---------------------------------------------------------------------------\u001b[0m",
            "\u001b[1;31mTypeError\u001b[0m                                 Traceback (most recent call last)",
            "\u001b[1;32mc:\\Users\\User\\Desktop\\자율주행깃\\trendsetter\\glod bone\\변수나눠주기.ipynb 셀 7\u001b[0m in \u001b[0;36m<cell line: 1>\u001b[1;34m()\u001b[0m\n\u001b[1;32m----> <a href='vscode-notebook-cell:/c%3A/Users/User/Desktop/%EC%9E%90%EC%9C%A8%EC%A3%BC%ED%96%89%EA%B9%83/trendsetter/glod%20bone/%EB%B3%80%EC%88%98%EB%82%98%EB%88%A0%EC%A3%BC%EA%B8%B0.ipynb#Y110sZmlsZQ%3D%3D?line=0'>1</a>\u001b[0m transformer \u001b[39m=\u001b[39m MaxAbsScaler()\u001b[39m.\u001b[39;49mfit()\n\u001b[0;32m      <a href='vscode-notebook-cell:/c%3A/Users/User/Desktop/%EC%9E%90%EC%9C%A8%EC%A3%BC%ED%96%89%EA%B9%83/trendsetter/glod%20bone/%EB%B3%80%EC%88%98%EB%82%98%EB%88%A0%EC%A3%BC%EA%B8%B0.ipynb#Y110sZmlsZQ%3D%3D?line=1'>2</a>\u001b[0m transformer\u001b[39m.\u001b[39mtransform(train_x2)\n",
            "\u001b[1;31mTypeError\u001b[0m: fit() missing 1 required positional argument: 'X'"
          ]
        }
      ],
      "source": [
        "transformer = MaxAbsScaler().fit()\n",
        "transformer.transform(train_x2)"
      ]
    },
    {
      "cell_type": "code",
      "execution_count": 164,
      "metadata": {},
      "outputs": [
        {
          "data": {
            "text/html": [
              "<style>#sk-container-id-1 {color: black;background-color: white;}#sk-container-id-1 pre{padding: 0;}#sk-container-id-1 div.sk-toggleable {background-color: white;}#sk-container-id-1 label.sk-toggleable__label {cursor: pointer;display: block;width: 100%;margin-bottom: 0;padding: 0.3em;box-sizing: border-box;text-align: center;}#sk-container-id-1 label.sk-toggleable__label-arrow:before {content: \"▸\";float: left;margin-right: 0.25em;color: #696969;}#sk-container-id-1 label.sk-toggleable__label-arrow:hover:before {color: black;}#sk-container-id-1 div.sk-estimator:hover label.sk-toggleable__label-arrow:before {color: black;}#sk-container-id-1 div.sk-toggleable__content {max-height: 0;max-width: 0;overflow: hidden;text-align: left;background-color: #f0f8ff;}#sk-container-id-1 div.sk-toggleable__content pre {margin: 0.2em;color: black;border-radius: 0.25em;background-color: #f0f8ff;}#sk-container-id-1 input.sk-toggleable__control:checked~div.sk-toggleable__content {max-height: 200px;max-width: 100%;overflow: auto;}#sk-container-id-1 input.sk-toggleable__control:checked~label.sk-toggleable__label-arrow:before {content: \"▾\";}#sk-container-id-1 div.sk-estimator input.sk-toggleable__control:checked~label.sk-toggleable__label {background-color: #d4ebff;}#sk-container-id-1 div.sk-label input.sk-toggleable__control:checked~label.sk-toggleable__label {background-color: #d4ebff;}#sk-container-id-1 input.sk-hidden--visually {border: 0;clip: rect(1px 1px 1px 1px);clip: rect(1px, 1px, 1px, 1px);height: 1px;margin: -1px;overflow: hidden;padding: 0;position: absolute;width: 1px;}#sk-container-id-1 div.sk-estimator {font-family: monospace;background-color: #f0f8ff;border: 1px dotted black;border-radius: 0.25em;box-sizing: border-box;margin-bottom: 0.5em;}#sk-container-id-1 div.sk-estimator:hover {background-color: #d4ebff;}#sk-container-id-1 div.sk-parallel-item::after {content: \"\";width: 100%;border-bottom: 1px solid gray;flex-grow: 1;}#sk-container-id-1 div.sk-label:hover label.sk-toggleable__label {background-color: #d4ebff;}#sk-container-id-1 div.sk-serial::before {content: \"\";position: absolute;border-left: 1px solid gray;box-sizing: border-box;top: 0;bottom: 0;left: 50%;z-index: 0;}#sk-container-id-1 div.sk-serial {display: flex;flex-direction: column;align-items: center;background-color: white;padding-right: 0.2em;padding-left: 0.2em;position: relative;}#sk-container-id-1 div.sk-item {position: relative;z-index: 1;}#sk-container-id-1 div.sk-parallel {display: flex;align-items: stretch;justify-content: center;background-color: white;position: relative;}#sk-container-id-1 div.sk-item::before, #sk-container-id-1 div.sk-parallel-item::before {content: \"\";position: absolute;border-left: 1px solid gray;box-sizing: border-box;top: 0;bottom: 0;left: 50%;z-index: -1;}#sk-container-id-1 div.sk-parallel-item {display: flex;flex-direction: column;z-index: 1;position: relative;background-color: white;}#sk-container-id-1 div.sk-parallel-item:first-child::after {align-self: flex-end;width: 50%;}#sk-container-id-1 div.sk-parallel-item:last-child::after {align-self: flex-start;width: 50%;}#sk-container-id-1 div.sk-parallel-item:only-child::after {width: 0;}#sk-container-id-1 div.sk-dashed-wrapped {border: 1px dashed gray;margin: 0 0.4em 0.5em 0.4em;box-sizing: border-box;padding-bottom: 0.4em;background-color: white;}#sk-container-id-1 div.sk-label label {font-family: monospace;font-weight: bold;display: inline-block;line-height: 1.2em;}#sk-container-id-1 div.sk-label-container {text-align: center;}#sk-container-id-1 div.sk-container {/* jupyter's `normalize.less` sets `[hidden] { display: none; }` but bootstrap.min.css set `[hidden] { display: none !important; }` so we also need the `!important` here to be able to override the default hidden behavior on the sphinx rendered scikit-learn.org. See: https://github.com/scikit-learn/scikit-learn/issues/21755 */display: inline-block !important;position: relative;}#sk-container-id-1 div.sk-text-repr-fallback {display: none;}</style><div id=\"sk-container-id-1\" class=\"sk-top-container\"><div class=\"sk-text-repr-fallback\"><pre>MaxAbsScaler()</pre><b>In a Jupyter environment, please rerun this cell to show the HTML representation or trust the notebook. <br />On GitHub, the HTML representation is unable to render, please try loading this page with nbviewer.org.</b></div><div class=\"sk-container\" hidden><div class=\"sk-item\"><div class=\"sk-estimator sk-toggleable\"><input class=\"sk-toggleable__control sk-hidden--visually\" id=\"sk-estimator-id-1\" type=\"checkbox\" checked><label for=\"sk-estimator-id-1\" class=\"sk-toggleable__label sk-toggleable__label-arrow\">MaxAbsScaler</label><div class=\"sk-toggleable__content\"><pre>MaxAbsScaler()</pre></div></div></div></div></div>"
            ],
            "text/plain": [
              "MaxAbsScaler()"
            ]
          },
          "execution_count": 164,
          "metadata": {},
          "output_type": "execute_result"
        }
      ],
      "source": [
        "train_x2"
      ]
    },
    {
      "cell_type": "code",
      "execution_count": 151,
      "metadata": {
        "id": "RETvFTXc5PBw"
      },
      "outputs": [],
      "source": [
        "rf_run = RandomForestRegressor(random_state=42, max_features= 20, max_depth=10, min_samples_leaf=8, min_samples_split=8, n_estimators=50) ##145개\n",
        "LR1 = MultiOutputRegressor(rf_run).fit(train_x1, train_y1)"
      ]
    },
    {
      "cell_type": "code",
      "execution_count": 152,
      "metadata": {
        "colab": {
          "base_uri": "https://localhost:8080/"
        },
        "id": "EVQs2SbR5PBz",
        "outputId": "8ffcacfb-da40-45b4-9fb7-6a99fd3b5521"
      },
      "outputs": [
        {
          "name": "stdout",
          "output_type": "stream",
          "text": [
            "RMSE':0.8888943624998658\n"
          ]
        }
      ],
      "source": [
        "train_predict = LR1.predict(train_x1)\n",
        "print(\"RMSE':{}\".format(math.sqrt(mean_squared_error(train_predict, train_y1)))) ##훈련용데이터 대상 예측력1"
      ]
    },
    {
      "cell_type": "code",
      "execution_count": 162,
      "metadata": {
        "id": "b6XoczGu5PB0"
      },
      "outputs": [
        {
          "ename": "TypeError",
          "evalue": "float() argument must be a string or a number, not 'MaxAbsScaler'",
          "output_type": "error",
          "traceback": [
            "\u001b[1;31m---------------------------------------------------------------------------\u001b[0m",
            "\u001b[1;31mTypeError\u001b[0m                                 Traceback (most recent call last)",
            "\u001b[1;32mc:\\Users\\User\\Desktop\\자율주행깃\\trendsetter\\glod bone\\변수나눠주기.ipynb 셀 11\u001b[0m in \u001b[0;36m<cell line: 2>\u001b[1;34m()\u001b[0m\n\u001b[0;32m      <a href='vscode-notebook-cell:/c%3A/Users/User/Desktop/%EC%9E%90%EC%9C%A8%EC%A3%BC%ED%96%89%EA%B9%83/trendsetter/glod%20bone/%EB%B3%80%EC%88%98%EB%82%98%EB%88%A0%EC%A3%BC%EA%B8%B0.ipynb#X13sZmlsZQ%3D%3D?line=0'>1</a>\u001b[0m rf_run \u001b[39m=\u001b[39m RandomForestRegressor(random_state\u001b[39m=\u001b[39m\u001b[39m42\u001b[39m, max_features\u001b[39m=\u001b[39m \u001b[39m20\u001b[39m, max_depth\u001b[39m=\u001b[39m\u001b[39m20\u001b[39m, min_samples_leaf\u001b[39m=\u001b[39m\u001b[39m8\u001b[39m, min_samples_split\u001b[39m=\u001b[39m\u001b[39m8\u001b[39m,n_estimators\u001b[39m=\u001b[39m\u001b[39m100\u001b[39m) \u001b[39m##1666개\u001b[39;00m\n\u001b[1;32m----> <a href='vscode-notebook-cell:/c%3A/Users/User/Desktop/%EC%9E%90%EC%9C%A8%EC%A3%BC%ED%96%89%EA%B9%83/trendsetter/glod%20bone/%EB%B3%80%EC%88%98%EB%82%98%EB%88%A0%EC%A3%BC%EA%B8%B0.ipynb#X13sZmlsZQ%3D%3D?line=1'>2</a>\u001b[0m LR2 \u001b[39m=\u001b[39m MultiOutputRegressor(rf_run)\u001b[39m.\u001b[39;49mfit(train_x2, train_y2)\n\u001b[0;32m      <a href='vscode-notebook-cell:/c%3A/Users/User/Desktop/%EC%9E%90%EC%9C%A8%EC%A3%BC%ED%96%89%EA%B9%83/trendsetter/glod%20bone/%EB%B3%80%EC%88%98%EB%82%98%EB%88%A0%EC%A3%BC%EA%B8%B0.ipynb#X13sZmlsZQ%3D%3D?line=2'>3</a>\u001b[0m train_predict \u001b[39m=\u001b[39m LR2\u001b[39m.\u001b[39mpredict(train_x2)\n\u001b[0;32m      <a href='vscode-notebook-cell:/c%3A/Users/User/Desktop/%EC%9E%90%EC%9C%A8%EC%A3%BC%ED%96%89%EA%B9%83/trendsetter/glod%20bone/%EB%B3%80%EC%88%98%EB%82%98%EB%88%A0%EC%A3%BC%EA%B8%B0.ipynb#X13sZmlsZQ%3D%3D?line=3'>4</a>\u001b[0m \u001b[39mprint\u001b[39m(\u001b[39m\"\u001b[39m\u001b[39mRMSE\u001b[39m\u001b[39m'\u001b[39m\u001b[39m:\u001b[39m\u001b[39m{}\u001b[39;00m\u001b[39m\"\u001b[39m\u001b[39m.\u001b[39mformat(math\u001b[39m.\u001b[39msqrt(mean_squared_error(train_predict, train_y2))))\n",
            "File \u001b[1;32mc:\\Users\\User\\AppData\\Local\\Programs\\Python\\Python38\\lib\\site-packages\\sklearn\\multioutput.py:202\u001b[0m, in \u001b[0;36m_MultiOutputEstimator.fit\u001b[1;34m(self, X, y, sample_weight, **fit_params)\u001b[0m\n\u001b[0;32m    198\u001b[0m     \u001b[39mraise\u001b[39;00m \u001b[39mValueError\u001b[39;00m(\u001b[39m\"\u001b[39m\u001b[39mUnderlying estimator does not support sample weights.\u001b[39m\u001b[39m\"\u001b[39m)\n\u001b[0;32m    200\u001b[0m fit_params_validated \u001b[39m=\u001b[39m _check_fit_params(X, fit_params)\n\u001b[1;32m--> 202\u001b[0m \u001b[39mself\u001b[39m\u001b[39m.\u001b[39mestimators_ \u001b[39m=\u001b[39m Parallel(n_jobs\u001b[39m=\u001b[39;49m\u001b[39mself\u001b[39;49m\u001b[39m.\u001b[39;49mn_jobs)(\n\u001b[0;32m    203\u001b[0m     delayed(_fit_estimator)(\n\u001b[0;32m    204\u001b[0m         \u001b[39mself\u001b[39;49m\u001b[39m.\u001b[39;49mestimator, X, y[:, i], sample_weight, \u001b[39m*\u001b[39;49m\u001b[39m*\u001b[39;49mfit_params_validated\n\u001b[0;32m    205\u001b[0m     )\n\u001b[0;32m    206\u001b[0m     \u001b[39mfor\u001b[39;49;00m i \u001b[39min\u001b[39;49;00m \u001b[39mrange\u001b[39;49m(y\u001b[39m.\u001b[39;49mshape[\u001b[39m1\u001b[39;49m])\n\u001b[0;32m    207\u001b[0m )\n\u001b[0;32m    209\u001b[0m \u001b[39mif\u001b[39;00m \u001b[39mhasattr\u001b[39m(\u001b[39mself\u001b[39m\u001b[39m.\u001b[39mestimators_[\u001b[39m0\u001b[39m], \u001b[39m\"\u001b[39m\u001b[39mn_features_in_\u001b[39m\u001b[39m\"\u001b[39m):\n\u001b[0;32m    210\u001b[0m     \u001b[39mself\u001b[39m\u001b[39m.\u001b[39mn_features_in_ \u001b[39m=\u001b[39m \u001b[39mself\u001b[39m\u001b[39m.\u001b[39mestimators_[\u001b[39m0\u001b[39m]\u001b[39m.\u001b[39mn_features_in_\n",
            "File \u001b[1;32mc:\\Users\\User\\AppData\\Local\\Programs\\Python\\Python38\\lib\\site-packages\\joblib\\parallel.py:1043\u001b[0m, in \u001b[0;36mParallel.__call__\u001b[1;34m(self, iterable)\u001b[0m\n\u001b[0;32m   1034\u001b[0m \u001b[39mtry\u001b[39;00m:\n\u001b[0;32m   1035\u001b[0m     \u001b[39m# Only set self._iterating to True if at least a batch\u001b[39;00m\n\u001b[0;32m   1036\u001b[0m     \u001b[39m# was dispatched. In particular this covers the edge\u001b[39;00m\n\u001b[1;32m   (...)\u001b[0m\n\u001b[0;32m   1040\u001b[0m     \u001b[39m# was very quick and its callback already dispatched all the\u001b[39;00m\n\u001b[0;32m   1041\u001b[0m     \u001b[39m# remaining jobs.\u001b[39;00m\n\u001b[0;32m   1042\u001b[0m     \u001b[39mself\u001b[39m\u001b[39m.\u001b[39m_iterating \u001b[39m=\u001b[39m \u001b[39mFalse\u001b[39;00m\n\u001b[1;32m-> 1043\u001b[0m     \u001b[39mif\u001b[39;00m \u001b[39mself\u001b[39;49m\u001b[39m.\u001b[39;49mdispatch_one_batch(iterator):\n\u001b[0;32m   1044\u001b[0m         \u001b[39mself\u001b[39m\u001b[39m.\u001b[39m_iterating \u001b[39m=\u001b[39m \u001b[39mself\u001b[39m\u001b[39m.\u001b[39m_original_iterator \u001b[39mis\u001b[39;00m \u001b[39mnot\u001b[39;00m \u001b[39mNone\u001b[39;00m\n\u001b[0;32m   1046\u001b[0m     \u001b[39mwhile\u001b[39;00m \u001b[39mself\u001b[39m\u001b[39m.\u001b[39mdispatch_one_batch(iterator):\n",
            "File \u001b[1;32mc:\\Users\\User\\AppData\\Local\\Programs\\Python\\Python38\\lib\\site-packages\\joblib\\parallel.py:861\u001b[0m, in \u001b[0;36mParallel.dispatch_one_batch\u001b[1;34m(self, iterator)\u001b[0m\n\u001b[0;32m    859\u001b[0m     \u001b[39mreturn\u001b[39;00m \u001b[39mFalse\u001b[39;00m\n\u001b[0;32m    860\u001b[0m \u001b[39melse\u001b[39;00m:\n\u001b[1;32m--> 861\u001b[0m     \u001b[39mself\u001b[39;49m\u001b[39m.\u001b[39;49m_dispatch(tasks)\n\u001b[0;32m    862\u001b[0m     \u001b[39mreturn\u001b[39;00m \u001b[39mTrue\u001b[39;00m\n",
            "File \u001b[1;32mc:\\Users\\User\\AppData\\Local\\Programs\\Python\\Python38\\lib\\site-packages\\joblib\\parallel.py:779\u001b[0m, in \u001b[0;36mParallel._dispatch\u001b[1;34m(self, batch)\u001b[0m\n\u001b[0;32m    777\u001b[0m \u001b[39mwith\u001b[39;00m \u001b[39mself\u001b[39m\u001b[39m.\u001b[39m_lock:\n\u001b[0;32m    778\u001b[0m     job_idx \u001b[39m=\u001b[39m \u001b[39mlen\u001b[39m(\u001b[39mself\u001b[39m\u001b[39m.\u001b[39m_jobs)\n\u001b[1;32m--> 779\u001b[0m     job \u001b[39m=\u001b[39m \u001b[39mself\u001b[39;49m\u001b[39m.\u001b[39;49m_backend\u001b[39m.\u001b[39;49mapply_async(batch, callback\u001b[39m=\u001b[39;49mcb)\n\u001b[0;32m    780\u001b[0m     \u001b[39m# A job can complete so quickly than its callback is\u001b[39;00m\n\u001b[0;32m    781\u001b[0m     \u001b[39m# called before we get here, causing self._jobs to\u001b[39;00m\n\u001b[0;32m    782\u001b[0m     \u001b[39m# grow. To ensure correct results ordering, .insert is\u001b[39;00m\n\u001b[0;32m    783\u001b[0m     \u001b[39m# used (rather than .append) in the following line\u001b[39;00m\n\u001b[0;32m    784\u001b[0m     \u001b[39mself\u001b[39m\u001b[39m.\u001b[39m_jobs\u001b[39m.\u001b[39minsert(job_idx, job)\n",
            "File \u001b[1;32mc:\\Users\\User\\AppData\\Local\\Programs\\Python\\Python38\\lib\\site-packages\\joblib\\_parallel_backends.py:208\u001b[0m, in \u001b[0;36mSequentialBackend.apply_async\u001b[1;34m(self, func, callback)\u001b[0m\n\u001b[0;32m    206\u001b[0m \u001b[39mdef\u001b[39;00m \u001b[39mapply_async\u001b[39m(\u001b[39mself\u001b[39m, func, callback\u001b[39m=\u001b[39m\u001b[39mNone\u001b[39;00m):\n\u001b[0;32m    207\u001b[0m     \u001b[39m\"\"\"Schedule a func to be run\"\"\"\u001b[39;00m\n\u001b[1;32m--> 208\u001b[0m     result \u001b[39m=\u001b[39m ImmediateResult(func)\n\u001b[0;32m    209\u001b[0m     \u001b[39mif\u001b[39;00m callback:\n\u001b[0;32m    210\u001b[0m         callback(result)\n",
            "File \u001b[1;32mc:\\Users\\User\\AppData\\Local\\Programs\\Python\\Python38\\lib\\site-packages\\joblib\\_parallel_backends.py:572\u001b[0m, in \u001b[0;36mImmediateResult.__init__\u001b[1;34m(self, batch)\u001b[0m\n\u001b[0;32m    569\u001b[0m \u001b[39mdef\u001b[39;00m \u001b[39m__init__\u001b[39m(\u001b[39mself\u001b[39m, batch):\n\u001b[0;32m    570\u001b[0m     \u001b[39m# Don't delay the application, to avoid keeping the input\u001b[39;00m\n\u001b[0;32m    571\u001b[0m     \u001b[39m# arguments in memory\u001b[39;00m\n\u001b[1;32m--> 572\u001b[0m     \u001b[39mself\u001b[39m\u001b[39m.\u001b[39mresults \u001b[39m=\u001b[39m batch()\n",
            "File \u001b[1;32mc:\\Users\\User\\AppData\\Local\\Programs\\Python\\Python38\\lib\\site-packages\\joblib\\parallel.py:262\u001b[0m, in \u001b[0;36mBatchedCalls.__call__\u001b[1;34m(self)\u001b[0m\n\u001b[0;32m    258\u001b[0m \u001b[39mdef\u001b[39;00m \u001b[39m__call__\u001b[39m(\u001b[39mself\u001b[39m):\n\u001b[0;32m    259\u001b[0m     \u001b[39m# Set the default nested backend to self._backend but do not set the\u001b[39;00m\n\u001b[0;32m    260\u001b[0m     \u001b[39m# change the default number of processes to -1\u001b[39;00m\n\u001b[0;32m    261\u001b[0m     \u001b[39mwith\u001b[39;00m parallel_backend(\u001b[39mself\u001b[39m\u001b[39m.\u001b[39m_backend, n_jobs\u001b[39m=\u001b[39m\u001b[39mself\u001b[39m\u001b[39m.\u001b[39m_n_jobs):\n\u001b[1;32m--> 262\u001b[0m         \u001b[39mreturn\u001b[39;00m [func(\u001b[39m*\u001b[39margs, \u001b[39m*\u001b[39m\u001b[39m*\u001b[39mkwargs)\n\u001b[0;32m    263\u001b[0m                 \u001b[39mfor\u001b[39;00m func, args, kwargs \u001b[39min\u001b[39;00m \u001b[39mself\u001b[39m\u001b[39m.\u001b[39mitems]\n",
            "File \u001b[1;32mc:\\Users\\User\\AppData\\Local\\Programs\\Python\\Python38\\lib\\site-packages\\joblib\\parallel.py:262\u001b[0m, in \u001b[0;36m<listcomp>\u001b[1;34m(.0)\u001b[0m\n\u001b[0;32m    258\u001b[0m \u001b[39mdef\u001b[39;00m \u001b[39m__call__\u001b[39m(\u001b[39mself\u001b[39m):\n\u001b[0;32m    259\u001b[0m     \u001b[39m# Set the default nested backend to self._backend but do not set the\u001b[39;00m\n\u001b[0;32m    260\u001b[0m     \u001b[39m# change the default number of processes to -1\u001b[39;00m\n\u001b[0;32m    261\u001b[0m     \u001b[39mwith\u001b[39;00m parallel_backend(\u001b[39mself\u001b[39m\u001b[39m.\u001b[39m_backend, n_jobs\u001b[39m=\u001b[39m\u001b[39mself\u001b[39m\u001b[39m.\u001b[39m_n_jobs):\n\u001b[1;32m--> 262\u001b[0m         \u001b[39mreturn\u001b[39;00m [func(\u001b[39m*\u001b[39;49margs, \u001b[39m*\u001b[39;49m\u001b[39m*\u001b[39;49mkwargs)\n\u001b[0;32m    263\u001b[0m                 \u001b[39mfor\u001b[39;00m func, args, kwargs \u001b[39min\u001b[39;00m \u001b[39mself\u001b[39m\u001b[39m.\u001b[39mitems]\n",
            "File \u001b[1;32mc:\\Users\\User\\AppData\\Local\\Programs\\Python\\Python38\\lib\\site-packages\\sklearn\\utils\\fixes.py:117\u001b[0m, in \u001b[0;36m_FuncWrapper.__call__\u001b[1;34m(self, *args, **kwargs)\u001b[0m\n\u001b[0;32m    115\u001b[0m \u001b[39mdef\u001b[39;00m \u001b[39m__call__\u001b[39m(\u001b[39mself\u001b[39m, \u001b[39m*\u001b[39margs, \u001b[39m*\u001b[39m\u001b[39m*\u001b[39mkwargs):\n\u001b[0;32m    116\u001b[0m     \u001b[39mwith\u001b[39;00m config_context(\u001b[39m*\u001b[39m\u001b[39m*\u001b[39m\u001b[39mself\u001b[39m\u001b[39m.\u001b[39mconfig):\n\u001b[1;32m--> 117\u001b[0m         \u001b[39mreturn\u001b[39;00m \u001b[39mself\u001b[39;49m\u001b[39m.\u001b[39;49mfunction(\u001b[39m*\u001b[39;49margs, \u001b[39m*\u001b[39;49m\u001b[39m*\u001b[39;49mkwargs)\n",
            "File \u001b[1;32mc:\\Users\\User\\AppData\\Local\\Programs\\Python\\Python38\\lib\\site-packages\\sklearn\\multioutput.py:44\u001b[0m, in \u001b[0;36m_fit_estimator\u001b[1;34m(estimator, X, y, sample_weight, **fit_params)\u001b[0m\n\u001b[0;32m     42\u001b[0m     estimator\u001b[39m.\u001b[39mfit(X, y, sample_weight\u001b[39m=\u001b[39msample_weight, \u001b[39m*\u001b[39m\u001b[39m*\u001b[39mfit_params)\n\u001b[0;32m     43\u001b[0m \u001b[39melse\u001b[39;00m:\n\u001b[1;32m---> 44\u001b[0m     estimator\u001b[39m.\u001b[39;49mfit(X, y, \u001b[39m*\u001b[39;49m\u001b[39m*\u001b[39;49mfit_params)\n\u001b[0;32m     45\u001b[0m \u001b[39mreturn\u001b[39;00m estimator\n",
            "File \u001b[1;32mc:\\Users\\User\\AppData\\Local\\Programs\\Python\\Python38\\lib\\site-packages\\sklearn\\ensemble\\_forest.py:331\u001b[0m, in \u001b[0;36mBaseForest.fit\u001b[1;34m(self, X, y, sample_weight)\u001b[0m\n\u001b[0;32m    329\u001b[0m \u001b[39mif\u001b[39;00m issparse(y):\n\u001b[0;32m    330\u001b[0m     \u001b[39mraise\u001b[39;00m \u001b[39mValueError\u001b[39;00m(\u001b[39m\"\u001b[39m\u001b[39msparse multilabel-indicator for y is not supported.\u001b[39m\u001b[39m\"\u001b[39m)\n\u001b[1;32m--> 331\u001b[0m X, y \u001b[39m=\u001b[39m \u001b[39mself\u001b[39;49m\u001b[39m.\u001b[39;49m_validate_data(\n\u001b[0;32m    332\u001b[0m     X, y, multi_output\u001b[39m=\u001b[39;49m\u001b[39mTrue\u001b[39;49;00m, accept_sparse\u001b[39m=\u001b[39;49m\u001b[39m\"\u001b[39;49m\u001b[39mcsc\u001b[39;49m\u001b[39m\"\u001b[39;49m, dtype\u001b[39m=\u001b[39;49mDTYPE\n\u001b[0;32m    333\u001b[0m )\n\u001b[0;32m    334\u001b[0m \u001b[39mif\u001b[39;00m sample_weight \u001b[39mis\u001b[39;00m \u001b[39mnot\u001b[39;00m \u001b[39mNone\u001b[39;00m:\n\u001b[0;32m    335\u001b[0m     sample_weight \u001b[39m=\u001b[39m _check_sample_weight(sample_weight, X)\n",
            "File \u001b[1;32mc:\\Users\\User\\AppData\\Local\\Programs\\Python\\Python38\\lib\\site-packages\\sklearn\\base.py:596\u001b[0m, in \u001b[0;36mBaseEstimator._validate_data\u001b[1;34m(self, X, y, reset, validate_separately, **check_params)\u001b[0m\n\u001b[0;32m    594\u001b[0m         y \u001b[39m=\u001b[39m check_array(y, input_name\u001b[39m=\u001b[39m\u001b[39m\"\u001b[39m\u001b[39my\u001b[39m\u001b[39m\"\u001b[39m, \u001b[39m*\u001b[39m\u001b[39m*\u001b[39mcheck_y_params)\n\u001b[0;32m    595\u001b[0m     \u001b[39melse\u001b[39;00m:\n\u001b[1;32m--> 596\u001b[0m         X, y \u001b[39m=\u001b[39m check_X_y(X, y, \u001b[39m*\u001b[39;49m\u001b[39m*\u001b[39;49mcheck_params)\n\u001b[0;32m    597\u001b[0m     out \u001b[39m=\u001b[39m X, y\n\u001b[0;32m    599\u001b[0m \u001b[39mif\u001b[39;00m \u001b[39mnot\u001b[39;00m no_val_X \u001b[39mand\u001b[39;00m check_params\u001b[39m.\u001b[39mget(\u001b[39m\"\u001b[39m\u001b[39mensure_2d\u001b[39m\u001b[39m\"\u001b[39m, \u001b[39mTrue\u001b[39;00m):\n",
            "File \u001b[1;32mc:\\Users\\User\\AppData\\Local\\Programs\\Python\\Python38\\lib\\site-packages\\sklearn\\utils\\validation.py:1074\u001b[0m, in \u001b[0;36mcheck_X_y\u001b[1;34m(X, y, accept_sparse, accept_large_sparse, dtype, order, copy, force_all_finite, ensure_2d, allow_nd, multi_output, ensure_min_samples, ensure_min_features, y_numeric, estimator)\u001b[0m\n\u001b[0;32m   1069\u001b[0m         estimator_name \u001b[39m=\u001b[39m _check_estimator_name(estimator)\n\u001b[0;32m   1070\u001b[0m     \u001b[39mraise\u001b[39;00m \u001b[39mValueError\u001b[39;00m(\n\u001b[0;32m   1071\u001b[0m         \u001b[39mf\u001b[39m\u001b[39m\"\u001b[39m\u001b[39m{\u001b[39;00mestimator_name\u001b[39m}\u001b[39;00m\u001b[39m requires y to be passed, but the target y is None\u001b[39m\u001b[39m\"\u001b[39m\n\u001b[0;32m   1072\u001b[0m     )\n\u001b[1;32m-> 1074\u001b[0m X \u001b[39m=\u001b[39m check_array(\n\u001b[0;32m   1075\u001b[0m     X,\n\u001b[0;32m   1076\u001b[0m     accept_sparse\u001b[39m=\u001b[39;49maccept_sparse,\n\u001b[0;32m   1077\u001b[0m     accept_large_sparse\u001b[39m=\u001b[39;49maccept_large_sparse,\n\u001b[0;32m   1078\u001b[0m     dtype\u001b[39m=\u001b[39;49mdtype,\n\u001b[0;32m   1079\u001b[0m     order\u001b[39m=\u001b[39;49morder,\n\u001b[0;32m   1080\u001b[0m     copy\u001b[39m=\u001b[39;49mcopy,\n\u001b[0;32m   1081\u001b[0m     force_all_finite\u001b[39m=\u001b[39;49mforce_all_finite,\n\u001b[0;32m   1082\u001b[0m     ensure_2d\u001b[39m=\u001b[39;49mensure_2d,\n\u001b[0;32m   1083\u001b[0m     allow_nd\u001b[39m=\u001b[39;49mallow_nd,\n\u001b[0;32m   1084\u001b[0m     ensure_min_samples\u001b[39m=\u001b[39;49mensure_min_samples,\n\u001b[0;32m   1085\u001b[0m     ensure_min_features\u001b[39m=\u001b[39;49mensure_min_features,\n\u001b[0;32m   1086\u001b[0m     estimator\u001b[39m=\u001b[39;49mestimator,\n\u001b[0;32m   1087\u001b[0m     input_name\u001b[39m=\u001b[39;49m\u001b[39m\"\u001b[39;49m\u001b[39mX\u001b[39;49m\u001b[39m\"\u001b[39;49m,\n\u001b[0;32m   1088\u001b[0m )\n\u001b[0;32m   1090\u001b[0m y \u001b[39m=\u001b[39m _check_y(y, multi_output\u001b[39m=\u001b[39mmulti_output, y_numeric\u001b[39m=\u001b[39my_numeric, estimator\u001b[39m=\u001b[39mestimator)\n\u001b[0;32m   1092\u001b[0m check_consistent_length(X, y)\n",
            "File \u001b[1;32mc:\\Users\\User\\AppData\\Local\\Programs\\Python\\Python38\\lib\\site-packages\\sklearn\\utils\\validation.py:856\u001b[0m, in \u001b[0;36mcheck_array\u001b[1;34m(array, accept_sparse, accept_large_sparse, dtype, order, copy, force_all_finite, ensure_2d, allow_nd, ensure_min_samples, ensure_min_features, estimator, input_name)\u001b[0m\n\u001b[0;32m    854\u001b[0m         array \u001b[39m=\u001b[39m array\u001b[39m.\u001b[39mastype(dtype, casting\u001b[39m=\u001b[39m\u001b[39m\"\u001b[39m\u001b[39munsafe\u001b[39m\u001b[39m\"\u001b[39m, copy\u001b[39m=\u001b[39m\u001b[39mFalse\u001b[39;00m)\n\u001b[0;32m    855\u001b[0m     \u001b[39melse\u001b[39;00m:\n\u001b[1;32m--> 856\u001b[0m         array \u001b[39m=\u001b[39m np\u001b[39m.\u001b[39;49masarray(array, order\u001b[39m=\u001b[39;49morder, dtype\u001b[39m=\u001b[39;49mdtype)\n\u001b[0;32m    857\u001b[0m \u001b[39mexcept\u001b[39;00m ComplexWarning \u001b[39mas\u001b[39;00m complex_warning:\n\u001b[0;32m    858\u001b[0m     \u001b[39mraise\u001b[39;00m \u001b[39mValueError\u001b[39;00m(\n\u001b[0;32m    859\u001b[0m         \u001b[39m\"\u001b[39m\u001b[39mComplex data not supported\u001b[39m\u001b[39m\\n\u001b[39;00m\u001b[39m{}\u001b[39;00m\u001b[39m\\n\u001b[39;00m\u001b[39m\"\u001b[39m\u001b[39m.\u001b[39mformat(array)\n\u001b[0;32m    860\u001b[0m     ) \u001b[39mfrom\u001b[39;00m \u001b[39mcomplex_warning\u001b[39;00m\n",
            "\u001b[1;31mTypeError\u001b[0m: float() argument must be a string or a number, not 'MaxAbsScaler'"
          ]
        }
      ],
      "source": [
        "rf_run = RandomForestRegressor(random_state=42, max_features= 20, max_depth=20, min_samples_leaf=8, min_samples_split=8,n_estimators=100) ##1666개\n",
        "LR2 = MultiOutputRegressor(rf_run).fit(train_x2, train_y2)\n",
        "train_predict = LR2.predict(train_x2)\n",
        "print(\"RMSE':{}\".format(math.sqrt(mean_squared_error(train_predict, train_y2)))) ##훈련용데이터 대상 예측력2"
      ]
    },
    {
      "cell_type": "code",
      "execution_count": 117,
      "metadata": {},
      "outputs": [
        {
          "name": "stdout",
          "output_type": "stream",
          "text": [
            "RMSE':0.9610610925805414\n"
          ]
        }
      ],
      "source": [
        "rf_run = RandomForestRegressor(random_state=42, max_features= 20, max_depth=8, min_samples_leaf=8, min_samples_split=8,n_estimators=30) ##49개\n",
        "LR3 = MultiOutputRegressor(rf_run).fit(train_x3, train_y3)\n",
        "train_predict = LR3.predict(train_x3)\n",
        "print(\"RMSE':{}\".format(math.sqrt(mean_squared_error(train_predict, train_y3)))) ##훈련용데이터 대상 예측력2"
      ]
    },
    {
      "cell_type": "code",
      "execution_count": 118,
      "metadata": {},
      "outputs": [
        {
          "name": "stdout",
          "output_type": "stream",
          "text": [
            "RMSE':0.7767317173505217\n"
          ]
        }
      ],
      "source": [
        "rf_run = RandomForestRegressor(random_state=42, max_features= 20, max_depth=25, min_samples_leaf=8, min_samples_split=8,n_estimators=150) ## 3607개\n",
        "LR4 = MultiOutputRegressor(rf_run).fit(train_x4, train_y4)\n",
        "train_predict = LR4.predict(train_x4)\n",
        "print(\"RMSE':{}\".format(math.sqrt(mean_squared_error(train_predict, train_y4)))) ##훈련용데이터 대상 예측력2"
      ]
    },
    {
      "cell_type": "code",
      "execution_count": 119,
      "metadata": {},
      "outputs": [
        {
          "name": "stdout",
          "output_type": "stream",
          "text": [
            "RMSE':0.8535717212707357\n"
          ]
        }
      ],
      "source": [
        "rf_run = RandomForestRegressor(random_state=42, max_features= 20, max_depth=30, min_samples_leaf=8, min_samples_split=8,n_estimators=250) ## 32812개\n",
        "LR5 = MultiOutputRegressor(rf_run).fit(train_x5, train_y5)\n",
        "train_predict = LR5.predict(train_x5)\n",
        "print(\"RMSE':{}\".format(math.sqrt(mean_squared_error(train_predict, train_y5)))) ##훈련용데이터 대상 예측력2"
      ]
    },
    {
      "cell_type": "code",
      "execution_count": 120,
      "metadata": {},
      "outputs": [
        {
          "name": "stdout",
          "output_type": "stream",
          "text": [
            "RMSE':0.8385216717588554\n"
          ]
        }
      ],
      "source": [
        "rf_run = RandomForestRegressor(random_state=42, max_features= 20, max_depth=20, min_samples_leaf=8, min_samples_split=8,n_estimators=100) ## 845개\n",
        "LR6 = MultiOutputRegressor(rf_run).fit(train_x6, train_y6)\n",
        "train_predict = LR6.predict(train_x6)\n",
        "print(\"RMSE':{}\".format(math.sqrt(mean_squared_error(train_predict, train_y6)))) ##훈련용데이터 대상 예측력2"
      ]
    },
    {
      "cell_type": "code",
      "execution_count": 149,
      "metadata": {},
      "outputs": [
        {
          "name": "stdout",
          "output_type": "stream",
          "text": [
            "RMSE':1.0071548418279872\n"
          ]
        }
      ],
      "source": [
        "rf_run = RandomForestRegressor(random_state=42, max_features= 20, max_depth=5, min_samples_leaf=8, min_samples_split=8,n_estimators=30) ## 22개\n",
        "LR7 = MultiOutputRegressor(rf_run).fit(train_x7, train_y7)\n",
        "train_predict = LR7.predict(train_x7)\n",
        "print(\"RMSE':{}\".format(math.sqrt(mean_squared_error(train_predict, train_y7)))) ##훈련용데이터 대상 예측력2"
      ]
    },
    {
      "cell_type": "code",
      "execution_count": 157,
      "metadata": {},
      "outputs": [
        {
          "name": "stdout",
          "output_type": "stream",
          "text": [
            "RMSE':0.8509542224584865\n"
          ]
        }
      ],
      "source": [
        "rf_run = RandomForestRegressor(random_state=42, max_features= 20, max_depth=15, min_samples_leaf=8, min_samples_split=8,n_estimators=50) ## 458개\n",
        "LR8 = MultiOutputRegressor(rf_run).fit(train_x8, train_y8)\n",
        "train_predict = LR8.predict(train_x8)\n",
        "print(\"RMSE':{}\".format(math.sqrt(mean_squared_error(train_predict, train_y8)))) ##훈련용데이터 대상 예측력2"
      ]
    },
    {
      "cell_type": "code",
      "execution_count": 150,
      "metadata": {},
      "outputs": [
        {
          "name": "stdout",
          "output_type": "stream",
          "text": [
            "RMSE':0.6124999804340782\n"
          ]
        }
      ],
      "source": [
        "rf_run = RandomForestRegressor(random_state=42, max_features= 20, max_depth=5, min_samples_leaf=8, min_samples_split=8,n_estimators=10) ## 3개\n",
        "LR9 = MultiOutputRegressor(rf_run).fit(train_x9, train_y9)\n",
        "train_predict = LR9.predict(train_x9)\n",
        "print(\"RMSE':{}\".format(math.sqrt(mean_squared_error(train_predict, train_y9)))) ##훈련용데이터 대상 예측력2"
      ]
    },
    {
      "cell_type": "code",
      "execution_count": 127,
      "metadata": {
        "id": "gzQLSq-E5PB3"
      },
      "outputs": [],
      "source": [
        "##test데이터 불러오기\n",
        "test_df = pd.read_csv('./test.csv').drop(columns=['ID'])\n",
        "test_df.drop([ 'X_02', 'X_48', 'X_47', 'X_23', 'X_11', 'X_10', 'X_04'], inplace= True, axis=1) # 상관성 없는 컬럼 제거\n"
      ]
    },
    {
      "cell_type": "code",
      "execution_count": 128,
      "metadata": {
        "id": "G9-AXss65PB3"
      },
      "outputs": [],
      "source": [
        "test_df1 = test_df[(test_df['X_49']<10000) & (test_df['X_08'] <90)]\n",
        "test_df2 = test_df[(test_df['X_49']<10000) &(test_df['X_08'] >=90) &(test_df['X_08'] <600)]\n",
        "test_df3 = test_df[(test_df['X_49']<10000) &(test_df['X_08'] >=600)]\n",
        "test_df4 = test_df[(test_df['X_49']>=10000) & (test_df['X_49']<50000) & (test_df['X_08'] <90)]\n",
        "test_df5 = test_df[(test_df['X_49']>=10000) & (test_df['X_49']<50000) & (test_df['X_08'] >=90) &(test_df['X_08'] <600)]\n",
        "test_df6 = test_df[(test_df['X_49']>=10000) & (test_df['X_49']<50000) & (test_df['X_08'] >=600)]\n",
        "test_df7 = test_df[(test_df['X_49']>=50000) & (test_df['X_08'] <90)]\n",
        "test_df8 = test_df[(test_df['X_49']>=50000) & (test_df['X_08'] >=90) &(test_df['X_08'] <600)]\n",
        "test_df9 = test_df[(test_df['X_49']>=50000) & (test_df['X_08'] >=600)] ##구간화해주기"
      ]
    },
    {
      "cell_type": "code",
      "execution_count": 158,
      "metadata": {},
      "outputs": [
        {
          "data": {
            "text/html": [
              "<div>\n",
              "<style scoped>\n",
              "    .dataframe tbody tr th:only-of-type {\n",
              "        vertical-align: middle;\n",
              "    }\n",
              "\n",
              "    .dataframe tbody tr th {\n",
              "        vertical-align: top;\n",
              "    }\n",
              "\n",
              "    .dataframe thead th {\n",
              "        text-align: right;\n",
              "    }\n",
              "</style>\n",
              "<table border=\"1\" class=\"dataframe\">\n",
              "  <thead>\n",
              "    <tr style=\"text-align: right;\">\n",
              "      <th></th>\n",
              "      <th>X_01</th>\n",
              "      <th>X_03</th>\n",
              "      <th>X_05</th>\n",
              "      <th>X_06</th>\n",
              "      <th>X_07</th>\n",
              "      <th>X_08</th>\n",
              "      <th>X_09</th>\n",
              "      <th>X_12</th>\n",
              "      <th>X_13</th>\n",
              "      <th>X_14</th>\n",
              "      <th>...</th>\n",
              "      <th>X_45</th>\n",
              "      <th>X_46</th>\n",
              "      <th>X_49</th>\n",
              "      <th>X_50</th>\n",
              "      <th>X_51</th>\n",
              "      <th>X_52</th>\n",
              "      <th>X_53</th>\n",
              "      <th>X_54</th>\n",
              "      <th>X_55</th>\n",
              "      <th>X_56</th>\n",
              "    </tr>\n",
              "  </thead>\n",
              "  <tbody>\n",
              "    <tr>\n",
              "      <th>count</th>\n",
              "      <td>32678.000000</td>\n",
              "      <td>32678.000000</td>\n",
              "      <td>32678.000000</td>\n",
              "      <td>32678.000000</td>\n",
              "      <td>32678.00000</td>\n",
              "      <td>32678.000000</td>\n",
              "      <td>32678.000000</td>\n",
              "      <td>32678.000000</td>\n",
              "      <td>32678.000000</td>\n",
              "      <td>32678.000000</td>\n",
              "      <td>...</td>\n",
              "      <td>32678.000000</td>\n",
              "      <td>32678.000000</td>\n",
              "      <td>32678.000000</td>\n",
              "      <td>32678.000000</td>\n",
              "      <td>32678.000000</td>\n",
              "      <td>32678.000000</td>\n",
              "      <td>32678.000000</td>\n",
              "      <td>32678.000000</td>\n",
              "      <td>32678.000000</td>\n",
              "      <td>32678.000000</td>\n",
              "    </tr>\n",
              "    <tr>\n",
              "      <th>mean</th>\n",
              "      <td>68.418349</td>\n",
              "      <td>68.837256</td>\n",
              "      <td>102.342691</td>\n",
              "      <td>70.575914</td>\n",
              "      <td>29.31412</td>\n",
              "      <td>140.434067</td>\n",
              "      <td>226.709094</td>\n",
              "      <td>4.373371</td>\n",
              "      <td>0.143548</td>\n",
              "      <td>13.372220</td>\n",
              "      <td>...</td>\n",
              "      <td>0.154054</td>\n",
              "      <td>1468.310086</td>\n",
              "      <td>16259.317563</td>\n",
              "      <td>130.828380</td>\n",
              "      <td>131.512527</td>\n",
              "      <td>138.624002</td>\n",
              "      <td>128.044266</td>\n",
              "      <td>128.083342</td>\n",
              "      <td>137.908888</td>\n",
              "      <td>128.493433</td>\n",
              "    </tr>\n",
              "    <tr>\n",
              "      <th>std</th>\n",
              "      <td>2.643880</td>\n",
              "      <td>5.206986</td>\n",
              "      <td>0.549319</td>\n",
              "      <td>2.231823</td>\n",
              "      <td>7.23177</td>\n",
              "      <td>62.293586</td>\n",
              "      <td>59.508754</td>\n",
              "      <td>0.021773</td>\n",
              "      <td>0.025126</td>\n",
              "      <td>0.029624</td>\n",
              "      <td>...</td>\n",
              "      <td>0.047290</td>\n",
              "      <td>2.049073</td>\n",
              "      <td>4981.000912</td>\n",
              "      <td>6.305952</td>\n",
              "      <td>6.252458</td>\n",
              "      <td>6.699081</td>\n",
              "      <td>6.027543</td>\n",
              "      <td>5.793337</td>\n",
              "      <td>6.817780</td>\n",
              "      <td>5.803410</td>\n",
              "    </tr>\n",
              "    <tr>\n",
              "      <th>min</th>\n",
              "      <td>55.248000</td>\n",
              "      <td>55.570000</td>\n",
              "      <td>101.734000</td>\n",
              "      <td>61.726000</td>\n",
              "      <td>13.39000</td>\n",
              "      <td>90.020000</td>\n",
              "      <td>37.580000</td>\n",
              "      <td>4.290000</td>\n",
              "      <td>0.050000</td>\n",
              "      <td>13.090000</td>\n",
              "      <td>...</td>\n",
              "      <td>0.010000</td>\n",
              "      <td>1457.000000</td>\n",
              "      <td>10000.530000</td>\n",
              "      <td>21.800000</td>\n",
              "      <td>21.910000</td>\n",
              "      <td>23.100000</td>\n",
              "      <td>21.330000</td>\n",
              "      <td>21.340000</td>\n",
              "      <td>22.980000</td>\n",
              "      <td>21.410000</td>\n",
              "    </tr>\n",
              "    <tr>\n",
              "      <th>25%</th>\n",
              "      <td>66.465000</td>\n",
              "      <td>65.070000</td>\n",
              "      <td>101.951000</td>\n",
              "      <td>68.864000</td>\n",
              "      <td>27.87000</td>\n",
              "      <td>109.740000</td>\n",
              "      <td>189.040000</td>\n",
              "      <td>4.360000</td>\n",
              "      <td>0.130000</td>\n",
              "      <td>13.350000</td>\n",
              "      <td>...</td>\n",
              "      <td>0.120000</td>\n",
              "      <td>1469.000000</td>\n",
              "      <td>13355.330000</td>\n",
              "      <td>127.051623</td>\n",
              "      <td>127.745386</td>\n",
              "      <td>134.525642</td>\n",
              "      <td>124.464203</td>\n",
              "      <td>124.797119</td>\n",
              "      <td>133.727981</td>\n",
              "      <td>125.177250</td>\n",
              "    </tr>\n",
              "    <tr>\n",
              "      <th>50%</th>\n",
              "      <td>68.504000</td>\n",
              "      <td>67.270000</td>\n",
              "      <td>102.008000</td>\n",
              "      <td>69.884000</td>\n",
              "      <td>28.78000</td>\n",
              "      <td>116.040000</td>\n",
              "      <td>233.900000</td>\n",
              "      <td>4.370000</td>\n",
              "      <td>0.140000</td>\n",
              "      <td>13.370000</td>\n",
              "      <td>...</td>\n",
              "      <td>0.150000</td>\n",
              "      <td>1469.000000</td>\n",
              "      <td>15392.215000</td>\n",
              "      <td>130.775628</td>\n",
              "      <td>131.477398</td>\n",
              "      <td>138.628339</td>\n",
              "      <td>128.087755</td>\n",
              "      <td>128.205631</td>\n",
              "      <td>137.916081</td>\n",
              "      <td>128.496144</td>\n",
              "    </tr>\n",
              "    <tr>\n",
              "      <th>75%</th>\n",
              "      <td>69.524000</td>\n",
              "      <td>71.670000</td>\n",
              "      <td>103.145000</td>\n",
              "      <td>71.923000</td>\n",
              "      <td>29.74000</td>\n",
              "      <td>133.310000</td>\n",
              "      <td>263.080000</td>\n",
              "      <td>4.390000</td>\n",
              "      <td>0.160000</td>\n",
              "      <td>13.390000</td>\n",
              "      <td>...</td>\n",
              "      <td>0.190000</td>\n",
              "      <td>1469.000000</td>\n",
              "      <td>17587.105000</td>\n",
              "      <td>134.590993</td>\n",
              "      <td>135.316654</td>\n",
              "      <td>142.792187</td>\n",
              "      <td>131.706060</td>\n",
              "      <td>131.539814</td>\n",
              "      <td>142.081366</td>\n",
              "      <td>131.917785</td>\n",
              "    </tr>\n",
              "    <tr>\n",
              "      <th>max</th>\n",
              "      <td>86.859000</td>\n",
              "      <td>88.670000</td>\n",
              "      <td>103.161000</td>\n",
              "      <td>87.219000</td>\n",
              "      <td>163.86000</td>\n",
              "      <td>598.190000</td>\n",
              "      <td>637.540000</td>\n",
              "      <td>4.480000</td>\n",
              "      <td>0.340000</td>\n",
              "      <td>13.510000</td>\n",
              "      <td>...</td>\n",
              "      <td>0.420000</td>\n",
              "      <td>1469.000000</td>\n",
              "      <td>49926.730000</td>\n",
              "      <td>162.657956</td>\n",
              "      <td>161.207806</td>\n",
              "      <td>171.466684</td>\n",
              "      <td>169.774016</td>\n",
              "      <td>169.065281</td>\n",
              "      <td>166.922230</td>\n",
              "      <td>157.930676</td>\n",
              "    </tr>\n",
              "  </tbody>\n",
              "</table>\n",
              "<p>8 rows × 49 columns</p>\n",
              "</div>"
            ],
            "text/plain": [
              "               X_01          X_03          X_05          X_06         X_07  \\\n",
              "count  32678.000000  32678.000000  32678.000000  32678.000000  32678.00000   \n",
              "mean      68.418349     68.837256    102.342691     70.575914     29.31412   \n",
              "std        2.643880      5.206986      0.549319      2.231823      7.23177   \n",
              "min       55.248000     55.570000    101.734000     61.726000     13.39000   \n",
              "25%       66.465000     65.070000    101.951000     68.864000     27.87000   \n",
              "50%       68.504000     67.270000    102.008000     69.884000     28.78000   \n",
              "75%       69.524000     71.670000    103.145000     71.923000     29.74000   \n",
              "max       86.859000     88.670000    103.161000     87.219000    163.86000   \n",
              "\n",
              "               X_08          X_09          X_12          X_13          X_14  \\\n",
              "count  32678.000000  32678.000000  32678.000000  32678.000000  32678.000000   \n",
              "mean     140.434067    226.709094      4.373371      0.143548     13.372220   \n",
              "std       62.293586     59.508754      0.021773      0.025126      0.029624   \n",
              "min       90.020000     37.580000      4.290000      0.050000     13.090000   \n",
              "25%      109.740000    189.040000      4.360000      0.130000     13.350000   \n",
              "50%      116.040000    233.900000      4.370000      0.140000     13.370000   \n",
              "75%      133.310000    263.080000      4.390000      0.160000     13.390000   \n",
              "max      598.190000    637.540000      4.480000      0.340000     13.510000   \n",
              "\n",
              "       ...          X_45          X_46          X_49          X_50  \\\n",
              "count  ...  32678.000000  32678.000000  32678.000000  32678.000000   \n",
              "mean   ...      0.154054   1468.310086  16259.317563    130.828380   \n",
              "std    ...      0.047290      2.049073   4981.000912      6.305952   \n",
              "min    ...      0.010000   1457.000000  10000.530000     21.800000   \n",
              "25%    ...      0.120000   1469.000000  13355.330000    127.051623   \n",
              "50%    ...      0.150000   1469.000000  15392.215000    130.775628   \n",
              "75%    ...      0.190000   1469.000000  17587.105000    134.590993   \n",
              "max    ...      0.420000   1469.000000  49926.730000    162.657956   \n",
              "\n",
              "               X_51          X_52          X_53          X_54          X_55  \\\n",
              "count  32678.000000  32678.000000  32678.000000  32678.000000  32678.000000   \n",
              "mean     131.512527    138.624002    128.044266    128.083342    137.908888   \n",
              "std        6.252458      6.699081      6.027543      5.793337      6.817780   \n",
              "min       21.910000     23.100000     21.330000     21.340000     22.980000   \n",
              "25%      127.745386    134.525642    124.464203    124.797119    133.727981   \n",
              "50%      131.477398    138.628339    128.087755    128.205631    137.916081   \n",
              "75%      135.316654    142.792187    131.706060    131.539814    142.081366   \n",
              "max      161.207806    171.466684    169.774016    169.065281    166.922230   \n",
              "\n",
              "               X_56  \n",
              "count  32678.000000  \n",
              "mean     128.493433  \n",
              "std        5.803410  \n",
              "min       21.410000  \n",
              "25%      125.177250  \n",
              "50%      128.496144  \n",
              "75%      131.917785  \n",
              "max      157.930676  \n",
              "\n",
              "[8 rows x 49 columns]"
            ]
          },
          "execution_count": 158,
          "metadata": {},
          "output_type": "execute_result"
        }
      ],
      "source": [
        "test_df5.describe()"
      ]
    },
    {
      "cell_type": "markdown",
      "metadata": {},
      "source": []
    },
    {
      "cell_type": "code",
      "execution_count": 131,
      "metadata": {},
      "outputs": [],
      "source": [
        "df1_index = test_df1.index\n",
        "df2_index = test_df2.index\n",
        "df3_index = test_df3.index\n",
        "df4_index = test_df4.index\n",
        "df5_index = test_df5.index\n",
        "df6_index = test_df6.index\n",
        "df7_index = test_df7.index\n",
        "df8_index = test_df8.index\n",
        "df9_index = test_df9.index #인덱싱해주기"
      ]
    },
    {
      "cell_type": "code",
      "execution_count": 25,
      "metadata": {
        "id": "QZjQwbhGCYAm"
      },
      "outputs": [],
      "source": [
        "# minmax_scaler =MinMaxScaler()\n",
        "# test_df1 =minmax_scaler.fit_transform(test_df1)\n",
        "# test_df2 =minmax_scaler.fit_transform(test_df2)\n",
        "# test_df3 =minmax_scaler.fit_transform(test_df3)"
      ]
    },
    {
      "cell_type": "code",
      "execution_count": 133,
      "metadata": {
        "colab": {
          "base_uri": "https://localhost:8080/"
        },
        "id": "UInnnZMZ5PB4",
        "outputId": "3853440b-8d4b-4c85-acaa-d03bd2f2818f"
      },
      "outputs": [],
      "source": [
        "pred1 = LR1.predict(test_df1)\n",
        "pred1 = pd.DataFrame(pred1)\n",
        "pred1.index = df1_index\n",
        "\n",
        "pred2 = LR2.predict(test_df2)\n",
        "pred2 = pd.DataFrame(pred2)\n",
        "pred2.index = df2_index\n",
        "\n",
        "pred3 = LR3.predict(test_df3)\n",
        "pred3 = pd.DataFrame(pred3)\n",
        "pred3.index = df3_index\n",
        "\n",
        "pred4 = LR4.predict(test_df4)\n",
        "pred4 = pd.DataFrame(pred4)\n",
        "pred4.index = df4_index\n",
        "\n",
        "pred5 = LR5.predict(test_df5)\n",
        "pred5 = pd.DataFrame(pred5)\n",
        "pred5.index = df5_index\n",
        "\n",
        "pred6 = LR6.predict(test_df6)\n",
        "pred6 = pd.DataFrame(pred6)\n",
        "pred6.index = df6_index\n",
        "\n",
        "pred7 = LR7.predict(test_df7)\n",
        "pred7 = pd.DataFrame(pred7)\n",
        "pred7.index = df7_index\n",
        "\n",
        "pred8 = LR8.predict(test_df8)\n",
        "pred8 = pd.DataFrame(pred8)\n",
        "pred8.index = df8_index\n",
        "\n",
        "pred9 = LR9.predict(test_df9)\n",
        "pred9 = pd.DataFrame(pred9)\n",
        "pred9.index = df9_index"
      ]
    },
    {
      "cell_type": "code",
      "execution_count": 134,
      "metadata": {
        "id": "KYLv4aMO5PB7"
      },
      "outputs": [],
      "source": [
        "pred = pd.concat([pred1,pred2,pred3,pred4,pred5,pred6,pred7,pred8,pred9])"
      ]
    },
    {
      "cell_type": "code",
      "execution_count": 29,
      "metadata": {
        "id": "mlJ9UuvO5PB7"
      },
      "outputs": [],
      "source": []
    },
    {
      "cell_type": "code",
      "execution_count": 135,
      "metadata": {
        "id": "G9sQgjWw5PB7"
      },
      "outputs": [],
      "source": [
        "pred = pred.sort_index(ascending=True) ##인덱스 순서대로 오름차순 정렬"
      ]
    },
    {
      "cell_type": "code",
      "execution_count": 136,
      "metadata": {
        "id": "5HFFiJF45PB7"
      },
      "outputs": [],
      "source": [
        "pred = np.array(pred)"
      ]
    },
    {
      "cell_type": "code",
      "execution_count": 137,
      "metadata": {
        "colab": {
          "base_uri": "https://localhost:8080/"
        },
        "id": "K5fO6aGe5PB7",
        "outputId": "f00b03e0-2df7-4fdf-adab-19f2267be5f5"
      },
      "outputs": [
        {
          "data": {
            "text/plain": [
              "array([[  1.4049698 ,   1.18982587,   1.14490273, ..., -26.06239915,\n",
              "        -26.00685409, -25.99193822],\n",
              "       [  1.4585303 ,   1.2001675 ,   1.16496447, ..., -26.12370758,\n",
              "        -26.0665511 , -26.0454098 ],\n",
              "       [  1.39533357,   1.07615735,   1.05529695, ..., -25.99970899,\n",
              "        -25.92333745, -25.88948853],\n",
              "       ...,\n",
              "       [  1.16827865,   0.92958318,   1.03758552, ..., -26.3763262 ,\n",
              "        -26.31212742, -26.45339811],\n",
              "       [  1.25178268,   0.9175029 ,   0.98460003, ..., -26.4737358 ,\n",
              "        -26.38223616, -26.49592195],\n",
              "       [  1.32163306,   1.01760107,   1.08108708, ..., -26.3890149 ,\n",
              "        -26.34245456, -26.38758063]])"
            ]
          },
          "execution_count": 137,
          "metadata": {},
          "output_type": "execute_result"
        }
      ],
      "source": [
        "pred"
      ]
    },
    {
      "cell_type": "code",
      "execution_count": 138,
      "metadata": {
        "id": "55UoW_6n5PB8"
      },
      "outputs": [],
      "source": [
        "submit = pd.read_csv('./sample_submission.csv')"
      ]
    },
    {
      "cell_type": "code",
      "execution_count": 139,
      "metadata": {
        "colab": {
          "base_uri": "https://localhost:8080/"
        },
        "id": "S9IoAgK95PB8",
        "outputId": "390f8b46-1242-472e-97ad-1cf706b43881"
      },
      "outputs": [
        {
          "name": "stdout",
          "output_type": "stream",
          "text": [
            "Done.\n"
          ]
        }
      ],
      "source": [
        "for idx, col in enumerate(submit.columns):\n",
        "    if col=='ID':\n",
        "        continue\n",
        "    submit[col] = pred[:,idx-1]\n",
        "print('Done.')"
      ]
    },
    {
      "cell_type": "code",
      "execution_count": 140,
      "metadata": {
        "id": "PP77Rfii5PB8"
      },
      "outputs": [],
      "source": [
        "submit.to_csv('./rfbin5.csv', index=False)"
      ]
    },
    {
      "cell_type": "code",
      "execution_count": 1,
      "metadata": {
        "id": "QwibOaYB5PB9"
      },
      "outputs": [
        {
          "ename": "NameError",
          "evalue": "name 'RandomForestRegressor' is not defined",
          "output_type": "error",
          "traceback": [
            "\u001b[1;31m---------------------------------------------------------------------------\u001b[0m",
            "\u001b[1;31mNameError\u001b[0m                                 Traceback (most recent call last)",
            "\u001b[1;32mc:\\Users\\User\\Desktop\\자율주행깃\\trendsetter\\glod bone\\변수나눠주기2.ipynb 셀 34\u001b[0m in \u001b[0;36m<cell line: 7>\u001b[1;34m()\u001b[0m\n\u001b[0;32m      <a href='vscode-notebook-cell:/c%3A/Users/User/Desktop/%EC%9E%90%EC%9C%A8%EC%A3%BC%ED%96%89%EA%B9%83/trendsetter/glod%20bone/%EB%B3%80%EC%88%98%EB%82%98%EB%88%A0%EC%A3%BC%EA%B8%B02.ipynb#X45sZmlsZQ%3D%3D?line=0'>1</a>\u001b[0m \u001b[39mfrom\u001b[39;00m \u001b[39msklearn\u001b[39;00m\u001b[39m.\u001b[39;00m\u001b[39mmodel_selection\u001b[39;00m \u001b[39mimport\u001b[39;00m GridSearchCV\n\u001b[0;32m      <a href='vscode-notebook-cell:/c%3A/Users/User/Desktop/%EC%9E%90%EC%9C%A8%EC%A3%BC%ED%96%89%EA%B9%83/trendsetter/glod%20bone/%EB%B3%80%EC%88%98%EB%82%98%EB%88%A0%EC%A3%BC%EA%B8%B02.ipynb#X45sZmlsZQ%3D%3D?line=2'>3</a>\u001b[0m param_grid \u001b[39m=\u001b[39m [\n\u001b[0;32m      <a href='vscode-notebook-cell:/c%3A/Users/User/Desktop/%EC%9E%90%EC%9C%A8%EC%A3%BC%ED%96%89%EA%B9%83/trendsetter/glod%20bone/%EB%B3%80%EC%88%98%EB%82%98%EB%88%A0%EC%A3%BC%EA%B8%B02.ipynb#X45sZmlsZQ%3D%3D?line=3'>4</a>\u001b[0m         {\u001b[39m'\u001b[39m\u001b[39mn_estimators\u001b[39m\u001b[39m'\u001b[39m: [ \u001b[39m100\u001b[39m, \u001b[39m150\u001b[39m, \u001b[39m200\u001b[39m], \u001b[39m'\u001b[39m\u001b[39mmax_depth\u001b[39m\u001b[39m'\u001b[39m:[\u001b[39m25\u001b[39m, \u001b[39m30\u001b[39m]}\n\u001b[0;32m      <a href='vscode-notebook-cell:/c%3A/Users/User/Desktop/%EC%9E%90%EC%9C%A8%EC%A3%BC%ED%96%89%EA%B9%83/trendsetter/glod%20bone/%EB%B3%80%EC%88%98%EB%82%98%EB%88%A0%EC%A3%BC%EA%B8%B02.ipynb#X45sZmlsZQ%3D%3D?line=4'>5</a>\u001b[0m         \n\u001b[0;32m      <a href='vscode-notebook-cell:/c%3A/Users/User/Desktop/%EC%9E%90%EC%9C%A8%EC%A3%BC%ED%96%89%EA%B9%83/trendsetter/glod%20bone/%EB%B3%80%EC%88%98%EB%82%98%EB%88%A0%EC%A3%BC%EA%B8%B02.ipynb#X45sZmlsZQ%3D%3D?line=5'>6</a>\u001b[0m     ]\n\u001b[1;32m----> <a href='vscode-notebook-cell:/c%3A/Users/User/Desktop/%EC%9E%90%EC%9C%A8%EC%A3%BC%ED%96%89%EA%B9%83/trendsetter/glod%20bone/%EB%B3%80%EC%88%98%EB%82%98%EB%88%A0%EC%A3%BC%EA%B8%B02.ipynb#X45sZmlsZQ%3D%3D?line=6'>7</a>\u001b[0m forest_reg \u001b[39m=\u001b[39m RandomForestRegressor()\n\u001b[0;32m      <a href='vscode-notebook-cell:/c%3A/Users/User/Desktop/%EC%9E%90%EC%9C%A8%EC%A3%BC%ED%96%89%EA%B9%83/trendsetter/glod%20bone/%EB%B3%80%EC%88%98%EB%82%98%EB%88%A0%EC%A3%BC%EA%B8%B02.ipynb#X45sZmlsZQ%3D%3D?line=8'>9</a>\u001b[0m grid_search \u001b[39m=\u001b[39m GridSearchCV(forest_reg, param_grid, cv\u001b[39m=\u001b[39m\u001b[39m5\u001b[39m,\n\u001b[0;32m     <a href='vscode-notebook-cell:/c%3A/Users/User/Desktop/%EC%9E%90%EC%9C%A8%EC%A3%BC%ED%96%89%EA%B9%83/trendsetter/glod%20bone/%EB%B3%80%EC%88%98%EB%82%98%EB%88%A0%EC%A3%BC%EA%B8%B02.ipynb#X45sZmlsZQ%3D%3D?line=9'>10</a>\u001b[0m                            scoring\u001b[39m=\u001b[39m\u001b[39m'\u001b[39m\u001b[39mneg_mean_squared_error\u001b[39m\u001b[39m'\u001b[39m,\n\u001b[0;32m     <a href='vscode-notebook-cell:/c%3A/Users/User/Desktop/%EC%9E%90%EC%9C%A8%EC%A3%BC%ED%96%89%EA%B9%83/trendsetter/glod%20bone/%EB%B3%80%EC%88%98%EB%82%98%EB%88%A0%EC%A3%BC%EA%B8%B02.ipynb#X45sZmlsZQ%3D%3D?line=10'>11</a>\u001b[0m                            return_train_score\u001b[39m=\u001b[39m\u001b[39mTrue\u001b[39;00m)\n\u001b[0;32m     <a href='vscode-notebook-cell:/c%3A/Users/User/Desktop/%EC%9E%90%EC%9C%A8%EC%A3%BC%ED%96%89%EA%B9%83/trendsetter/glod%20bone/%EB%B3%80%EC%88%98%EB%82%98%EB%88%A0%EC%A3%BC%EA%B8%B02.ipynb#X45sZmlsZQ%3D%3D?line=12'>13</a>\u001b[0m grid_search\u001b[39m.\u001b[39mfit(train_x5, train_y5)\n",
            "\u001b[1;31mNameError\u001b[0m: name 'RandomForestRegressor' is not defined"
          ]
        }
      ],
      "source": [
        "from sklearn.model_selection import GridSearchCV\n",
        " \n",
        "param_grid = [\n",
        "        {'n_estimators': [ 100, 150, 200], 'max_depth':[25, 30]}\n",
        "        \n",
        "    ]\n",
        "forest_reg = RandomForestRegressor()\n",
        " \n",
        "grid_search = GridSearchCV(forest_reg, param_grid, cv=5,\n",
        "                           scoring='neg_mean_squared_error',\n",
        "                           return_train_score=True)\n",
        " \n",
        "grid_search.fit(train_x5, train_y5)"
      ]
    },
    {
      "cell_type": "code",
      "execution_count": null,
      "metadata": {
        "id": "1fRk6rA3Cz0X"
      },
      "outputs": [],
      "source": [
        "print(grid_search.best_params_)"
      ]
    }
  ],
  "metadata": {
    "colab": {
      "collapsed_sections": [],
      "machine_shape": "hm",
      "name": "변수나눠주기.ipynb",
      "provenance": []
    },
    "gpuClass": "standard",
    "kernelspec": {
      "display_name": "Python 3.9.13 64-bit",
      "language": "python",
      "name": "python3"
    },
    "language_info": {
      "codemirror_mode": {
        "name": "ipython",
        "version": 3
      },
      "file_extension": ".py",
      "mimetype": "text/x-python",
      "name": "python",
      "nbconvert_exporter": "python",
      "pygments_lexer": "ipython3",
      "version": "3.9.13"
    },
    "orig_nbformat": 4,
    "vscode": {
      "interpreter": {
        "hash": "cf92aa13fedf815d5c8dd192b8d835913fde3e8bc926b2a0ad6cc74ef2ba3ca2"
      }
    }
  },
  "nbformat": 4,
  "nbformat_minor": 0
}
