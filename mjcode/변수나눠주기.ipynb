{
  "cells": [
    {
      "cell_type": "code",
      "execution_count": 1,
      "metadata": {
        "id": "jgREh4fF5PBp"
      },
      "outputs": [],
      "source": [
        "from sklearn.ensemble import RandomForestRegressor\n",
        "from sklearn.model_selection import cross_val_score\n",
        "import pandas as pd\n",
        "import numpy as np\n",
        "from sklearn.model_selection import GridSearchCV\n",
        "from sklearn.model_selection import train_test_split\n",
        "from sklearn.metrics import mean_squared_error\n",
        "import math\n",
        "from sklearn.multioutput import MultiOutputRegressor\n",
        "import matplotlib.pyplot as plt # 득점모델 변수 중요도\n",
        "import seaborn as sns\n",
        "import pandas as pd\n",
        "import random\n",
        "import os\n",
        "import numpy as np\n",
        "from sklearn.preprocessing import MinMaxScaler\n",
        "%matplotlib inline"
      ]
    },
    {
      "cell_type": "code",
      "source": [
        "from google.colab import drive\n",
        "drive.mount('/content/drive')"
      ],
      "metadata": {
        "colab": {
          "base_uri": "https://localhost:8080/"
        },
        "id": "r6Nrq6WA5Q6k",
        "outputId": "753d3662-a567-4a4f-ff07-5e8e1bba2ab3"
      },
      "execution_count": 2,
      "outputs": [
        {
          "output_type": "stream",
          "name": "stdout",
          "text": [
            "Mounted at /content/drive\n"
          ]
        }
      ]
    },
    {
      "cell_type": "code",
      "execution_count": 3,
      "metadata": {
        "id": "NQsMBs175PBt"
      },
      "outputs": [],
      "source": [
        "def seed_everything(seed):\n",
        "    random.seed(seed)\n",
        "    os.environ['PYTHONHASHSEED'] = str(seed)\n",
        "    np.random.seed(seed)\n",
        "seed_everything(42) # Seed 고정"
      ]
    },
    {
      "cell_type": "code",
      "execution_count": 4,
      "metadata": {
        "colab": {
          "base_uri": "https://localhost:8080/",
          "height": 363
        },
        "id": "Jwl5Vh-L5PBu",
        "outputId": "fcaae558-0475-469f-df92-282b1df4e070"
      },
      "outputs": [
        {
          "output_type": "error",
          "ename": "FileNotFoundError",
          "evalue": "ignored",
          "traceback": [
            "\u001b[0;31m---------------------------------------------------------------------------\u001b[0m",
            "\u001b[0;31mFileNotFoundError\u001b[0m                         Traceback (most recent call last)",
            "\u001b[0;32m<ipython-input-4-05d1b245382f>\u001b[0m in \u001b[0;36m<module>\u001b[0;34m()\u001b[0m\n\u001b[1;32m      1\u001b[0m \u001b[0;31m##train데이터 불러오기\u001b[0m\u001b[0;34m\u001b[0m\u001b[0;34m\u001b[0m\u001b[0;34m\u001b[0m\u001b[0m\n\u001b[0;32m----> 2\u001b[0;31m \u001b[0mtrain_df\u001b[0m \u001b[0;34m=\u001b[0m \u001b[0mpd\u001b[0m\u001b[0;34m.\u001b[0m\u001b[0mread_csv\u001b[0m\u001b[0;34m(\u001b[0m\u001b[0;34m'drive/MyDrive/Video/train.csv'\u001b[0m\u001b[0;34m)\u001b[0m\u001b[0;34m\u001b[0m\u001b[0;34m\u001b[0m\u001b[0m\n\u001b[0m\u001b[1;32m      3\u001b[0m \u001b[0mtrain_df\u001b[0m\u001b[0;34m.\u001b[0m\u001b[0mdrop\u001b[0m\u001b[0;34m(\u001b[0m\u001b[0;34m[\u001b[0m \u001b[0;34m'X_02'\u001b[0m\u001b[0;34m,\u001b[0m \u001b[0;34m'X_48'\u001b[0m\u001b[0;34m,\u001b[0m \u001b[0;34m'X_47'\u001b[0m\u001b[0;34m,\u001b[0m \u001b[0;34m'X_23'\u001b[0m\u001b[0;34m,\u001b[0m \u001b[0;34m'X_11'\u001b[0m\u001b[0;34m,\u001b[0m \u001b[0;34m'X_10'\u001b[0m\u001b[0;34m,\u001b[0m \u001b[0;34m'X_04'\u001b[0m\u001b[0;34m]\u001b[0m\u001b[0;34m,\u001b[0m \u001b[0minplace\u001b[0m\u001b[0;34m=\u001b[0m \u001b[0;32mTrue\u001b[0m\u001b[0;34m,\u001b[0m \u001b[0maxis\u001b[0m\u001b[0;34m=\u001b[0m\u001b[0;36m1\u001b[0m\u001b[0;34m)\u001b[0m \u001b[0;31m# 상관성 없는 컬럼 제거\u001b[0m\u001b[0;34m\u001b[0m\u001b[0;34m\u001b[0m\u001b[0m\n",
            "\u001b[0;32m/usr/local/lib/python3.7/dist-packages/pandas/util/_decorators.py\u001b[0m in \u001b[0;36mwrapper\u001b[0;34m(*args, **kwargs)\u001b[0m\n\u001b[1;32m    309\u001b[0m                     \u001b[0mstacklevel\u001b[0m\u001b[0;34m=\u001b[0m\u001b[0mstacklevel\u001b[0m\u001b[0;34m,\u001b[0m\u001b[0;34m\u001b[0m\u001b[0;34m\u001b[0m\u001b[0m\n\u001b[1;32m    310\u001b[0m                 )\n\u001b[0;32m--> 311\u001b[0;31m             \u001b[0;32mreturn\u001b[0m \u001b[0mfunc\u001b[0m\u001b[0;34m(\u001b[0m\u001b[0;34m*\u001b[0m\u001b[0margs\u001b[0m\u001b[0;34m,\u001b[0m \u001b[0;34m**\u001b[0m\u001b[0mkwargs\u001b[0m\u001b[0;34m)\u001b[0m\u001b[0;34m\u001b[0m\u001b[0;34m\u001b[0m\u001b[0m\n\u001b[0m\u001b[1;32m    312\u001b[0m \u001b[0;34m\u001b[0m\u001b[0m\n\u001b[1;32m    313\u001b[0m         \u001b[0;32mreturn\u001b[0m \u001b[0mwrapper\u001b[0m\u001b[0;34m\u001b[0m\u001b[0;34m\u001b[0m\u001b[0m\n",
            "\u001b[0;32m/usr/local/lib/python3.7/dist-packages/pandas/io/parsers/readers.py\u001b[0m in \u001b[0;36mread_csv\u001b[0;34m(filepath_or_buffer, sep, delimiter, header, names, index_col, usecols, squeeze, prefix, mangle_dupe_cols, dtype, engine, converters, true_values, false_values, skipinitialspace, skiprows, skipfooter, nrows, na_values, keep_default_na, na_filter, verbose, skip_blank_lines, parse_dates, infer_datetime_format, keep_date_col, date_parser, dayfirst, cache_dates, iterator, chunksize, compression, thousands, decimal, lineterminator, quotechar, quoting, doublequote, escapechar, comment, encoding, encoding_errors, dialect, error_bad_lines, warn_bad_lines, on_bad_lines, delim_whitespace, low_memory, memory_map, float_precision, storage_options)\u001b[0m\n\u001b[1;32m    584\u001b[0m     \u001b[0mkwds\u001b[0m\u001b[0;34m.\u001b[0m\u001b[0mupdate\u001b[0m\u001b[0;34m(\u001b[0m\u001b[0mkwds_defaults\u001b[0m\u001b[0;34m)\u001b[0m\u001b[0;34m\u001b[0m\u001b[0;34m\u001b[0m\u001b[0m\n\u001b[1;32m    585\u001b[0m \u001b[0;34m\u001b[0m\u001b[0m\n\u001b[0;32m--> 586\u001b[0;31m     \u001b[0;32mreturn\u001b[0m \u001b[0m_read\u001b[0m\u001b[0;34m(\u001b[0m\u001b[0mfilepath_or_buffer\u001b[0m\u001b[0;34m,\u001b[0m \u001b[0mkwds\u001b[0m\u001b[0;34m)\u001b[0m\u001b[0;34m\u001b[0m\u001b[0;34m\u001b[0m\u001b[0m\n\u001b[0m\u001b[1;32m    587\u001b[0m \u001b[0;34m\u001b[0m\u001b[0m\n\u001b[1;32m    588\u001b[0m \u001b[0;34m\u001b[0m\u001b[0m\n",
            "\u001b[0;32m/usr/local/lib/python3.7/dist-packages/pandas/io/parsers/readers.py\u001b[0m in \u001b[0;36m_read\u001b[0;34m(filepath_or_buffer, kwds)\u001b[0m\n\u001b[1;32m    480\u001b[0m \u001b[0;34m\u001b[0m\u001b[0m\n\u001b[1;32m    481\u001b[0m     \u001b[0;31m# Create the parser.\u001b[0m\u001b[0;34m\u001b[0m\u001b[0;34m\u001b[0m\u001b[0;34m\u001b[0m\u001b[0m\n\u001b[0;32m--> 482\u001b[0;31m     \u001b[0mparser\u001b[0m \u001b[0;34m=\u001b[0m \u001b[0mTextFileReader\u001b[0m\u001b[0;34m(\u001b[0m\u001b[0mfilepath_or_buffer\u001b[0m\u001b[0;34m,\u001b[0m \u001b[0;34m**\u001b[0m\u001b[0mkwds\u001b[0m\u001b[0;34m)\u001b[0m\u001b[0;34m\u001b[0m\u001b[0;34m\u001b[0m\u001b[0m\n\u001b[0m\u001b[1;32m    483\u001b[0m \u001b[0;34m\u001b[0m\u001b[0m\n\u001b[1;32m    484\u001b[0m     \u001b[0;32mif\u001b[0m \u001b[0mchunksize\u001b[0m \u001b[0;32mor\u001b[0m \u001b[0miterator\u001b[0m\u001b[0;34m:\u001b[0m\u001b[0;34m\u001b[0m\u001b[0;34m\u001b[0m\u001b[0m\n",
            "\u001b[0;32m/usr/local/lib/python3.7/dist-packages/pandas/io/parsers/readers.py\u001b[0m in \u001b[0;36m__init__\u001b[0;34m(self, f, engine, **kwds)\u001b[0m\n\u001b[1;32m    809\u001b[0m             \u001b[0mself\u001b[0m\u001b[0;34m.\u001b[0m\u001b[0moptions\u001b[0m\u001b[0;34m[\u001b[0m\u001b[0;34m\"has_index_names\"\u001b[0m\u001b[0;34m]\u001b[0m \u001b[0;34m=\u001b[0m \u001b[0mkwds\u001b[0m\u001b[0;34m[\u001b[0m\u001b[0;34m\"has_index_names\"\u001b[0m\u001b[0;34m]\u001b[0m\u001b[0;34m\u001b[0m\u001b[0;34m\u001b[0m\u001b[0m\n\u001b[1;32m    810\u001b[0m \u001b[0;34m\u001b[0m\u001b[0m\n\u001b[0;32m--> 811\u001b[0;31m         \u001b[0mself\u001b[0m\u001b[0;34m.\u001b[0m\u001b[0m_engine\u001b[0m \u001b[0;34m=\u001b[0m \u001b[0mself\u001b[0m\u001b[0;34m.\u001b[0m\u001b[0m_make_engine\u001b[0m\u001b[0;34m(\u001b[0m\u001b[0mself\u001b[0m\u001b[0;34m.\u001b[0m\u001b[0mengine\u001b[0m\u001b[0;34m)\u001b[0m\u001b[0;34m\u001b[0m\u001b[0;34m\u001b[0m\u001b[0m\n\u001b[0m\u001b[1;32m    812\u001b[0m \u001b[0;34m\u001b[0m\u001b[0m\n\u001b[1;32m    813\u001b[0m     \u001b[0;32mdef\u001b[0m \u001b[0mclose\u001b[0m\u001b[0;34m(\u001b[0m\u001b[0mself\u001b[0m\u001b[0;34m)\u001b[0m\u001b[0;34m:\u001b[0m\u001b[0;34m\u001b[0m\u001b[0;34m\u001b[0m\u001b[0m\n",
            "\u001b[0;32m/usr/local/lib/python3.7/dist-packages/pandas/io/parsers/readers.py\u001b[0m in \u001b[0;36m_make_engine\u001b[0;34m(self, engine)\u001b[0m\n\u001b[1;32m   1038\u001b[0m             )\n\u001b[1;32m   1039\u001b[0m         \u001b[0;31m# error: Too many arguments for \"ParserBase\"\u001b[0m\u001b[0;34m\u001b[0m\u001b[0;34m\u001b[0m\u001b[0;34m\u001b[0m\u001b[0m\n\u001b[0;32m-> 1040\u001b[0;31m         \u001b[0;32mreturn\u001b[0m \u001b[0mmapping\u001b[0m\u001b[0;34m[\u001b[0m\u001b[0mengine\u001b[0m\u001b[0;34m]\u001b[0m\u001b[0;34m(\u001b[0m\u001b[0mself\u001b[0m\u001b[0;34m.\u001b[0m\u001b[0mf\u001b[0m\u001b[0;34m,\u001b[0m \u001b[0;34m**\u001b[0m\u001b[0mself\u001b[0m\u001b[0;34m.\u001b[0m\u001b[0moptions\u001b[0m\u001b[0;34m)\u001b[0m  \u001b[0;31m# type: ignore[call-arg]\u001b[0m\u001b[0;34m\u001b[0m\u001b[0;34m\u001b[0m\u001b[0m\n\u001b[0m\u001b[1;32m   1041\u001b[0m \u001b[0;34m\u001b[0m\u001b[0m\n\u001b[1;32m   1042\u001b[0m     \u001b[0;32mdef\u001b[0m \u001b[0m_failover_to_python\u001b[0m\u001b[0;34m(\u001b[0m\u001b[0mself\u001b[0m\u001b[0;34m)\u001b[0m\u001b[0;34m:\u001b[0m\u001b[0;34m\u001b[0m\u001b[0;34m\u001b[0m\u001b[0m\n",
            "\u001b[0;32m/usr/local/lib/python3.7/dist-packages/pandas/io/parsers/c_parser_wrapper.py\u001b[0m in \u001b[0;36m__init__\u001b[0;34m(self, src, **kwds)\u001b[0m\n\u001b[1;32m     49\u001b[0m \u001b[0;34m\u001b[0m\u001b[0m\n\u001b[1;32m     50\u001b[0m         \u001b[0;31m# open handles\u001b[0m\u001b[0;34m\u001b[0m\u001b[0;34m\u001b[0m\u001b[0;34m\u001b[0m\u001b[0m\n\u001b[0;32m---> 51\u001b[0;31m         \u001b[0mself\u001b[0m\u001b[0;34m.\u001b[0m\u001b[0m_open_handles\u001b[0m\u001b[0;34m(\u001b[0m\u001b[0msrc\u001b[0m\u001b[0;34m,\u001b[0m \u001b[0mkwds\u001b[0m\u001b[0;34m)\u001b[0m\u001b[0;34m\u001b[0m\u001b[0;34m\u001b[0m\u001b[0m\n\u001b[0m\u001b[1;32m     52\u001b[0m         \u001b[0;32massert\u001b[0m \u001b[0mself\u001b[0m\u001b[0;34m.\u001b[0m\u001b[0mhandles\u001b[0m \u001b[0;32mis\u001b[0m \u001b[0;32mnot\u001b[0m \u001b[0;32mNone\u001b[0m\u001b[0;34m\u001b[0m\u001b[0;34m\u001b[0m\u001b[0m\n\u001b[1;32m     53\u001b[0m \u001b[0;34m\u001b[0m\u001b[0m\n",
            "\u001b[0;32m/usr/local/lib/python3.7/dist-packages/pandas/io/parsers/base_parser.py\u001b[0m in \u001b[0;36m_open_handles\u001b[0;34m(self, src, kwds)\u001b[0m\n\u001b[1;32m    227\u001b[0m             \u001b[0mmemory_map\u001b[0m\u001b[0;34m=\u001b[0m\u001b[0mkwds\u001b[0m\u001b[0;34m.\u001b[0m\u001b[0mget\u001b[0m\u001b[0;34m(\u001b[0m\u001b[0;34m\"memory_map\"\u001b[0m\u001b[0;34m,\u001b[0m \u001b[0;32mFalse\u001b[0m\u001b[0;34m)\u001b[0m\u001b[0;34m,\u001b[0m\u001b[0;34m\u001b[0m\u001b[0;34m\u001b[0m\u001b[0m\n\u001b[1;32m    228\u001b[0m             \u001b[0mstorage_options\u001b[0m\u001b[0;34m=\u001b[0m\u001b[0mkwds\u001b[0m\u001b[0;34m.\u001b[0m\u001b[0mget\u001b[0m\u001b[0;34m(\u001b[0m\u001b[0;34m\"storage_options\"\u001b[0m\u001b[0;34m,\u001b[0m \u001b[0;32mNone\u001b[0m\u001b[0;34m)\u001b[0m\u001b[0;34m,\u001b[0m\u001b[0;34m\u001b[0m\u001b[0;34m\u001b[0m\u001b[0m\n\u001b[0;32m--> 229\u001b[0;31m             \u001b[0merrors\u001b[0m\u001b[0;34m=\u001b[0m\u001b[0mkwds\u001b[0m\u001b[0;34m.\u001b[0m\u001b[0mget\u001b[0m\u001b[0;34m(\u001b[0m\u001b[0;34m\"encoding_errors\"\u001b[0m\u001b[0;34m,\u001b[0m \u001b[0;34m\"strict\"\u001b[0m\u001b[0;34m)\u001b[0m\u001b[0;34m,\u001b[0m\u001b[0;34m\u001b[0m\u001b[0;34m\u001b[0m\u001b[0m\n\u001b[0m\u001b[1;32m    230\u001b[0m         )\n\u001b[1;32m    231\u001b[0m \u001b[0;34m\u001b[0m\u001b[0m\n",
            "\u001b[0;32m/usr/local/lib/python3.7/dist-packages/pandas/io/common.py\u001b[0m in \u001b[0;36mget_handle\u001b[0;34m(path_or_buf, mode, encoding, compression, memory_map, is_text, errors, storage_options)\u001b[0m\n\u001b[1;32m    705\u001b[0m                 \u001b[0mencoding\u001b[0m\u001b[0;34m=\u001b[0m\u001b[0mioargs\u001b[0m\u001b[0;34m.\u001b[0m\u001b[0mencoding\u001b[0m\u001b[0;34m,\u001b[0m\u001b[0;34m\u001b[0m\u001b[0;34m\u001b[0m\u001b[0m\n\u001b[1;32m    706\u001b[0m                 \u001b[0merrors\u001b[0m\u001b[0;34m=\u001b[0m\u001b[0merrors\u001b[0m\u001b[0;34m,\u001b[0m\u001b[0;34m\u001b[0m\u001b[0;34m\u001b[0m\u001b[0m\n\u001b[0;32m--> 707\u001b[0;31m                 \u001b[0mnewline\u001b[0m\u001b[0;34m=\u001b[0m\u001b[0;34m\"\"\u001b[0m\u001b[0;34m,\u001b[0m\u001b[0;34m\u001b[0m\u001b[0;34m\u001b[0m\u001b[0m\n\u001b[0m\u001b[1;32m    708\u001b[0m             )\n\u001b[1;32m    709\u001b[0m         \u001b[0;32melse\u001b[0m\u001b[0;34m:\u001b[0m\u001b[0;34m\u001b[0m\u001b[0;34m\u001b[0m\u001b[0m\n",
            "\u001b[0;31mFileNotFoundError\u001b[0m: [Errno 2] No such file or directory: 'drive/MyDrive/Video/train.csv'"
          ]
        }
      ],
      "source": [
        "##train데이터 불러오기\n",
        "train_df = pd.read_csv('drive/MyDrive/Video/train.csv')\n",
        "train_df.drop([ 'X_02', 'X_48', 'X_47', 'X_23', 'X_11', 'X_10', 'X_04'], inplace= True, axis=1) # 상관성 없는 컬럼 제거"
      ]
    },
    {
      "cell_type": "code",
      "execution_count": 6,
      "metadata": {
        "id": "NxfwJ8oE5PBv"
      },
      "outputs": [],
      "source": [
        "train_df1 = train_df[train_df['X_49']<10000]\n",
        "train_df2 = train_df[train_df['X_49']>=10000]\n",
        "train_df2 = train_df2[train_df2['X_49']<50000]\n",
        "train_df3 = train_df[train_df['X_49']>=50000] ##구간화해주기"
      ]
    },
    {
      "cell_type": "code",
      "source": [
        "minmax_scaler =MinMaxScaler()\n",
        "train_df1 =minmax_scaler.fit_transform(train_df1)\n",
        "train_df2 =minmax_scaler.fit_transform(train_df2)\n",
        "train_df3 =minmax_scaler.fit_transform(train_df3)"
      ],
      "metadata": {
        "id": "L7dJ8pdGBq4Y"
      },
      "execution_count": null,
      "outputs": []
    },
    {
      "cell_type": "code",
      "execution_count": 7,
      "metadata": {
        "id": "7TrZiNja5PBv"
      },
      "outputs": [],
      "source": [
        "train_x1 = train_df1.filter(regex='X') # Input : X Featrue\n",
        "train_y1 = train_df1.filter(regex='Y') # Output : Y Feature"
      ]
    },
    {
      "cell_type": "code",
      "execution_count": 8,
      "metadata": {
        "id": "RETvFTXc5PBw"
      },
      "outputs": [],
      "source": [
        "rf_run = RandomForestRegressor(random_state=0, max_depth=30, min_samples_leaf=6, min_samples_split=12,n_estimators=100)\n",
        "LR1 = MultiOutputRegressor(rf_run).fit(train_x1, train_y1)"
      ]
    },
    {
      "cell_type": "code",
      "execution_count": 9,
      "metadata": {
        "colab": {
          "base_uri": "https://localhost:8080/"
        },
        "id": "EVQs2SbR5PBz",
        "outputId": "8ffcacfb-da40-45b4-9fb7-6a99fd3b5521"
      },
      "outputs": [
        {
          "output_type": "stream",
          "name": "stdout",
          "text": [
            "RMSE':0.7754067546256228\n"
          ]
        }
      ],
      "source": [
        "train_predict = LR1.predict(train_x1)\n",
        "print(\"RMSE':{}\".format(math.sqrt(mean_squared_error(train_predict, train_y1)))) ##훈련용데이터 대상 예측력1"
      ]
    },
    {
      "cell_type": "code",
      "execution_count": 10,
      "metadata": {
        "id": "aAxja7zE5PB0"
      },
      "outputs": [],
      "source": [
        "train_x2 = train_df2.filter(regex='X') # Input : X Featrue\n",
        "train_y2 = train_df2.filter(regex='Y') # Output : Y Feature"
      ]
    },
    {
      "cell_type": "code",
      "execution_count": 11,
      "metadata": {
        "id": "b6XoczGu5PB0"
      },
      "outputs": [],
      "source": [
        "rf_run = RandomForestRegressor(random_state=0, max_depth=30, min_samples_leaf=6, min_samples_split=12,n_estimators=100)\n",
        "LR2 = MultiOutputRegressor(rf_run).fit(train_x2, train_y2)"
      ]
    },
    {
      "cell_type": "code",
      "execution_count": 12,
      "metadata": {
        "colab": {
          "base_uri": "https://localhost:8080/"
        },
        "id": "zldFsnsU5PB1",
        "outputId": "48614a64-dd94-4b6b-fbb9-fb0e95f2ca0e"
      },
      "outputs": [
        {
          "output_type": "stream",
          "name": "stdout",
          "text": [
            "RMSE':0.7615187006015296\n"
          ]
        }
      ],
      "source": [
        "train_predict = LR2.predict(train_x2)\n",
        "print(\"RMSE':{}\".format(math.sqrt(mean_squared_error(train_predict, train_y2)))) ##훈련용데이터 대상 예측력2"
      ]
    },
    {
      "cell_type": "code",
      "execution_count": 13,
      "metadata": {
        "id": "hsWaY9AT5PB1"
      },
      "outputs": [],
      "source": [
        "train_x3 = train_df3.filter(regex='X') # Input : X Featrue\n",
        "train_y3 = train_df3.filter(regex='Y') # Output : Y Feature"
      ]
    },
    {
      "cell_type": "code",
      "execution_count": 14,
      "metadata": {
        "id": "uGvZVoOz5PB2"
      },
      "outputs": [],
      "source": [
        "rf_run = RandomForestRegressor(random_state=0, max_depth=30, min_samples_leaf=6, min_samples_split=12,n_estimators=100)\n",
        "LR3 = MultiOutputRegressor(rf_run).fit(train_x3, train_y3)"
      ]
    },
    {
      "cell_type": "code",
      "execution_count": 15,
      "metadata": {
        "colab": {
          "base_uri": "https://localhost:8080/"
        },
        "id": "5JcS6Zqn5PB2",
        "outputId": "fb0bdc02-aec0-4ca1-f7b3-3075029ee29e"
      },
      "outputs": [
        {
          "output_type": "stream",
          "name": "stdout",
          "text": [
            "RMSE':0.7251146437064266\n"
          ]
        }
      ],
      "source": [
        "train_predict = LR3.predict(train_x3)\n",
        "print(\"RMSE':{}\".format(math.sqrt(mean_squared_error(train_predict, train_y3)))) ##훈련용데이터 대상 예측력3"
      ]
    },
    {
      "cell_type": "code",
      "execution_count": 16,
      "metadata": {
        "id": "gzQLSq-E5PB3"
      },
      "outputs": [],
      "source": [
        "##test데이터 불러오기\n",
        "test_df = pd.read_csv('drive/MyDrive/Video/test.csv').drop(columns=['ID'])\n",
        "test_df.drop([ 'X_02', 'X_48', 'X_47', 'X_23', 'X_11', 'X_10', 'X_04'], inplace= True, axis=1) # 상관성 없는 컬럼 제거\n"
      ]
    },
    {
      "cell_type": "code",
      "execution_count": 17,
      "metadata": {
        "id": "G9-AXss65PB3"
      },
      "outputs": [],
      "source": [
        "test_df1 = test_df[test_df['X_49']<10000]\n",
        "test_df2 = test_df[test_df['X_49']>=10000]\n",
        "test_df2 = test_df2[test_df2['X_49']<50000]\n",
        "test_df3 = test_df[test_df['X_49']>=50000] ##test데이터 구간화"
      ]
    },
    {
      "cell_type": "code",
      "source": [
        "minmax_scaler =MinMaxScaler()\n",
        "test_df1 =minmax_scaler.fit_transform(test_df1)\n",
        "test_df2 =minmax_scaler.fit_transform(test_df2)\n",
        "test_df3 =minmax_scaler.fit_transform(test_df3)"
      ],
      "metadata": {
        "id": "QZjQwbhGCYAm"
      },
      "execution_count": null,
      "outputs": []
    },
    {
      "cell_type": "code",
      "execution_count": null,
      "metadata": {
        "id": "j5BO5awL5PB3",
        "outputId": "f063b627-f823-4023-cbf3-ad15649d77f0"
      },
      "outputs": [
        {
          "data": {
            "text/html": [
              "<div>\n",
              "<style scoped>\n",
              "    .dataframe tbody tr th:only-of-type {\n",
              "        vertical-align: middle;\n",
              "    }\n",
              "\n",
              "    .dataframe tbody tr th {\n",
              "        vertical-align: top;\n",
              "    }\n",
              "\n",
              "    .dataframe thead th {\n",
              "        text-align: right;\n",
              "    }\n",
              "</style>\n",
              "<table border=\"1\" class=\"dataframe\">\n",
              "  <thead>\n",
              "    <tr style=\"text-align: right;\">\n",
              "      <th></th>\n",
              "      <th>X_01</th>\n",
              "      <th>X_03</th>\n",
              "      <th>X_05</th>\n",
              "      <th>X_06</th>\n",
              "      <th>X_07</th>\n",
              "      <th>X_08</th>\n",
              "      <th>X_09</th>\n",
              "      <th>X_12</th>\n",
              "      <th>X_13</th>\n",
              "      <th>X_14</th>\n",
              "      <th>...</th>\n",
              "      <th>X_45</th>\n",
              "      <th>X_46</th>\n",
              "      <th>X_49</th>\n",
              "      <th>X_50</th>\n",
              "      <th>X_51</th>\n",
              "      <th>X_52</th>\n",
              "      <th>X_53</th>\n",
              "      <th>X_54</th>\n",
              "      <th>X_55</th>\n",
              "      <th>X_56</th>\n",
              "    </tr>\n",
              "  </thead>\n",
              "  <tbody>\n",
              "    <tr>\n",
              "      <th>232</th>\n",
              "      <td>72.583</td>\n",
              "      <td>65.57</td>\n",
              "      <td>103.158</td>\n",
              "      <td>72.943</td>\n",
              "      <td>27.32</td>\n",
              "      <td>134.37</td>\n",
              "      <td>196.75</td>\n",
              "      <td>4.32</td>\n",
              "      <td>0.12</td>\n",
              "      <td>13.38</td>\n",
              "      <td>...</td>\n",
              "      <td>0.17</td>\n",
              "      <td>1461</td>\n",
              "      <td>103341.63</td>\n",
              "      <td>129.287106</td>\n",
              "      <td>126.984982</td>\n",
              "      <td>135.065790</td>\n",
              "      <td>132.242575</td>\n",
              "      <td>125.948871</td>\n",
              "      <td>118.857060</td>\n",
              "      <td>120.722172</td>\n",
              "    </tr>\n",
              "    <tr>\n",
              "      <th>267</th>\n",
              "      <td>65.445</td>\n",
              "      <td>67.37</td>\n",
              "      <td>101.911</td>\n",
              "      <td>71.923</td>\n",
              "      <td>26.73</td>\n",
              "      <td>104.76</td>\n",
              "      <td>216.78</td>\n",
              "      <td>4.35</td>\n",
              "      <td>0.15</td>\n",
              "      <td>13.35</td>\n",
              "      <td>...</td>\n",
              "      <td>0.19</td>\n",
              "      <td>1469</td>\n",
              "      <td>103323.53</td>\n",
              "      <td>138.499707</td>\n",
              "      <td>134.043812</td>\n",
              "      <td>136.633356</td>\n",
              "      <td>138.875364</td>\n",
              "      <td>136.063457</td>\n",
              "      <td>145.803204</td>\n",
              "      <td>120.960003</td>\n",
              "    </tr>\n",
              "    <tr>\n",
              "      <th>275</th>\n",
              "      <td>69.524</td>\n",
              "      <td>62.97</td>\n",
              "      <td>103.148</td>\n",
              "      <td>69.884</td>\n",
              "      <td>26.74</td>\n",
              "      <td>133.88</td>\n",
              "      <td>204.43</td>\n",
              "      <td>4.36</td>\n",
              "      <td>0.14</td>\n",
              "      <td>13.36</td>\n",
              "      <td>...</td>\n",
              "      <td>0.22</td>\n",
              "      <td>1469</td>\n",
              "      <td>105865.13</td>\n",
              "      <td>128.124997</td>\n",
              "      <td>132.655277</td>\n",
              "      <td>144.380861</td>\n",
              "      <td>142.328825</td>\n",
              "      <td>124.663051</td>\n",
              "      <td>138.264538</td>\n",
              "      <td>125.151661</td>\n",
              "    </tr>\n",
              "    <tr>\n",
              "      <th>279</th>\n",
              "      <td>71.563</td>\n",
              "      <td>63.77</td>\n",
              "      <td>103.147</td>\n",
              "      <td>71.923</td>\n",
              "      <td>26.99</td>\n",
              "      <td>133.91</td>\n",
              "      <td>198.28</td>\n",
              "      <td>4.34</td>\n",
              "      <td>0.15</td>\n",
              "      <td>13.35</td>\n",
              "      <td>...</td>\n",
              "      <td>0.19</td>\n",
              "      <td>1469</td>\n",
              "      <td>106593.63</td>\n",
              "      <td>137.001591</td>\n",
              "      <td>130.688511</td>\n",
              "      <td>138.442728</td>\n",
              "      <td>137.772276</td>\n",
              "      <td>129.609455</td>\n",
              "      <td>129.503026</td>\n",
              "      <td>133.125782</td>\n",
              "    </tr>\n",
              "    <tr>\n",
              "      <th>280</th>\n",
              "      <td>73.603</td>\n",
              "      <td>68.57</td>\n",
              "      <td>103.153</td>\n",
              "      <td>73.963</td>\n",
              "      <td>27.49</td>\n",
              "      <td>132.55</td>\n",
              "      <td>200.24</td>\n",
              "      <td>4.36</td>\n",
              "      <td>0.16</td>\n",
              "      <td>13.39</td>\n",
              "      <td>...</td>\n",
              "      <td>0.10</td>\n",
              "      <td>1469</td>\n",
              "      <td>106948.23</td>\n",
              "      <td>144.770261</td>\n",
              "      <td>131.186817</td>\n",
              "      <td>143.536386</td>\n",
              "      <td>140.255941</td>\n",
              "      <td>135.148823</td>\n",
              "      <td>131.572293</td>\n",
              "      <td>138.542774</td>\n",
              "    </tr>\n",
              "    <tr>\n",
              "      <th>...</th>\n",
              "      <td>...</td>\n",
              "      <td>...</td>\n",
              "      <td>...</td>\n",
              "      <td>...</td>\n",
              "      <td>...</td>\n",
              "      <td>...</td>\n",
              "      <td>...</td>\n",
              "      <td>...</td>\n",
              "      <td>...</td>\n",
              "      <td>...</td>\n",
              "      <td>...</td>\n",
              "      <td>...</td>\n",
              "      <td>...</td>\n",
              "      <td>...</td>\n",
              "      <td>...</td>\n",
              "      <td>...</td>\n",
              "      <td>...</td>\n",
              "      <td>...</td>\n",
              "      <td>...</td>\n",
              "      <td>...</td>\n",
              "      <td>...</td>\n",
              "    </tr>\n",
              "    <tr>\n",
              "      <th>39603</th>\n",
              "      <td>68.504</td>\n",
              "      <td>63.97</td>\n",
              "      <td>103.157</td>\n",
              "      <td>68.864</td>\n",
              "      <td>29.49</td>\n",
              "      <td>116.35</td>\n",
              "      <td>284.16</td>\n",
              "      <td>4.35</td>\n",
              "      <td>0.14</td>\n",
              "      <td>13.38</td>\n",
              "      <td>...</td>\n",
              "      <td>0.11</td>\n",
              "      <td>1469</td>\n",
              "      <td>62123.53</td>\n",
              "      <td>127.741246</td>\n",
              "      <td>126.494312</td>\n",
              "      <td>139.119905</td>\n",
              "      <td>125.271109</td>\n",
              "      <td>128.284572</td>\n",
              "      <td>140.176945</td>\n",
              "      <td>128.292843</td>\n",
              "    </tr>\n",
              "    <tr>\n",
              "      <th>39604</th>\n",
              "      <td>68.504</td>\n",
              "      <td>61.37</td>\n",
              "      <td>103.137</td>\n",
              "      <td>68.864</td>\n",
              "      <td>32.29</td>\n",
              "      <td>116.28</td>\n",
              "      <td>272.41</td>\n",
              "      <td>4.34</td>\n",
              "      <td>0.16</td>\n",
              "      <td>13.37</td>\n",
              "      <td>...</td>\n",
              "      <td>0.19</td>\n",
              "      <td>1469</td>\n",
              "      <td>61844.13</td>\n",
              "      <td>127.767377</td>\n",
              "      <td>124.062809</td>\n",
              "      <td>138.238664</td>\n",
              "      <td>119.879393</td>\n",
              "      <td>127.322529</td>\n",
              "      <td>137.312047</td>\n",
              "      <td>131.570614</td>\n",
              "    </tr>\n",
              "    <tr>\n",
              "      <th>39605</th>\n",
              "      <td>69.524</td>\n",
              "      <td>63.67</td>\n",
              "      <td>103.149</td>\n",
              "      <td>69.884</td>\n",
              "      <td>30.00</td>\n",
              "      <td>113.05</td>\n",
              "      <td>295.54</td>\n",
              "      <td>4.38</td>\n",
              "      <td>0.16</td>\n",
              "      <td>13.36</td>\n",
              "      <td>...</td>\n",
              "      <td>0.12</td>\n",
              "      <td>1469</td>\n",
              "      <td>60277.53</td>\n",
              "      <td>128.593640</td>\n",
              "      <td>124.774037</td>\n",
              "      <td>138.659624</td>\n",
              "      <td>123.999571</td>\n",
              "      <td>126.075542</td>\n",
              "      <td>135.656132</td>\n",
              "      <td>127.671108</td>\n",
              "    </tr>\n",
              "    <tr>\n",
              "      <th>39606</th>\n",
              "      <td>67.485</td>\n",
              "      <td>61.77</td>\n",
              "      <td>103.148</td>\n",
              "      <td>67.845</td>\n",
              "      <td>32.05</td>\n",
              "      <td>115.05</td>\n",
              "      <td>267.26</td>\n",
              "      <td>4.37</td>\n",
              "      <td>0.16</td>\n",
              "      <td>13.38</td>\n",
              "      <td>...</td>\n",
              "      <td>0.11</td>\n",
              "      <td>1469</td>\n",
              "      <td>60236.73</td>\n",
              "      <td>121.110646</td>\n",
              "      <td>125.471699</td>\n",
              "      <td>134.989984</td>\n",
              "      <td>120.889578</td>\n",
              "      <td>129.296909</td>\n",
              "      <td>132.673977</td>\n",
              "      <td>131.882893</td>\n",
              "    </tr>\n",
              "    <tr>\n",
              "      <th>39607</th>\n",
              "      <td>71.563</td>\n",
              "      <td>63.07</td>\n",
              "      <td>103.158</td>\n",
              "      <td>71.923</td>\n",
              "      <td>31.14</td>\n",
              "      <td>102.22</td>\n",
              "      <td>215.85</td>\n",
              "      <td>4.36</td>\n",
              "      <td>0.16</td>\n",
              "      <td>13.38</td>\n",
              "      <td>...</td>\n",
              "      <td>0.13</td>\n",
              "      <td>1469</td>\n",
              "      <td>60680.73</td>\n",
              "      <td>134.263593</td>\n",
              "      <td>129.765515</td>\n",
              "      <td>139.681833</td>\n",
              "      <td>128.243391</td>\n",
              "      <td>131.757923</td>\n",
              "      <td>139.903401</td>\n",
              "      <td>121.479191</td>\n",
              "    </tr>\n",
              "  </tbody>\n",
              "</table>\n",
              "<p>484 rows × 49 columns</p>\n",
              "</div>"
            ],
            "text/plain": [
              "         X_01   X_03     X_05    X_06   X_07    X_08    X_09  X_12  X_13  \\\n",
              "232    72.583  65.57  103.158  72.943  27.32  134.37  196.75  4.32  0.12   \n",
              "267    65.445  67.37  101.911  71.923  26.73  104.76  216.78  4.35  0.15   \n",
              "275    69.524  62.97  103.148  69.884  26.74  133.88  204.43  4.36  0.14   \n",
              "279    71.563  63.77  103.147  71.923  26.99  133.91  198.28  4.34  0.15   \n",
              "280    73.603  68.57  103.153  73.963  27.49  132.55  200.24  4.36  0.16   \n",
              "...       ...    ...      ...     ...    ...     ...     ...   ...   ...   \n",
              "39603  68.504  63.97  103.157  68.864  29.49  116.35  284.16  4.35  0.14   \n",
              "39604  68.504  61.37  103.137  68.864  32.29  116.28  272.41  4.34  0.16   \n",
              "39605  69.524  63.67  103.149  69.884  30.00  113.05  295.54  4.38  0.16   \n",
              "39606  67.485  61.77  103.148  67.845  32.05  115.05  267.26  4.37  0.16   \n",
              "39607  71.563  63.07  103.158  71.923  31.14  102.22  215.85  4.36  0.16   \n",
              "\n",
              "        X_14  ...  X_45  X_46       X_49        X_50        X_51        X_52  \\\n",
              "232    13.38  ...  0.17  1461  103341.63  129.287106  126.984982  135.065790   \n",
              "267    13.35  ...  0.19  1469  103323.53  138.499707  134.043812  136.633356   \n",
              "275    13.36  ...  0.22  1469  105865.13  128.124997  132.655277  144.380861   \n",
              "279    13.35  ...  0.19  1469  106593.63  137.001591  130.688511  138.442728   \n",
              "280    13.39  ...  0.10  1469  106948.23  144.770261  131.186817  143.536386   \n",
              "...      ...  ...   ...   ...        ...         ...         ...         ...   \n",
              "39603  13.38  ...  0.11  1469   62123.53  127.741246  126.494312  139.119905   \n",
              "39604  13.37  ...  0.19  1469   61844.13  127.767377  124.062809  138.238664   \n",
              "39605  13.36  ...  0.12  1469   60277.53  128.593640  124.774037  138.659624   \n",
              "39606  13.38  ...  0.11  1469   60236.73  121.110646  125.471699  134.989984   \n",
              "39607  13.38  ...  0.13  1469   60680.73  134.263593  129.765515  139.681833   \n",
              "\n",
              "             X_53        X_54        X_55        X_56  \n",
              "232    132.242575  125.948871  118.857060  120.722172  \n",
              "267    138.875364  136.063457  145.803204  120.960003  \n",
              "275    142.328825  124.663051  138.264538  125.151661  \n",
              "279    137.772276  129.609455  129.503026  133.125782  \n",
              "280    140.255941  135.148823  131.572293  138.542774  \n",
              "...           ...         ...         ...         ...  \n",
              "39603  125.271109  128.284572  140.176945  128.292843  \n",
              "39604  119.879393  127.322529  137.312047  131.570614  \n",
              "39605  123.999571  126.075542  135.656132  127.671108  \n",
              "39606  120.889578  129.296909  132.673977  131.882893  \n",
              "39607  128.243391  131.757923  139.903401  121.479191  \n",
              "\n",
              "[484 rows x 49 columns]"
            ]
          },
          "execution_count": 20,
          "metadata": {},
          "output_type": "execute_result"
        }
      ],
      "source": [
        "test_df3"
      ]
    },
    {
      "cell_type": "code",
      "execution_count": 18,
      "metadata": {
        "id": "DGPllbUy5PB4"
      },
      "outputs": [],
      "source": [
        "df1_index = test_df1.index\n",
        "df2_index = test_df2.index\n",
        "df3_index = test_df3.index #인덱싱해주기"
      ]
    },
    {
      "cell_type": "code",
      "execution_count": null,
      "metadata": {
        "id": "ed8CjwkG5PB4",
        "outputId": "b345f0a7-032a-4729-886f-6b83bac9b8a4"
      },
      "outputs": [
        {
          "data": {
            "text/plain": [
              "Int64Index([   11,    23,    31,    65,    66,    76,    77,   153,   226,\n",
              "              254,\n",
              "            ...\n",
              "            39549, 39550, 39552, 39553, 39580, 39583, 39588, 39589, 39591,\n",
              "            39592],\n",
              "           dtype='int64', length=1874)"
            ]
          },
          "execution_count": 22,
          "metadata": {},
          "output_type": "execute_result"
        }
      ],
      "source": [
        ""
      ]
    },
    {
      "cell_type": "code",
      "execution_count": 19,
      "metadata": {
        "colab": {
          "base_uri": "https://localhost:8080/"
        },
        "id": "UInnnZMZ5PB4",
        "outputId": "3853440b-8d4b-4c85-acaa-d03bd2f2818f"
      },
      "outputs": [
        {
          "output_type": "stream",
          "name": "stdout",
          "text": [
            "Done.\n"
          ]
        }
      ],
      "source": [
        "pred1 = LR1.predict(test_df1)\n",
        "print('Done.')"
      ]
    },
    {
      "cell_type": "code",
      "execution_count": 20,
      "metadata": {
        "id": "oC0o_7DE5PB5"
      },
      "outputs": [],
      "source": [
        "pred1 = pd.DataFrame(pred1) ##데이터프레임으로 변환한 후 인덱싱 해주는 작업"
      ]
    },
    {
      "cell_type": "code",
      "execution_count": 21,
      "metadata": {
        "id": "w9hD6kqT5PB5"
      },
      "outputs": [],
      "source": [
        "pred1.index = df1_index"
      ]
    },
    {
      "cell_type": "code",
      "execution_count": 22,
      "metadata": {
        "id": "1VxA2FKq5PB5"
      },
      "outputs": [],
      "source": [
        "pred2 = LR2.predict(test_df2)"
      ]
    },
    {
      "cell_type": "code",
      "execution_count": 23,
      "metadata": {
        "id": "-A2CpGo95PB6"
      },
      "outputs": [],
      "source": [
        "pred2 = pd.DataFrame(pred2)"
      ]
    },
    {
      "cell_type": "code",
      "execution_count": 24,
      "metadata": {
        "id": "5bf5D5tm5PB6"
      },
      "outputs": [],
      "source": [
        "pred2.index =df2_index"
      ]
    },
    {
      "cell_type": "code",
      "execution_count": 25,
      "metadata": {
        "id": "0GfERfFp5PB6"
      },
      "outputs": [],
      "source": [
        "pred3 = LR3.predict(test_df3)"
      ]
    },
    {
      "cell_type": "code",
      "execution_count": 26,
      "metadata": {
        "id": "e_FAizsl5PB6"
      },
      "outputs": [],
      "source": [
        "pred3 = pd.DataFrame(pred3)"
      ]
    },
    {
      "cell_type": "code",
      "execution_count": 27,
      "metadata": {
        "id": "1kCntCTt5PB6"
      },
      "outputs": [],
      "source": [
        "pred3.index = df3_index"
      ]
    },
    {
      "cell_type": "code",
      "execution_count": 31,
      "metadata": {
        "id": "KYLv4aMO5PB7"
      },
      "outputs": [],
      "source": [
        "pred = pd.concat([pred1,pred2,pred3])"
      ]
    },
    {
      "cell_type": "code",
      "execution_count": 29,
      "metadata": {
        "id": "mlJ9UuvO5PB7"
      },
      "outputs": [],
      "source": [
        ""
      ]
    },
    {
      "cell_type": "code",
      "execution_count": 32,
      "metadata": {
        "id": "G9sQgjWw5PB7"
      },
      "outputs": [],
      "source": [
        "pred = pred.sort_index(ascending=True) ##인덱스 순서대로 오름차순 정렬"
      ]
    },
    {
      "cell_type": "code",
      "execution_count": 34,
      "metadata": {
        "id": "5HFFiJF45PB7"
      },
      "outputs": [],
      "source": [
        "pred = np.array(pred)"
      ]
    },
    {
      "cell_type": "code",
      "execution_count": 35,
      "metadata": {
        "colab": {
          "base_uri": "https://localhost:8080/"
        },
        "id": "K5fO6aGe5PB7",
        "outputId": "f00b03e0-2df7-4fdf-adab-19f2267be5f5"
      },
      "outputs": [
        {
          "output_type": "execute_result",
          "data": {
            "text/plain": [
              "array([[  1.41742301,   1.20238742,   1.11912007, ..., -26.05352871,\n",
              "        -26.06647827, -26.10598159],\n",
              "       [  1.45916841,   1.18648807,   1.16958203, ..., -26.11372357,\n",
              "        -26.10349221, -26.08907693],\n",
              "       [  1.37431901,   1.14141772,   1.0472977 , ..., -25.8467667 ,\n",
              "        -25.83490272, -25.77834828],\n",
              "       ...,\n",
              "       [  1.17838178,   0.89080401,   0.99531983, ..., -26.44048798,\n",
              "        -26.42375403, -26.48474597],\n",
              "       [  1.19645153,   0.92473881,   1.01011571, ..., -26.51081251,\n",
              "        -26.48159767, -26.52208101],\n",
              "       [  1.3165944 ,   1.01961775,   0.96018994, ..., -26.52697676,\n",
              "        -26.4619248 , -26.45063934]])"
            ]
          },
          "metadata": {},
          "execution_count": 35
        }
      ],
      "source": [
        "pred"
      ]
    },
    {
      "cell_type": "code",
      "execution_count": 37,
      "metadata": {
        "id": "55UoW_6n5PB8"
      },
      "outputs": [],
      "source": [
        "submit = pd.read_csv('drive/MyDrive/Video/sample_submission.csv')"
      ]
    },
    {
      "cell_type": "code",
      "execution_count": 38,
      "metadata": {
        "colab": {
          "base_uri": "https://localhost:8080/"
        },
        "id": "S9IoAgK95PB8",
        "outputId": "390f8b46-1242-472e-97ad-1cf706b43881"
      },
      "outputs": [
        {
          "output_type": "stream",
          "name": "stdout",
          "text": [
            "Done.\n"
          ]
        }
      ],
      "source": [
        "for idx, col in enumerate(submit.columns):\n",
        "    if col=='ID':\n",
        "        continue\n",
        "    submit[col] = pred[:,idx-1]\n",
        "print('Done.')"
      ]
    },
    {
      "cell_type": "code",
      "execution_count": 39,
      "metadata": {
        "id": "PP77Rfii5PB8"
      },
      "outputs": [],
      "source": [
        "submit.to_csv('./rfbin2.csv', index=False)"
      ]
    },
    {
      "cell_type": "code",
      "execution_count": null,
      "metadata": {
        "id": "QwibOaYB5PB9"
      },
      "outputs": [],
      "source": [
        "from sklearn.model_selection import GridSearchCV\n",
        " \n",
        "param_grid = [\n",
        "        {'n_estimators': [ 100, 150, 200], 'min_samples_leaf': [4,6,8], 'min_samples_split': [10,12,15], 'max_depth':[30,35]}\n",
        "        \n",
        "    ]\n",
        "forest_reg = RandomForestRegressor()\n",
        " \n",
        "grid_search = GridSearchCV(forest_reg, param_grid, cv=5,\n",
        "                           scoring='neg_mean_squared_error',\n",
        "                           return_train_score=True)\n",
        " \n",
        "grid_search.fit(train_x2, train_y2)"
      ]
    },
    {
      "cell_type": "code",
      "source": [
        "print(grid_search.best_params_)"
      ],
      "metadata": {
        "id": "1fRk6rA3Cz0X"
      },
      "execution_count": null,
      "outputs": []
    }
  ],
  "metadata": {
    "kernelspec": {
      "display_name": "Python 3.8.7rc1 64-bit",
      "language": "python",
      "name": "python3"
    },
    "language_info": {
      "codemirror_mode": {
        "name": "ipython",
        "version": 3
      },
      "file_extension": ".py",
      "mimetype": "text/x-python",
      "name": "python",
      "nbconvert_exporter": "python",
      "pygments_lexer": "ipython3",
      "version": "3.8.7rc1"
    },
    "orig_nbformat": 4,
    "vscode": {
      "interpreter": {
        "hash": "f544ce1a915a9875fad91c894e2c0bcad4b7a79945aa6027ef3ad27810072aa6"
      }
    },
    "colab": {
      "name": "변수나눠주기.ipynb",
      "provenance": [],
      "collapsed_sections": [],
      "machine_shape": "hm"
    },
    "gpuClass": "standard"
  },
  "nbformat": 4,
  "nbformat_minor": 0
}